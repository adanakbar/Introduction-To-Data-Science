{
 "cells": [
  {
   "cell_type": "markdown",
   "id": "1124575a-875b-493d-bd40-47f1645e80b5",
   "metadata": {},
   "source": [
    "# Part3"
   ]
  },
  {
   "cell_type": "markdown",
   "id": "c8f0e8a2-5716-4a82-8391-482cafa5f6a4",
   "metadata": {},
   "source": [
    "## Common Visitors Of Page A and B"
   ]
  },
  {
   "cell_type": "code",
   "execution_count": 126,
   "id": "c0060660-6591-4b6c-9d74-65c38ede7498",
   "metadata": {},
   "outputs": [
    {
     "name": "stdout",
     "output_type": "stream",
     "text": [
      "Visitors of both page A and B {'user3', 'user4'}\n"
     ]
    }
   ],
   "source": [
    "page_a = {'user1', 'user2', 'user3', 'user4'}\n",
    "page_b = {'user3', 'user4', 'user5', 'user6'}\n",
    "page_c = {'user2', 'user4', 'user6', 'user7'}\n",
    "\n",
    "def common(page_a, page_b):\n",
    "\n",
    "    return page_a.intersection(page_b)\n",
    "\n",
    "common_users = common(page_a, page_b)\n",
    "print(\"Visitors of both page A and B:\", common_users)\n"
   ]
  },
  {
   "cell_type": "markdown",
   "id": "405b2940-cc86-4c66-a45f-50bcc80c28b3",
   "metadata": {},
   "source": [
    "## Visited Either Page A or Page C But Not Both"
   ]
  },
  {
   "cell_type": "code",
   "execution_count": 129,
   "id": "0a904160-4fe5-4c4a-8013-a9e274f0d3f9",
   "metadata": {},
   "outputs": [
    {
     "name": "stdout",
     "output_type": "stream",
     "text": [
      "Visitors of either page but nit both: {'user7', 'user6', 'user3', 'user1'}\n"
     ]
    }
   ],
   "source": [
    "def visited_either_not_both(page_a, page_c):\n",
    "\n",
    "    return page_a.symmetric_difference(page_c)\n",
    "\n",
    "either_users = visited_either_not_both(page_a, page_c)\n",
    "print(\"Visitors of either page but nit both:\", either_users)"
   ]
  },
  {
   "cell_type": "markdown",
   "id": "171ec31f-b62e-4f98-8b06-958e251205e3",
   "metadata": {},
   "source": [
    "## Update Page A"
   ]
  },
  {
   "cell_type": "code",
   "execution_count": 136,
   "id": "f362bc66-3606-455d-a959-2833dd942690",
   "metadata": {},
   "outputs": [
    {
     "name": "stdout",
     "output_type": "stream",
     "text": [
      "Updated Set: {'user3', 'user4', 'user1', 'user2', 'user5'}\n"
     ]
    }
   ],
   "source": [
    "def update_page_a(page_a, new_user):\n",
    "\n",
    "    page_a.update(new_user)\n",
    "    return page_a\n",
    "    \n",
    "new_users_ids = {'user4', 'user5', 'user2'}\n",
    "new_page_a = update_page_a(page_a, new_users_ids)\n",
    "print(f\"Updated Set: {new_page_a}\")"
   ]
  },
  {
   "cell_type": "markdown",
   "id": "d177dbe7-bf24-4906-9ad1-f1cbacadc229",
   "metadata": {},
   "source": [
    "## Remove User IDS From Page B"
   ]
  },
  {
   "cell_type": "code",
   "execution_count": 143,
   "id": "c992ecd2-6b2e-4ee9-81df-6d337919d32d",
   "metadata": {},
   "outputs": [
    {
     "name": "stdout",
     "output_type": "stream",
     "text": [
      "Updated Set After Removing: {'user3', 'user4'}\n"
     ]
    }
   ],
   "source": [
    "def remove_ids(page_b, rem_ids):\n",
    "\n",
    "    page_b.difference_update(rem_ids)\n",
    "    return page_b\n",
    "    \n",
    "rem_ids = {'user5','user6'}\n",
    "new_page_b = remove_ids(page_b, rem_ids)\n",
    "print(f\"Updated Set After Removing: {new_page_b}\")"
   ]
  }
 ],
 "metadata": {
  "kernelspec": {
   "display_name": "Python 3 (ipykernel)",
   "language": "python",
   "name": "python3"
  },
  "language_info": {
   "codemirror_mode": {
    "name": "ipython",
    "version": 3
   },
   "file_extension": ".py",
   "mimetype": "text/x-python",
   "name": "python",
   "nbconvert_exporter": "python",
   "pygments_lexer": "ipython3",
   "version": "3.12.4"
  }
 },
 "nbformat": 4,
 "nbformat_minor": 5
}
