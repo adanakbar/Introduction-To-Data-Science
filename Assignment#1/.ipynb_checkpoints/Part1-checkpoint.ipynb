{
 "cells": [
  {
   "cell_type": "markdown",
   "id": "482159b1-b396-4760-8bfe-d49ed9c0e084",
   "metadata": {},
   "source": [
    "# Part1"
   ]
  },
  {
   "cell_type": "markdown",
   "id": "8ad2e34e-38f5-4c7f-b13f-f89870af9a74",
   "metadata": {},
   "source": [
    "## Filtering Data On The Basis Of Age And Country"
   ]
  },
  {
   "cell_type": "code",
   "execution_count": 95,
   "id": "991193be-439f-42b3-afb5-139567fb2fd9",
   "metadata": {},
   "outputs": [
    {
     "name": "stdout",
     "output_type": "stream",
     "text": [
      "['Bob', 'Charlie', 'Eve', 'Heidi', 'Ivan', 'Judy']\n"
     ]
    }
   ],
   "source": [
    "data = [\n",
    "    (1, 'Frank', 25, 'USA'),(2, 'Bob', 35, 'Canada'),(3, 'Charlie', 40, 'USA'),(4, 'David', 28, 'Mexico'),\n",
    "    (5, 'Eve', 32, 'Canada'),\n",
    "    (6, 'Frank', 36, 'Germany'),(7, 'Grace', 29, 'USA'),(8, 'Heidi', 33, 'Canada'),(9, 'Ivan', 45, 'USA'),(10, 'Judy', 31, 'USA'),\n",
    "]\n",
    "\n",
    "def extract(users):\n",
    "    names= []\n",
    "    for user in data:\n",
    "        user_id, user_name, age, country=user\n",
    "        if age > 30 and (country == 'USA' or country =='Canada'):\n",
    "            names.append(user_name)\n",
    "    return names\n",
    "older_names= extract(data)\n",
    "print(older_names)"
   ]
  },
  {
   "cell_type": "markdown",
   "id": "6a270444-62f2-4b3b-a359-be295041c521",
   "metadata": {},
   "source": [
    "## Top 10 Oldest Users"
   ]
  },
  {
   "cell_type": "code",
   "execution_count": 9,
   "id": "e63a2662-a57f-4b71-bf01-d91c39fd76ea",
   "metadata": {},
   "outputs": [
    {
     "name": "stdout",
     "output_type": "stream",
     "text": [
      "[(9, 'Ivan', 45, 'USA'), (3, 'Charlie', 40, 'USA'), (6, 'Frank', 36, 'Germany'), (2, 'Bob', 35, 'Canada'), (8, 'Heidi', 33, 'Canada'), (5, 'Eve', 32, 'Canada'), (10, 'Judy', 31, 'USA'), (7, 'Grace', 29, 'USA'), (4, 'David', 28, 'Mexico'), (1, 'Frank', 25, 'USA')]\n"
     ]
    }
   ],
   "source": [
    "def age(user):\n",
    "    return user[2]\n",
    "\n",
    "def top_10_by_age(data):\n",
    "    top = sorted(data, key = age, reverse = True)\n",
    "    top_10 = top[:10]\n",
    "    return top_10\n",
    "\n",
    "sorted_top_10 = top_10_by_age(data)\n",
    "print(sorted_top_10)"
   ]
  },
  {
   "cell_type": "markdown",
   "id": "3d474d8b-a430-4cb9-8878-631cca92aaaa",
   "metadata": {},
   "source": [
    "## Users With Duplicate Names"
   ]
  },
  {
   "cell_type": "code",
   "execution_count": 7,
   "id": "dfb1b9e5-dc19-4070-838f-ee3c2f71bd3a",
   "metadata": {},
   "outputs": [
    {
     "name": "stdout",
     "output_type": "stream",
     "text": [
      "{'Frank'}\n"
     ]
    }
   ],
   "source": [
    "def duplicate_users(data):\n",
    "    duplicate = set()\n",
    "    already_traversed = []\n",
    "    for user in data:\n",
    "        user_id, user_name, age, country=user\n",
    "        if user_name in already_traversed:\n",
    "            duplicate.add(user_name)\n",
    "        else:\n",
    "            already_traversed.append(user_name)\n",
    "    return duplicate\n",
    "\n",
    "dup = duplicate_users(data)\n",
    "print(dup)"
   ]
  }
 ],
 "metadata": {
  "kernelspec": {
   "display_name": "Python 3 (ipykernel)",
   "language": "python",
   "name": "python3"
  },
  "language_info": {
   "codemirror_mode": {
    "name": "ipython",
    "version": 3
   },
   "file_extension": ".py",
   "mimetype": "text/x-python",
   "name": "python",
   "nbconvert_exporter": "python",
   "pygments_lexer": "ipython3",
   "version": "3.12.4"
  }
 },
 "nbformat": 4,
 "nbformat_minor": 5
}
