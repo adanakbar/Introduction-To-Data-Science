{
 "cells": [
  {
   "cell_type": "markdown",
   "id": "f7ccfea8-423f-4cac-aa90-a41981e601d0",
   "metadata": {},
   "source": [
    "# Part4"
   ]
  },
  {
   "cell_type": "markdown",
   "id": "5c07f0c5-9420-490a-a185-5969bfa7b2cf",
   "metadata": {},
   "source": [
    "## High Rated Users"
   ]
  },
  {
   "cell_type": "code",
   "execution_count": 157,
   "id": "6f65d6be-d4ed-4c75-89b1-5e095e1ec924",
   "metadata": {},
   "outputs": [
    {
     "name": "stdout",
     "output_type": "stream",
     "text": [
      "Hight Rated Users : {101: 5, 103: 4, 105: 4, 106: 5}\n"
     ]
    }
   ],
   "source": [
    "data = {\n",
    "    101: {'rating': 5, 'comments': 'Excellent service!'},\n",
    "    102: {'rating': 3, 'comments': 'It was okay.'},\n",
    "    103: {'rating': 4, 'comments': 'Very good experience.'},\n",
    "    104: {'rating': 2, 'comments': 'Not what I expected.'},\n",
    "    105: {'rating': 4, 'comments': 'Pretty good overall.'},\n",
    "    106: {'rating': 5, 'comments': 'Absolutely fantastic! Highly recommend!'},\n",
    "}\n",
    "\n",
    "def high_users(data):\n",
    "    new_dic= {}\n",
    "    for user_id, description in data.items():\n",
    "        if description['rating'] >= 4:\n",
    "            new_dic[user_id] = description['rating']\n",
    "    return new_dic\n",
    "\n",
    "rated_users = high_users(data)\n",
    "print(f\"Hight Rated Users : {rated_users}\")\n"
   ]
  },
  {
   "cell_type": "markdown",
   "id": "a75aa48e-7e78-4e57-b6a4-ce1545beda76",
   "metadata": {},
   "source": [
    "## Sort By Rating In Descending Order And Return Top 5"
   ]
  },
  {
   "cell_type": "code",
   "execution_count": 169,
   "id": "b6bbc55a-c6d5-40e1-9745-f5406a933ea9",
   "metadata": {},
   "outputs": [
    {
     "name": "stdout",
     "output_type": "stream",
     "text": [
      "Top 5 Users by Rating: [(101, {'rating': 5, 'comments': 'Excellent service!'}), (106, {'rating': 5, 'comments': 'Absolutely fantastic! Highly recommend!'}), (103, {'rating': 4, 'comments': 'Very good experience.'}), (105, {'rating': 4, 'comments': 'Pretty good overall.'}), (102, {'rating': 3, 'comments': 'It was okay.'})]\n"
     ]
    }
   ],
   "source": [
    "def rating(record):\n",
    "    return record[1]['rating']\n",
    "\n",
    "def sort_rating(data):\n",
    "\n",
    "    sorted_dict = sorted(data.items(), key=rating, reverse=True)\n",
    "    top = sorted_dict[:5]\n",
    "    return top\n",
    "\n",
    "\n",
    "top_rating = sort_rating(data)\n",
    "print(\"Top 5 Users by Rating:\", top_rating)\n"
   ]
  },
  {
   "cell_type": "markdown",
   "id": "c1c1135c-de1e-4c28-976c-ef63a134b22c",
   "metadata": {},
   "source": [
    "## Combining Dictionaries"
   ]
  },
  {
   "cell_type": "code",
   "execution_count": 179,
   "id": "32f1ca90-65fe-41b7-a6da-7d92ca705157",
   "metadata": {},
   "outputs": [
    {
     "name": "stdout",
     "output_type": "stream",
     "text": [
      "Combined Dict: {101: {'rating': 5, 'comments': 'Excellent service!|Could be better.'}, 102: {'rating': 4, 'comments': 'It was okay.|Pretty good!'}, 103: {'rating': 5, 'comments': 'Loved it!'}, 104: {'rating': 2, 'comments': 'Not great.'}}\n"
     ]
    }
   ],
   "source": [
    "def combine(*dict):\n",
    "    new_dict ={}\n",
    "    for dictionary in dict:\n",
    "        for user_id, description in dictionary.items():\n",
    "            if user_id in new_dict:\n",
    "                new_dict[user_id]['rating'] = max(new_dict[user_id]['rating'], description['rating'])\n",
    "                new_dict[user_id]['comments'] += \"|\" + description['comments']\n",
    "            else:\n",
    "                new_dict[user_id] = {'rating' :description['rating'], 'comments': description['comments'] }\n",
    "    return new_dict\n",
    "\n",
    "dict1 = {101: {'rating': 5, 'comments': 'Excellent service!'},102: {'rating': 3, 'comments': 'It was okay.'}}\n",
    "dict2 = {101: {'rating': 4, 'comments': 'Could be better.'},103: {'rating': 5, 'comments': 'Loved it!'}}\n",
    "dict3 = {102: {'rating': 4, 'comments': 'Pretty good!'},104: {'rating': 2, 'comments': 'Not great.'}}\n",
    "\n",
    "combined_dict = combine(dict1, dict2, dict3)\n",
    "print(f\"Combined Dict: {combined_dict}\")"
   ]
  },
  {
   "cell_type": "markdown",
   "id": "8aa670cc-149b-46ed-9711-4f92c07b4240",
   "metadata": {},
   "source": [
    "## Filter High Rated User Using Dict Comprehension"
   ]
  },
  {
   "cell_type": "code",
   "execution_count": 183,
   "id": "a94839b7-af12-472f-948b-5c8e31e517f8",
   "metadata": {},
   "outputs": [
    {
     "name": "stdout",
     "output_type": "stream",
     "text": [
      "Users with rating greater than 3: {101: 5, 103: 4, 105: 4, 106: 5}\n"
     ]
    }
   ],
   "source": [
    "def grater_than_3_rating(data):\n",
    "    \n",
    "    high_rating= {user_id : description['rating'] for user_id, description in data.items() if description['rating'] >3} \n",
    "    return high_rating\n",
    "\n",
    "rating_high = grater_than_3_rating(data)\n",
    "print(f\"Users with rating greater than 3: {rating_high}\")\n",
    "    "
   ]
  }
 ],
 "metadata": {
  "kernelspec": {
   "display_name": "Python 3 (ipykernel)",
   "language": "python",
   "name": "python3"
  },
  "language_info": {
   "codemirror_mode": {
    "name": "ipython",
    "version": 3
   },
   "file_extension": ".py",
   "mimetype": "text/x-python",
   "name": "python",
   "nbconvert_exporter": "python",
   "pygments_lexer": "ipython3",
   "version": "3.12.4"
  }
 },
 "nbformat": 4,
 "nbformat_minor": 5
}
