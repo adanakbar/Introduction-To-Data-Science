{
 "cells": [
  {
   "cell_type": "markdown",
   "id": "a559b06d-63da-4ed8-99e2-6b85d0a50911",
   "metadata": {},
   "source": [
    "# Part2"
   ]
  },
  {
   "cell_type": "markdown",
   "id": "0c801254-8fe6-448d-9ba1-e90fe42bebb4",
   "metadata": {},
   "source": [
    "## Count Of Unique Users"
   ]
  },
  {
   "cell_type": "code",
   "execution_count": 16,
   "id": "e98599a8-d0c8-418e-94a1-7475132afcc3",
   "metadata": {},
   "outputs": [
    {
     "name": "stdout",
     "output_type": "stream",
     "text": [
      "Number Of Unique Users: 4\n"
     ]
    }
   ],
   "source": [
    "data = [\n",
    "    (1, 'user1', 100.50, '2024-10-01 10:00:00'),(2, 'user2', 250.75, '2024-10-01 10:05:00'),(3, 'user1', 300.00, '2024-10-01 10:10:00'),\n",
    "    (4, 'user3', 150.25, '2024-10-01 10:15:00'),(5, 'user4', 450.00, '2024-10-01 10:20:00'),(6, 'user2', 500.00, '2024-10-01 10:25:00'),\n",
    "]\n",
    "\n",
    "def unique_users(data):\n",
    "    count_of_users= set()\n",
    "    for transaction in data:\n",
    "        trans_id, user_id, amount, time = transaction\n",
    "        count_of_users.add(user_id)\n",
    "\n",
    "    return len(count_of_users)\n",
    "\n",
    "unique = unique_users(data)\n",
    "print(\"Number Of Unique Users:\", unique)\n",
    "        \n"
   ]
  },
  {
   "cell_type": "markdown",
   "id": "0169c26c-7fd2-4750-a978-1e5aa26cc42d",
   "metadata": {},
   "source": [
    "## Trasaction With Highest Amount"
   ]
  },
  {
   "cell_type": "code",
   "execution_count": 26,
   "id": "a076f16a-28fc-4b33-a0e8-08f1a0598df4",
   "metadata": {},
   "outputs": [
    {
     "name": "stdout",
     "output_type": "stream",
     "text": [
      "Transaction With Highest Amount: (6, 'user2', 500.0, '2024-10-01 10:25:00')\n"
     ]
    }
   ],
   "source": [
    "def amount(transaction):\n",
    "    return transaction[2]\n",
    "    \n",
    "def highest_amount(data):\n",
    "    max_tran = max(data, key = amount)\n",
    "    return max_tran\n",
    "\n",
    "highest_transaction = highest_amount(data)\n",
    "print(\"Transaction With Highest Amount:\", highest_transaction)\n",
    "\n",
    "    "
   ]
  },
  {
   "cell_type": "markdown",
   "id": "b000817b-e0e7-49db-a4b9-a70ae8790057",
   "metadata": {},
   "source": [
    "## Lists Of Transaction_IDS And User_IDS"
   ]
  },
  {
   "cell_type": "code",
   "execution_count": 29,
   "id": "439dacfe-ba6d-4654-b2f7-72fcd617b945",
   "metadata": {},
   "outputs": [
    {
     "name": "stdout",
     "output_type": "stream",
     "text": [
      "Transaction IDS: [1, 2, 3, 4, 5, 6]\n",
      "User IDS: ['user1', 'user2', 'user1', 'user3', 'user4', 'user2']\n"
     ]
    }
   ],
   "source": [
    "def lists(data):\n",
    "    trans_ids = []\n",
    "    user_ids = []\n",
    "    for transaction in data:\n",
    "        trans_id, user_id, amount, time = transaction\n",
    "        trans_ids.append(trans_id)\n",
    "        user_ids.append(user_id)\n",
    "\n",
    "    return trans_ids, user_ids\n",
    "\n",
    "transaction_ids, user_ids = lists(data)\n",
    "print(\"Transaction IDS:\", transaction_ids)\n",
    "print(\"User IDS:\", user_ids)"
   ]
  }
 ],
 "metadata": {
  "kernelspec": {
   "display_name": "Python 3 (ipykernel)",
   "language": "python",
   "name": "python3"
  },
  "language_info": {
   "codemirror_mode": {
    "name": "ipython",
    "version": 3
   },
   "file_extension": ".py",
   "mimetype": "text/x-python",
   "name": "python",
   "nbconvert_exporter": "python",
   "pygments_lexer": "ipython3",
   "version": "3.12.4"
  }
 },
 "nbformat": 4,
 "nbformat_minor": 5
}
