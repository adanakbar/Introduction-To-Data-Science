{
 "cells": [
  {
   "cell_type": "code",
   "execution_count": 17,
   "id": "61c2145a-0047-4597-915b-e342fa4f5cf3",
   "metadata": {},
   "outputs": [
    {
     "ename": "FileNotFoundError",
     "evalue": "[Errno 2] No such file or directory: 'customer.csv'",
     "output_type": "error",
     "traceback": [
      "\u001b[1;31m---------------------------------------------------------------------------\u001b[0m",
      "\u001b[1;31mFileNotFoundError\u001b[0m                         Traceback (most recent call last)",
      "Cell \u001b[1;32mIn[17], line 5\u001b[0m\n\u001b[0;32m      2\u001b[0m \u001b[38;5;28;01mimport\u001b[39;00m \u001b[38;5;21;01mpandas\u001b[39;00m \u001b[38;5;28;01mas\u001b[39;00m \u001b[38;5;21;01mpd\u001b[39;00m\n\u001b[0;32m      4\u001b[0m \u001b[38;5;66;03m# Load the datasets\u001b[39;00m\n\u001b[1;32m----> 5\u001b[0m customer_df \u001b[38;5;241m=\u001b[39m pd\u001b[38;5;241m.\u001b[39mread_csv(\u001b[38;5;124m'\u001b[39m\u001b[38;5;124mcustomer.csv\u001b[39m\u001b[38;5;124m'\u001b[39m)\n\u001b[0;32m      6\u001b[0m sales_df \u001b[38;5;241m=\u001b[39m pd\u001b[38;5;241m.\u001b[39mread_csv(\u001b[38;5;124m'\u001b[39m\u001b[38;5;124msales.csv\u001b[39m\u001b[38;5;124m'\u001b[39m)\n\u001b[0;32m      8\u001b[0m \u001b[38;5;66;03m# Display the first few rows of each dataset\u001b[39;00m\n",
      "File \u001b[1;32mD:\\Anaconda\\Lib\\site-packages\\pandas\\io\\parsers\\readers.py:1026\u001b[0m, in \u001b[0;36mread_csv\u001b[1;34m(filepath_or_buffer, sep, delimiter, header, names, index_col, usecols, dtype, engine, converters, true_values, false_values, skipinitialspace, skiprows, skipfooter, nrows, na_values, keep_default_na, na_filter, verbose, skip_blank_lines, parse_dates, infer_datetime_format, keep_date_col, date_parser, date_format, dayfirst, cache_dates, iterator, chunksize, compression, thousands, decimal, lineterminator, quotechar, quoting, doublequote, escapechar, comment, encoding, encoding_errors, dialect, on_bad_lines, delim_whitespace, low_memory, memory_map, float_precision, storage_options, dtype_backend)\u001b[0m\n\u001b[0;32m   1013\u001b[0m kwds_defaults \u001b[38;5;241m=\u001b[39m _refine_defaults_read(\n\u001b[0;32m   1014\u001b[0m     dialect,\n\u001b[0;32m   1015\u001b[0m     delimiter,\n\u001b[1;32m   (...)\u001b[0m\n\u001b[0;32m   1022\u001b[0m     dtype_backend\u001b[38;5;241m=\u001b[39mdtype_backend,\n\u001b[0;32m   1023\u001b[0m )\n\u001b[0;32m   1024\u001b[0m kwds\u001b[38;5;241m.\u001b[39mupdate(kwds_defaults)\n\u001b[1;32m-> 1026\u001b[0m \u001b[38;5;28;01mreturn\u001b[39;00m _read(filepath_or_buffer, kwds)\n",
      "File \u001b[1;32mD:\\Anaconda\\Lib\\site-packages\\pandas\\io\\parsers\\readers.py:620\u001b[0m, in \u001b[0;36m_read\u001b[1;34m(filepath_or_buffer, kwds)\u001b[0m\n\u001b[0;32m    617\u001b[0m _validate_names(kwds\u001b[38;5;241m.\u001b[39mget(\u001b[38;5;124m\"\u001b[39m\u001b[38;5;124mnames\u001b[39m\u001b[38;5;124m\"\u001b[39m, \u001b[38;5;28;01mNone\u001b[39;00m))\n\u001b[0;32m    619\u001b[0m \u001b[38;5;66;03m# Create the parser.\u001b[39;00m\n\u001b[1;32m--> 620\u001b[0m parser \u001b[38;5;241m=\u001b[39m TextFileReader(filepath_or_buffer, \u001b[38;5;241m*\u001b[39m\u001b[38;5;241m*\u001b[39mkwds)\n\u001b[0;32m    622\u001b[0m \u001b[38;5;28;01mif\u001b[39;00m chunksize \u001b[38;5;129;01mor\u001b[39;00m iterator:\n\u001b[0;32m    623\u001b[0m     \u001b[38;5;28;01mreturn\u001b[39;00m parser\n",
      "File \u001b[1;32mD:\\Anaconda\\Lib\\site-packages\\pandas\\io\\parsers\\readers.py:1620\u001b[0m, in \u001b[0;36mTextFileReader.__init__\u001b[1;34m(self, f, engine, **kwds)\u001b[0m\n\u001b[0;32m   1617\u001b[0m     \u001b[38;5;28mself\u001b[39m\u001b[38;5;241m.\u001b[39moptions[\u001b[38;5;124m\"\u001b[39m\u001b[38;5;124mhas_index_names\u001b[39m\u001b[38;5;124m\"\u001b[39m] \u001b[38;5;241m=\u001b[39m kwds[\u001b[38;5;124m\"\u001b[39m\u001b[38;5;124mhas_index_names\u001b[39m\u001b[38;5;124m\"\u001b[39m]\n\u001b[0;32m   1619\u001b[0m \u001b[38;5;28mself\u001b[39m\u001b[38;5;241m.\u001b[39mhandles: IOHandles \u001b[38;5;241m|\u001b[39m \u001b[38;5;28;01mNone\u001b[39;00m \u001b[38;5;241m=\u001b[39m \u001b[38;5;28;01mNone\u001b[39;00m\n\u001b[1;32m-> 1620\u001b[0m \u001b[38;5;28mself\u001b[39m\u001b[38;5;241m.\u001b[39m_engine \u001b[38;5;241m=\u001b[39m \u001b[38;5;28mself\u001b[39m\u001b[38;5;241m.\u001b[39m_make_engine(f, \u001b[38;5;28mself\u001b[39m\u001b[38;5;241m.\u001b[39mengine)\n",
      "File \u001b[1;32mD:\\Anaconda\\Lib\\site-packages\\pandas\\io\\parsers\\readers.py:1880\u001b[0m, in \u001b[0;36mTextFileReader._make_engine\u001b[1;34m(self, f, engine)\u001b[0m\n\u001b[0;32m   1878\u001b[0m     \u001b[38;5;28;01mif\u001b[39;00m \u001b[38;5;124m\"\u001b[39m\u001b[38;5;124mb\u001b[39m\u001b[38;5;124m\"\u001b[39m \u001b[38;5;129;01mnot\u001b[39;00m \u001b[38;5;129;01min\u001b[39;00m mode:\n\u001b[0;32m   1879\u001b[0m         mode \u001b[38;5;241m+\u001b[39m\u001b[38;5;241m=\u001b[39m \u001b[38;5;124m\"\u001b[39m\u001b[38;5;124mb\u001b[39m\u001b[38;5;124m\"\u001b[39m\n\u001b[1;32m-> 1880\u001b[0m \u001b[38;5;28mself\u001b[39m\u001b[38;5;241m.\u001b[39mhandles \u001b[38;5;241m=\u001b[39m get_handle(\n\u001b[0;32m   1881\u001b[0m     f,\n\u001b[0;32m   1882\u001b[0m     mode,\n\u001b[0;32m   1883\u001b[0m     encoding\u001b[38;5;241m=\u001b[39m\u001b[38;5;28mself\u001b[39m\u001b[38;5;241m.\u001b[39moptions\u001b[38;5;241m.\u001b[39mget(\u001b[38;5;124m\"\u001b[39m\u001b[38;5;124mencoding\u001b[39m\u001b[38;5;124m\"\u001b[39m, \u001b[38;5;28;01mNone\u001b[39;00m),\n\u001b[0;32m   1884\u001b[0m     compression\u001b[38;5;241m=\u001b[39m\u001b[38;5;28mself\u001b[39m\u001b[38;5;241m.\u001b[39moptions\u001b[38;5;241m.\u001b[39mget(\u001b[38;5;124m\"\u001b[39m\u001b[38;5;124mcompression\u001b[39m\u001b[38;5;124m\"\u001b[39m, \u001b[38;5;28;01mNone\u001b[39;00m),\n\u001b[0;32m   1885\u001b[0m     memory_map\u001b[38;5;241m=\u001b[39m\u001b[38;5;28mself\u001b[39m\u001b[38;5;241m.\u001b[39moptions\u001b[38;5;241m.\u001b[39mget(\u001b[38;5;124m\"\u001b[39m\u001b[38;5;124mmemory_map\u001b[39m\u001b[38;5;124m\"\u001b[39m, \u001b[38;5;28;01mFalse\u001b[39;00m),\n\u001b[0;32m   1886\u001b[0m     is_text\u001b[38;5;241m=\u001b[39mis_text,\n\u001b[0;32m   1887\u001b[0m     errors\u001b[38;5;241m=\u001b[39m\u001b[38;5;28mself\u001b[39m\u001b[38;5;241m.\u001b[39moptions\u001b[38;5;241m.\u001b[39mget(\u001b[38;5;124m\"\u001b[39m\u001b[38;5;124mencoding_errors\u001b[39m\u001b[38;5;124m\"\u001b[39m, \u001b[38;5;124m\"\u001b[39m\u001b[38;5;124mstrict\u001b[39m\u001b[38;5;124m\"\u001b[39m),\n\u001b[0;32m   1888\u001b[0m     storage_options\u001b[38;5;241m=\u001b[39m\u001b[38;5;28mself\u001b[39m\u001b[38;5;241m.\u001b[39moptions\u001b[38;5;241m.\u001b[39mget(\u001b[38;5;124m\"\u001b[39m\u001b[38;5;124mstorage_options\u001b[39m\u001b[38;5;124m\"\u001b[39m, \u001b[38;5;28;01mNone\u001b[39;00m),\n\u001b[0;32m   1889\u001b[0m )\n\u001b[0;32m   1890\u001b[0m \u001b[38;5;28;01massert\u001b[39;00m \u001b[38;5;28mself\u001b[39m\u001b[38;5;241m.\u001b[39mhandles \u001b[38;5;129;01mis\u001b[39;00m \u001b[38;5;129;01mnot\u001b[39;00m \u001b[38;5;28;01mNone\u001b[39;00m\n\u001b[0;32m   1891\u001b[0m f \u001b[38;5;241m=\u001b[39m \u001b[38;5;28mself\u001b[39m\u001b[38;5;241m.\u001b[39mhandles\u001b[38;5;241m.\u001b[39mhandle\n",
      "File \u001b[1;32mD:\\Anaconda\\Lib\\site-packages\\pandas\\io\\common.py:873\u001b[0m, in \u001b[0;36mget_handle\u001b[1;34m(path_or_buf, mode, encoding, compression, memory_map, is_text, errors, storage_options)\u001b[0m\n\u001b[0;32m    868\u001b[0m \u001b[38;5;28;01melif\u001b[39;00m \u001b[38;5;28misinstance\u001b[39m(handle, \u001b[38;5;28mstr\u001b[39m):\n\u001b[0;32m    869\u001b[0m     \u001b[38;5;66;03m# Check whether the filename is to be opened in binary mode.\u001b[39;00m\n\u001b[0;32m    870\u001b[0m     \u001b[38;5;66;03m# Binary mode does not support 'encoding' and 'newline'.\u001b[39;00m\n\u001b[0;32m    871\u001b[0m     \u001b[38;5;28;01mif\u001b[39;00m ioargs\u001b[38;5;241m.\u001b[39mencoding \u001b[38;5;129;01mand\u001b[39;00m \u001b[38;5;124m\"\u001b[39m\u001b[38;5;124mb\u001b[39m\u001b[38;5;124m\"\u001b[39m \u001b[38;5;129;01mnot\u001b[39;00m \u001b[38;5;129;01min\u001b[39;00m ioargs\u001b[38;5;241m.\u001b[39mmode:\n\u001b[0;32m    872\u001b[0m         \u001b[38;5;66;03m# Encoding\u001b[39;00m\n\u001b[1;32m--> 873\u001b[0m         handle \u001b[38;5;241m=\u001b[39m \u001b[38;5;28mopen\u001b[39m(\n\u001b[0;32m    874\u001b[0m             handle,\n\u001b[0;32m    875\u001b[0m             ioargs\u001b[38;5;241m.\u001b[39mmode,\n\u001b[0;32m    876\u001b[0m             encoding\u001b[38;5;241m=\u001b[39mioargs\u001b[38;5;241m.\u001b[39mencoding,\n\u001b[0;32m    877\u001b[0m             errors\u001b[38;5;241m=\u001b[39merrors,\n\u001b[0;32m    878\u001b[0m             newline\u001b[38;5;241m=\u001b[39m\u001b[38;5;124m\"\u001b[39m\u001b[38;5;124m\"\u001b[39m,\n\u001b[0;32m    879\u001b[0m         )\n\u001b[0;32m    880\u001b[0m     \u001b[38;5;28;01melse\u001b[39;00m:\n\u001b[0;32m    881\u001b[0m         \u001b[38;5;66;03m# Binary mode\u001b[39;00m\n\u001b[0;32m    882\u001b[0m         handle \u001b[38;5;241m=\u001b[39m \u001b[38;5;28mopen\u001b[39m(handle, ioargs\u001b[38;5;241m.\u001b[39mmode)\n",
      "\u001b[1;31mFileNotFoundError\u001b[0m: [Errno 2] No such file or directory: 'customer.csv'"
     ]
    }
   ],
   "source": [
    "#task1\n",
    "import pandas as pd\n",
    "\n",
    "# Load the datasets\n",
    "customer_df = pd.read_csv('customer.csv')\n",
    "sales_df = pd.read_csv('sales.csv')\n",
    "\n",
    "# Display the first few rows of each dataset\n",
    "print(\"Customer DataFrame:\")\n",
    "print(customer_df.head())\n",
    "\n",
    "print(\"\\nSales DataFrame:\")\n",
    "print(sales_df.head())\n",
    "\n",
    "# Show the total number of rows and columns for each dataset\n",
    "print(\"\\nCustomer DataFrame Shape:\", customer_df.shape)\n",
    "print(\"Sales DataFrame Shape:\", sales_df.shape)\n",
    "\n",
    "# Check for missing values in each dataset\n",
    "print(\"\\nMissing values in Customer DataFrame:\")\n",
    "print(customer_df.isnull().sum())\n",
    "\n",
    "print(\"\\nMissing values in Sales DataFrame:\")\n",
    "print(sales_df.isnull().sum())\n",
    "\n",
    "# Handle missing values (Example: filling with a default value or dropping rows)\n",
    "# For customer data, we can fill missing values with a default value (e.g., 0 or 'Unknown')\n",
    "customer_df.fillna({'age': 0, 'city': 'Unknown'}, inplace=True)\n",
    "\n",
    "# For sales data, we can fill missing 'amount' with 0 or drop rows with missing data\n",
    "sales_df.fillna({'amount': 0}, inplace=True)\n",
    "\n",
    "# After handling missing values, print the cleaned datasets\n",
    "print(\"\\nCleaned Customer DataFrame:\")\n",
    "print(customer_df.head())\n",
    "\n",
    "print(\"\\nCleaned Sales DataFrame:\")\n",
    "print(sales_df.head())\n"
   ]
  },
  {
   "cell_type": "code",
   "execution_count": 3,
   "id": "1762ac2d-ce61-4ee6-835c-b74bb6fb49f5",
   "metadata": {},
   "outputs": [
    {
     "name": "stdout",
     "output_type": "stream",
     "text": [
      "\n",
      "Filtered customers using dictionary:\n",
      "[{'CustomerID': 1, 'Age': 22, 'City': 'New York'}, {'CustomerID': 6, 'Age': 27, 'City': 'New York'}, {'CustomerID': 11, 'Age': 32, 'City': 'New York'}, {'CustomerID': 16, 'Age': 37, 'City': 'New York'}, {'CustomerID': 21, 'Age': 42, 'City': 'New York'}, {'CustomerID': 26, 'Age': 47, 'City': 'New York'}, {'CustomerID': 31, 'Age': 22, 'City': 'New York'}, {'CustomerID': 36, 'Age': 27, 'City': 'New York'}, {'CustomerID': 41, 'Age': 32, 'City': 'New York'}, {'CustomerID': 46, 'Age': 37, 'City': 'New York'}, {'CustomerID': 51, 'Age': 42, 'City': 'New York'}, {'CustomerID': 56, 'Age': 47, 'City': 'New York'}, {'CustomerID': 61, 'Age': 22, 'City': 'New York'}, {'CustomerID': 66, 'Age': 27, 'City': 'New York'}, {'CustomerID': 71, 'Age': 32, 'City': 'New York'}, {'CustomerID': 76, 'Age': 37, 'City': 'New York'}, {'CustomerID': 81, 'Age': 42, 'City': 'New York'}, {'CustomerID': 86, 'Age': 47, 'City': 'New York'}, {'CustomerID': 91, 'Age': 22, 'City': 'New York'}, {'CustomerID': 96, 'Age': 27, 'City': 'New York'}]\n",
      "Time taken using dictionary: 0.000000 seconds\n",
      "\n",
      "Filtered customers using DataFrame:\n",
      "    CustomerID  Age      City\n",
      "0            1   22  New York\n",
      "5            6   27  New York\n",
      "10          11   32  New York\n",
      "15          16   37  New York\n",
      "20          21   42  New York\n",
      "25          26   47  New York\n",
      "30          31   22  New York\n",
      "35          36   27  New York\n",
      "40          41   32  New York\n",
      "45          46   37  New York\n",
      "50          51   42  New York\n",
      "55          56   47  New York\n",
      "60          61   22  New York\n",
      "65          66   27  New York\n",
      "70          71   32  New York\n",
      "75          76   37  New York\n",
      "80          81   42  New York\n",
      "85          86   47  New York\n",
      "90          91   22  New York\n",
      "95          96   27  New York\n",
      "Time taken using DataFrame: 0.000000 seconds\n",
      "\n",
      "Efficiency Comparison:\n",
      "Dictionary approach time: 0.000000 seconds\n",
      "DataFrame approach time: 0.000000 seconds\n",
      "DataFrame approach is faster.\n"
     ]
    }
   ],
   "source": [
    "#task2\n",
    "import time\n",
    "\n",
    "customers_df = pd.read_csv('E:/IDS/customers.csv')\n",
    "city_to_filter = 'New York'\n",
    "\n",
    "customers_dict = customers_df.to_dict(orient='records')\n",
    "start_dict_time = time.time()\n",
    "filtered_customers_dict = [customer for customer in customers_dict if customer['City'] == city_to_filter]\n",
    "end_dict_time = time.time()\n",
    "\n",
    "print(\"\\nFiltered customers using dictionary:\")\n",
    "print(filtered_customers_dict)\n",
    "print(f\"Time taken using dictionary: {end_dict_time - start_dict_time:.6f} seconds\")\n",
    "\n",
    "start_df_time = time.time()\n",
    "filtered_customers_df = customers_df[customers_df['City'] == city_to_filter]\n",
    "end_df_time = time.time()\n",
    "\n",
    "print(\"\\nFiltered customers using DataFrame:\")\n",
    "print(filtered_customers_df)\n",
    "print(f\"Time taken using DataFrame: {end_df_time - start_df_time:.6f} seconds\")\n",
    "\n",
    "dict_time = end_dict_time - start_dict_time\n",
    "df_time = end_df_time - start_df_time\n",
    "\n",
    "print(\"\\nEfficiency Comparison:\")\n",
    "print(f\"Dictionary approach time: {dict_time:.6f} seconds\")\n",
    "print(f\"DataFrame approach time: {df_time:.6f} seconds\")\n",
    "\n",
    "if dict_time < df_time:\n",
    "    print(\"Dictionary approach is faster.\")\n",
    "else:\n",
    "    print(\"DataFrame approach is faster.\")\n"
   ]
  },
  {
   "cell_type": "code",
   "execution_count": 7,
   "id": "b50cb8d2-5db1-486c-a906-7f6b587bbaaf",
   "metadata": {},
   "outputs": [
    {
     "name": "stdout",
     "output_type": "stream",
     "text": [
      "\n",
      "--- Customers Dataset ---\n",
      "Number of duplicate rows in Customers dataset: 0\n",
      "Number of duplicate rows after cleaning: 0\n",
      "\n",
      "--- Sales Dataset ---\n",
      "Number of duplicate rows in Sales dataset: 0\n",
      "Number of duplicate rows after cleaning: 0\n"
     ]
    }
   ],
   "source": [
    "#task3\n",
    "customers_df = pd.read_csv('E:/IDS/customers.csv')\n",
    "sales_df = pd.read_csv('E:/IDS/sales.csv')\n",
    "\n",
    "print(\"\\n--- Customers Dataset ---\")\n",
    "print(\"Number of duplicate rows in Customers dataset:\", customers_df.duplicated().sum())\n",
    "\n",
    "customers_df_cleaned = customers_df.drop_duplicates()\n",
    "\n",
    "print(\"Number of duplicate rows after cleaning:\", customers_df_cleaned.duplicated().sum())\n",
    "\n",
    "print(\"\\n--- Sales Dataset ---\")\n",
    "print(\"Number of duplicate rows in Sales dataset:\", sales_df.duplicated().sum())\n",
    "\n",
    "sales_df_cleaned = sales_df.drop_duplicates()\n",
    "print(\"Number of duplicate rows after cleaning:\", sales_df_cleaned.duplicated().sum())"
   ]
  },
  {
   "cell_type": "code",
   "execution_count": 5,
   "id": "caa06be8-c03b-4a96-a177-9afd97a5dd66",
   "metadata": {},
   "outputs": [
    {
     "name": "stdout",
     "output_type": "stream",
     "text": [
      "\n",
      "Total sales after applying 10% discount, grouped by Product:\n",
      "      Product  DiscountedAmount\n",
      "0  Headphones           79200.0\n",
      "1      Laptop           14400.0\n",
      "2     Monitor          100800.0\n",
      "3  Smartphone           36000.0\n",
      "4      Tablet           57600.0\n"
     ]
    }
   ],
   "source": [
    "#task4\n",
    "sales_df = pd.read_csv('E:/IDS/sales.csv')\n",
    "\n",
    "sales_df['DiscountedAmount'] = sales_df['Amount'] * 0.90 \n",
    "\n",
    "total_sales_by_product = sales_df.groupby('Product')['DiscountedAmount'].sum().reset_index()\n",
    "\n",
    "print(\"\\nTotal sales after applying 10% discount, grouped by Product:\")\n",
    "print(total_sales_by_product)\n"
   ]
  },
  {
   "cell_type": "code",
   "execution_count": 9,
   "id": "9604ff33-fbe0-4b30-85f1-53d97559a30e",
   "metadata": {},
   "outputs": [
    {
     "name": "stdout",
     "output_type": "stream",
     "text": [
      "\n",
      "Number of customers by city within the age range 25 to 35:\n",
      "          City  CustomerCount\n",
      "0      Houston             11\n",
      "1      Phoenix              8\n",
      "2     New York              7\n",
      "3  Los Angeles              7\n",
      "4      Chicago              7\n"
     ]
    }
   ],
   "source": [
    "#task5\n",
    "customers_df = pd.read_csv('E:/IDS/customers.csv')\n",
    "\n",
    "filtered_customers_df = customers_df[(customers_df['Age'] >= 25) & (customers_df['Age'] <= 35)]\n",
    "\n",
    "city_counts = filtered_customers_df['City'].value_counts().reset_index()\n",
    "city_counts.columns = ['City', 'CustomerCount']\n",
    "\n",
    "print(\"\\nNumber of customers by city within the age range 25 to 35:\")\n",
    "print(city_counts)"
   ]
  },
  {
   "cell_type": "code",
   "execution_count": 11,
   "id": "5e135edc-692d-447b-a16a-74c2b577a050",
   "metadata": {},
   "outputs": [
    {
     "name": "stdout",
     "output_type": "stream",
     "text": [
      "\n",
      "City with the highest total sales:\n",
      "City          Phoenix\n",
      "TotalSales     112000\n",
      "Name: 4, dtype: object\n",
      "\n",
      "Product with the most units sold:\n",
      "Product    Headphones\n",
      "SaleID             80\n",
      "Name: 0, dtype: object\n"
     ]
    }
   ],
   "source": [
    "#task6\n",
    "customers_df = pd.read_csv('E:/IDS/customers.csv')\n",
    "sales_df = pd.read_csv('E:/IDS/sales.csv')\n",
    "\n",
    "merged_df = pd.merge(sales_df, customers_df, on='CustomerID', how='inner')\n",
    "\n",
    "merged_df['TotalSales'] = merged_df['Amount']\n",
    "\n",
    "city_sales = merged_df.groupby('City')['TotalSales'].sum().reset_index()\n",
    "\n",
    "top_city = city_sales.loc[city_sales['TotalSales'].idxmax()]\n",
    "\n",
    "print(\"\\nCity with the highest total sales:\")\n",
    "print(top_city)\n",
    "\n",
    "product_sales = merged_df.groupby('Product')['SaleID'].count().reset_index()\n",
    "\n",
    "top_product = product_sales.loc[product_sales['SaleID'].idxmax()]\n",
    "\n",
    "print(\"\\nProduct with the most units sold:\")\n",
    "print(top_product)"
   ]
  },
  {
   "cell_type": "code",
   "execution_count": 13,
   "id": "a2a8ff7e-0bf6-4c00-a02d-dd89e5075f50",
   "metadata": {},
   "outputs": [
    {
     "name": "stdout",
     "output_type": "stream",
     "text": [
      "\n",
      "Unique values in 'City' column:\n",
      "['New York' 'Los Angeles' 'Chicago' 'Houston' 'Phoenix']\n",
      "\n",
      "Unique values in 'Product' column:\n",
      "['Laptop' 'Smartphone' 'Tablet' 'Headphones' 'Monitor']\n",
      "\n",
      "Mean of the Amount column: 800.0\n",
      "Median of the Amount column: 800.0\n"
     ]
    }
   ],
   "source": [
    "#task7\n",
    "customers_df = pd.read_csv('E:/IDS/customers.csv')\n",
    "sales_df = pd.read_csv('E:/IDS/sales.csv')\n",
    "\n",
    "merged_df = pd.merge(sales_df, customers_df, on='CustomerID', how='inner')\n",
    "\n",
    "print(\"\\nUnique values in 'City' column:\")\n",
    "print(merged_df['City'].unique())\n",
    "\n",
    "print(\"\\nUnique values in 'Product' column:\")\n",
    "print(merged_df['Product'].unique())\n",
    "\n",
    "mean_amount = merged_df['Amount'].mean()\n",
    "median_amount = merged_df['Amount'].median()\n",
    "\n",
    "print(\"\\nMean of the Amount column:\", mean_amount)\n",
    "print(\"Median of the Amount column:\", median_amount)"
   ]
  },
  {
   "cell_type": "code",
   "execution_count": null,
   "id": "b752d946-f1e9-4ffd-9bcb-75fbb13c6ae1",
   "metadata": {},
   "outputs": [],
   "source": []
  }
 ],
 "metadata": {
  "kernelspec": {
   "display_name": "Python 3 (ipykernel)",
   "language": "python",
   "name": "python3"
  },
  "language_info": {
   "codemirror_mode": {
    "name": "ipython",
    "version": 3
   },
   "file_extension": ".py",
   "mimetype": "text/x-python",
   "name": "python",
   "nbconvert_exporter": "python",
   "pygments_lexer": "ipython3",
   "version": "3.12.4"
  }
 },
 "nbformat": 4,
 "nbformat_minor": 5
}
