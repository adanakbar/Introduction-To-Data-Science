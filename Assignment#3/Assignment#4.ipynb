{
 "cells": [
  {
   "cell_type": "markdown",
   "id": "7f95aa16-6181-4fc9-b84a-40322642d3a7",
   "metadata": {},
   "source": [
    " ## Task #1"
   ]
  },
  {
   "cell_type": "code",
   "execution_count": 12,
   "id": "37e8f39b-93e8-4f12-9073-350266fbcd29",
   "metadata": {},
   "outputs": [
    {
     "name": "stdout",
     "output_type": "stream",
     "text": [
      "Temperature Data:\n",
      " [[ 2.12780771e+01  3.66862810e+01  2.07415609e+01 ...  2.32634543e+01\n",
      "   1.34342581e+01 -3.17716438e+00]\n",
      " [-8.99023798e+00  3.59132112e+00  1.46619784e+01 ...  2.89112157e+01\n",
      "  -1.62432171e+00 -6.09090678e+00]\n",
      " [ 3.75674449e+01  3.46528797e+01  3.28211540e+01 ...  1.18474966e+01\n",
      "  -9.90680939e+00  3.57512446e+01]\n",
      " ...\n",
      " [ 2.34539412e+01  1.00849923e+01 -2.39127845e+00 ...  3.57068138e+01\n",
      "   8.34867616e+00  3.36058494e+01]\n",
      " [ 3.25125039e+01  3.60413613e+01 -1.78140847e-01 ...  4.17385360e+00\n",
      "   1.45257082e+01 -8.25786608e+00]\n",
      " [-1.72132194e+00 -7.64115461e-03  2.32494866e+01 ...  3.36524006e+01\n",
      "   3.24741328e+01  3.94495130e+01]]\n",
      "Humidity Data:\n",
      " [[ 98  13  32 ...  33  59  69]\n",
      " [ 64  16  39 ...  37  87  17]\n",
      " [ 49  81  45 ...  27  89  61]\n",
      " ...\n",
      " [ 93  45  57 ... 100  67  40]\n",
      " [ 94  47  66 ...  27  60  53]\n",
      " [ 32  53  50 ...  43  76  82]]\n"
     ]
    }
   ],
   "source": [
    "import numpy as np\n",
    "\n",
    "# Generate random temperature values between -10 and 40 degrees Celsius\n",
    "temperature_data = np.random.uniform(-10, 40, (500, 365))\n",
    "# Generate random humidity values between 0 and 100 percent\n",
    "humidity_data = np.random.randint(0, 101, (500, 365))\n",
    "\n",
    "print(\"Temperature Data:\\n\", temperature_data)\n",
    "print(\"Humidity Data:\\n\", humidity_data)\n"
   ]
  },
  {
   "cell_type": "markdown",
   "id": "aa6343e6-92d8-4475-b34b-5e899812c875",
   "metadata": {},
   "source": [
    "## Task #2"
   ]
  },
  {
   "cell_type": "code",
   "execution_count": 19,
   "id": "ab392460-0382-4b61-8b32-09dd848b93a5",
   "metadata": {},
   "outputs": [
    {
     "name": "stdout",
     "output_type": "stream",
     "text": [
      "Missing temperature entries: 9125\n",
      "Missing humidity entries: 9125\n"
     ]
    }
   ],
   "source": [
    "import numpy as np\n",
    "\n",
    "# Function to introduce NaN values in a dataset\n",
    "def introduce_missing_data(data, percentage=0.05):\n",
    "    # Ensure the data type is float to allow NaN values\n",
    "    data = data.astype(float)  # Convert to float\n",
    "    total_values = data.size\n",
    "    num_missing = int(total_values * percentage)\n",
    "    missing_indices = np.random.choice(total_values, num_missing, replace=False)\n",
    "    # Set the selected indices in the original data to NaN\n",
    "    data.flat[missing_indices] = np.nan  \n",
    "    return np.count_nonzero(np.isnan(data))  # Count NaN values\n",
    "\n",
    "\n",
    "temperature_data = np.random.randint(low=-10, high=40, size=(500, 365)).astype(float)\n",
    "humidity_data = np.random.randint(low=0, high=101, size=(500, 365)).astype(float)\n",
    "\n",
    "missing_temperature = introduce_missing_data(temperature_data)\n",
    "missing_humidity = introduce_missing_data(humidity_data)\n",
    "\n",
    "# Print the number of missing entries\n",
    "print(f\"Missing temperature entries: {missing_temperature}\")\n",
    "print(f\"Missing humidity entries: {missing_humidity}\")\n"
   ]
  },
  {
   "cell_type": "markdown",
   "id": "01dde27e-9408-4314-8b0e-af5171ae3f03",
   "metadata": {},
   "source": [
    "## Task#3"
   ]
  },
  {
   "cell_type": "code",
   "execution_count": 22,
   "id": "7ec9e267-26f6-46fc-bf6d-a3c2a89cdca0",
   "metadata": {},
   "outputs": [
    {
     "name": "stdout",
     "output_type": "stream",
     "text": [
      "Discomfort Index:\n",
      " [[44.8 63.2 80.  ... 26.4 33.4 64.8]\n",
      " [80.  42.  47.8 ... 55.6 74.4 46.8]\n",
      " [80.  22.4 68.2 ... 34.2 67.6 53.6]\n",
      " ...\n",
      " [58.8 77.6 80.  ... 37.2 62.4 17.2]\n",
      " [79.4 58.6 19.  ... 76.8 58.4 54.4]\n",
      " [80.  75.8 62.2 ... 80.  21.4 80. ]]\n"
     ]
    }
   ],
   "source": [
    "temperature_data_fahrenheit = temperature_data * 9/5 + 32\n",
    "\n",
    "#Hypothetiacl Formula\n",
    "discomfort_index = temperature_data_fahrenheit + (humidity_data / 100) * 20 \n",
    "discomfort_index[discomfort_index > 80] = 80  # Cap values at 80\n",
    "\n",
    "print(\"Discomfort Index:\\n\", discomfort_index)\n"
   ]
  },
  {
   "cell_type": "markdown",
   "id": "62c1c3b4-972e-42db-9e02-1ffe96f9b8d0",
   "metadata": {},
   "source": [
    "## Task#4"
   ]
  },
  {
   "cell_type": "code",
   "execution_count": 27,
   "id": "77130007-7e42-47c3-b08e-520b4ddc879f",
   "metadata": {},
   "outputs": [
    {
     "name": "stdout",
     "output_type": "stream",
     "text": [
      "Average January Temperature: 14.61\n"
     ]
    }
   ],
   "source": [
    "january_temperatures = temperature_data[:, :31]\n",
    "\n",
    "# Calculate the average January temperature across all locations\n",
    "average_january_temp = np.nanmean(january_temperatures)\n",
    "print(f\"Average January Temperature: {average_january_temp:.2f}\")\n"
   ]
  },
  {
   "cell_type": "markdown",
   "id": "d985ffdc-5a5e-4b4f-aa32-6b997330f742",
   "metadata": {},
   "source": [
    "## Task#5"
   ]
  },
  {
   "cell_type": "code",
   "execution_count": 30,
   "id": "17571adc-b4af-4270-a3b2-75616f349b9d",
   "metadata": {},
   "outputs": [
    {
     "name": "stdout",
     "output_type": "stream",
     "text": [
      "Number of null values per location: [23 26 32 25 24 19 37 30 38 36 35 18 28 35 18 20 37 26 22 40 26 28 22 34\n",
      " 24 31 23 30 25 41 29 31 32 35 25 32 32 26 28 25 22 25 36 37 31 35 30 28\n",
      " 25 30 28 28 32 41 34 32 31 28 26 27 31 27 32 23 24 37 32 34 26 25 33 20\n",
      " 34 32 22 34 35 24 31 37 32 31 37 28 19 33 23 26 28 24 36 36 33 28 24 34\n",
      " 27 33 35 23 30 29 27 38 36 30 30 33 31 28 31 27 33 26 31 38 35 23 28 19\n",
      " 26 30 28 23 30 22 38 26 34 29 32 27 34 28 28 33 32 26 31 32 25 28 33 31\n",
      " 17 29 33 26 24 36 35 30 35 31 26 23 30 27 27 23 34 27 38 24 34 26 28 30\n",
      " 30 28 29 32 33 27 35 29 24 28 30 24 25 19 23 30 35 33 32 29 23 33 32 32\n",
      " 33 26 22 26 20 31 24 27 31 26 34 39 27 27 30 29 31 31 30 32 38 26 30 36\n",
      " 32 28 25 24 35 27 30 30 35 36 30 23 29 38 34 38 33 30 29 33 29 26 32 30\n",
      " 41 31 26 29 26 29 33 30 29 22 26 27 34 21 33 34 24 30 23 26 29 25 26 20\n",
      " 29 24 25 34 34 25 35 31 24 28 29 26 24 34 24 31 30 37 30 24 27 21 27 22\n",
      " 19 23 23 38 35 33 24 30 32 28 27 28 21 33 32 27 33 32 33 29 37 23 25 37\n",
      " 25 19 29 28 24 35 32 33 32 24 29 31 37 20 22 26 30 28 35 22 28 32 32 29\n",
      " 26 28 30 38 24 29 20 27 21 37 32 30 33 31 33 39 23 28 24 33 30 23 27 30\n",
      " 27 25 32 25 35 33 27 38 31 35 32 30 27 37 29 30 22 28 34 29 34 22 35 25\n",
      " 26 35 20 33 28 27 32 33 21 27 28 27 26 32 30 33 33 27 23 23 32 36 32 32\n",
      " 22 26 20 27 19 34 34 27 25 38 26 29 32 23 35 25 24 27 29 29 23 34 37 18\n",
      " 27 24 25 38 32 24 27 20 32 33 34 28 25 30 22 24 35 21 29 31 41 26 26 29\n",
      " 23 27 20 28 30 30 35 35 36 27 32 30 33 24 34 21 28 28 29 31 26 31 36 29\n",
      " 21 38 32 27 44 28 28 28 32 27 35 28 23 30 28 26 30 25 23 38]\n"
     ]
    }
   ],
   "source": [
    "# Mark temperatures above 35°C as NaN\n",
    "extreme_temp_mask = temperature_data > 35\n",
    "temperature_data[extreme_temp_mask] = np.nan\n",
    "\n",
    "# Count null values per location\n",
    "null_counts = np.count_nonzero(np.isnan(temperature_data), axis=1)\n",
    "print(f\"Number of null values per location: {null_counts}\")\n"
   ]
  },
  {
   "cell_type": "markdown",
   "id": "5135d1b8-2520-4d2a-9189-3a7a095e270c",
   "metadata": {},
   "source": [
    "## Task#6"
   ]
  },
  {
   "cell_type": "code",
   "execution_count": 37,
   "id": "e5013a30-0f41-485a-ac1b-78a019ac5416",
   "metadata": {},
   "outputs": [
    {
     "ename": "ValueError",
     "evalue": "cannot reshape array of size 182500 into shape (500,4,91)",
     "output_type": "error",
     "traceback": [
      "\u001b[1;31m---------------------------------------------------------------------------\u001b[0m",
      "\u001b[1;31mValueError\u001b[0m                                Traceback (most recent call last)",
      "Cell \u001b[1;32mIn[37], line 2\u001b[0m\n\u001b[0;32m      1\u001b[0m \u001b[38;5;66;03m# Reshape to quarters (4 quarters of 91 days each, last quarter may have 92)\u001b[39;00m\n\u001b[1;32m----> 2\u001b[0m quarters \u001b[38;5;241m=\u001b[39m temperature_data\u001b[38;5;241m.\u001b[39mreshape(\u001b[38;5;241m500\u001b[39m, \u001b[38;5;241m4\u001b[39m, \u001b[38;5;241m91\u001b[39m)  \u001b[38;5;66;03m# Assuming the last quarter takes the remainder\u001b[39;00m\n\u001b[0;32m      3\u001b[0m quarterly_avg_temp \u001b[38;5;241m=\u001b[39m np\u001b[38;5;241m.\u001b[39mnanmean(quarters, axis\u001b[38;5;241m=\u001b[39m\u001b[38;5;241m1\u001b[39m)  \u001b[38;5;66;03m# Average across the quarters\u001b[39;00m\n\u001b[0;32m      4\u001b[0m \u001b[38;5;28mprint\u001b[39m(\u001b[38;5;124m\"\u001b[39m\u001b[38;5;124mQuarterly Average Temperatures:\u001b[39m\u001b[38;5;130;01m\\n\u001b[39;00m\u001b[38;5;124m\"\u001b[39m, quarterly_avg_temp)\n",
      "\u001b[1;31mValueError\u001b[0m: cannot reshape array of size 182500 into shape (500,4,91)"
     ]
    }
   ],
   "source": [
    "# Reshape to quarters (4 quarters of 91 days each, last quarter may have 92)\n",
    "quarters = temperature_data.reshape(500, 4, 91)  # Assuming the last quarter takes the remainder\n",
    "quarterly_avg_temp = np.nanmean(quarters, axis=1)  # Average across the quarters\n",
    "print(\"Quarterly Average Temperatures:\\n\", quarterly_avg_temp)\n"
   ]
  },
  {
   "cell_type": "markdown",
   "id": "7eb0aa05-0c3d-43be-b62a-b65f0b999ce3",
   "metadata": {},
   "source": [
    "## Task#7"
   ]
  },
  {
   "cell_type": "code",
   "execution_count": 41,
   "id": "c4f0fcf7-16a9-441c-a81e-83d69c166c19",
   "metadata": {},
   "outputs": [
    {
     "name": "stdout",
     "output_type": "stream",
     "text": [
      "Total Dry Days per Location: [104  92 106 101 102 116 104 113 112 116 110 114 123 114 107  98 110 117\n",
      " 102 101  98 128 109 120 105 100 107 109  95  87 106 106 112 115 109 101\n",
      " 112 118  97 120 110 111 110 112 111  91 109 112 111 108 114 116 124 107\n",
      " 105  99 105 117 107 103 104 117 107 106 107 110 116 116 119 104 123  99\n",
      " 105 101 118  98 115 115 110 112 124 110  96  98 108 112 109 120 115 118\n",
      " 114 115 111 116 115 119  98 102  94 101 101  98 103 110 103 113 118 127\n",
      " 110  97 118 117 108 113 117 108 102 109 110  92 101 115 104 116  99 100\n",
      " 114 105 109 107 111 111 114 106  93 104 124 111  92 112 123 109 111 113\n",
      " 105 109 105 112  80 104 107  94  97  99  96 105 138 102 110  98 101 102\n",
      " 105 104 112 106 101  94 104 108 122 114 106 102 102  99 111 108 108 110\n",
      " 111 122 107 102 112 105 108 111 100 102  96 117 104 111 104 106 122  92\n",
      " 112 125 108 109 104  97 107 118 108 127 115 115 106 109 111  97 123 106\n",
      " 119 109 124 100 109 111 108 110 113 105 102 103 100 100 107 115 107 119\n",
      " 115 103 118 104 107 112 121 105 128  99 118  97 102 112 105 107 109 101\n",
      " 131 102 101 112 111 120 110 108 109 113 112 109 119 101  93 117 112 100\n",
      " 116 118 105 106 114  97 100 101 107 108 122 110 123 106 106 113 107  97\n",
      " 110 106 101 106 102 113 111 117 113  95 104 112 114 105 129  97 113 109\n",
      " 108 118 117 106 116 100 116 108 106 112 114  98 102 117 111 103 109 131\n",
      " 104 100 120 100  97  98 125 107 110 109 106 120 114 121 116 100  92 117\n",
      " 124 101  97  97 109 117 113 110  97 114  95 107 115 115 121 117 101 106\n",
      " 105 106 109 116 114 109 110 110 103 113 104 109 112  93 123 112 103 113\n",
      "  99 109 115 101 113 100 107 104 117 115  99 113 109 116 118 103 111 111\n",
      " 115 111 104 105 106 108 118 110  98 110 115 106 106  97 100 115 117 110\n",
      " 121 128 115  96 110 101 103 112 102 102 113 102 109 122 119 105 101 106\n",
      " 103 125 116 107 109 105 115 118 111 118 117 110 104 113  98 113 110 113\n",
      " 121 110 122 101 117 117 112  99 107  87 112 111  99 113  93 107 110  92\n",
      " 120 116 109 110  99 103  92 110 126 123 112 114  90 111 100 126 108 109\n",
      " 123 106  98  99 109 111 108 128 104 107 102 106 106 109]\n",
      "Total Humid Days per Location: [111 125 132 113 109 113 101 101  98 109 116 106 108 108 122 114 123  85\n",
      "  85 105 111 106 121 105 110 115 109 102 122 104 108 110 104  99 109 119\n",
      " 116  94 117 103 111 119 108 107  95 117  97 104 102 106 111  95  95 110\n",
      " 107 112 111  98 101 114 106 114 123 106 107 120  99  95 105 113 103 124\n",
      " 118 113  96 114 105 104 114 104 101  98 121 119 118  97 113 107 105 122\n",
      " 114 114 108 112 112 109 114 113 108  92 123 115 107 115 107 113 108 101\n",
      " 113 104 111  92 114  92 100  97 104 102 105 109  90 101 107 111  93 111\n",
      " 121 105 113 105 100 110 101 111 111 108 114 106 114 110  98 122 103 104\n",
      " 122 105  85 106 118 105 112 119 122 116 117  97  95 110  98  98 102 104\n",
      " 115 102  92 105 114 102  96 102 103 109 111 115 109 108 121 110 113 108\n",
      " 104 106 105 124  95 118 119 117 112 110 119 100 119 114 102 100 103 108\n",
      "  99  90  94 111 108 123  98 105 113 104 105 107 114 124 104 118 110 111\n",
      " 102  91  93 109 107 110 106 105 101 116 108 111  93  93 111 110 115  92\n",
      " 114 112 112 117 115  97 106 118  96 110 107 110 108 104 108 101 119 129\n",
      " 111  99 110 105 109 106 109 108 113 101 111  96 110 121 122 106 111 124\n",
      " 102 100 103 123 113 112 110 113 115 115 103 119 111 103 121  93 111 118\n",
      " 103 107  97 110 113 100 108  99 103 110  97  96 104 117 102 110  83  99\n",
      " 113 110 110 108 119 112 106 116 106 107 114 108 111 109 112 108 106  98\n",
      " 105 128 113 115 126 102 106 116 111 119 104 110 110 107 110 102 120 106\n",
      "  93 133 112 119 107 105  99 114 111 104 103 116 107 111 108 100 102 104\n",
      " 102 117 113 106 116 104 101 110 102 100 102 118  96 120  96 108 110  96\n",
      " 115 103  97 100 101 119 104 113 106  96 116 104 121  94 106  95 115 108\n",
      " 107  87 110 106 121 110 104 118 125  88 117  93 103 123 127 110 100 104\n",
      "  98  85 108 131 109 108 128  99 102 112  99 109 106  97 113  91 107 108\n",
      " 107 101 108 117 108 108 111 116 103 102 101 103 102 107 113 115 100 122\n",
      "  94 129  84 109  95  92 109 110 105 123 122 101 103  98 102 112 100 131\n",
      "  98  92 109 111 120 117 104 112 113  96 102 109 110 104  98  99 105  91\n",
      "  99 106 107 103 114 106 109  91 117 112 116  96  89 117]\n"
     ]
    }
   ],
   "source": [
    "# Classify humidity levels\n",
    "dry_days = (humidity_data < 30).sum(axis=1)\n",
    "humid_days = (humidity_data > 70).sum(axis=1)\n",
    "\n",
    "print(f\"Total Dry Days per Location: {dry_days}\")\n",
    "print(f\"Total Humid Days per Location: {humid_days}\")\n"
   ]
  },
  {
   "cell_type": "markdown",
   "id": "de1a3f3a-593c-42ee-a3e3-fb7b4820f2bd",
   "metadata": {},
   "source": [
    "## Task#8"
   ]
  },
  {
   "cell_type": "code",
   "execution_count": 44,
   "id": "4ada763b-a12d-4e84-8693-22692baf365c",
   "metadata": {},
   "outputs": [
    {
     "name": "stdout",
     "output_type": "stream",
     "text": [
      "Adjusted Temperature Data:\n",
      " [[ -1.1012767   13.09728186  27.55511878 ... -11.09544279  -0.5693017\n",
      "   10.98865094]\n",
      " [ 28.8987233    4.09728186   2.55511878 ...   2.90455721  15.4306983\n",
      "    2.98865094]\n",
      " [ 20.8987233   -4.90271814  20.55511878 ...  -1.09544279  13.4306983\n",
      "    1.98865094]\n",
      " ...\n",
      " [ 11.8987233   18.09728186  33.55511878 ...  -8.09544279  11.4306983\n",
      "   -9.01134906]\n",
      " [ 13.8987233   10.09728186  -8.44488122 ...  16.90455721  14.4306983\n",
      "    9.98865094]\n",
      " [         nan  21.09728186  14.55511878 ...          nan  -8.5693017\n",
      "           nan]]\n"
     ]
    }
   ],
   "source": [
    "pressure_trend = np.random.normal(loc=0, scale=2, size=(365))  # Random pressure trend\n",
    "\n",
    "# Adjust temperature based on pressure trend (simple adjustment)\n",
    "adjusted_temperature_data = temperature_data + pressure_trend.reshape(1, 365)  # Broadcast the trend\n",
    "print(\"Adjusted Temperature Data:\\n\", adjusted_temperature_data)\n"
   ]
  },
  {
   "cell_type": "code",
   "execution_count": null,
   "id": "800e91cf-2be1-44de-952d-e2698bcb53ea",
   "metadata": {},
   "outputs": [],
   "source": []
  }
 ],
 "metadata": {
  "kernelspec": {
   "display_name": "Python 3 (ipykernel)",
   "language": "python",
   "name": "python3"
  },
  "language_info": {
   "codemirror_mode": {
    "name": "ipython",
    "version": 3
   },
   "file_extension": ".py",
   "mimetype": "text/x-python",
   "name": "python",
   "nbconvert_exporter": "python",
   "pygments_lexer": "ipython3",
   "version": "3.12.4"
  }
 },
 "nbformat": 4,
 "nbformat_minor": 5
}
