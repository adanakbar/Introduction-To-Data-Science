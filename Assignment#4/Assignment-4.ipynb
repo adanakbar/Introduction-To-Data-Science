{
 "cells": [
  {
   "cell_type": "code",
   "execution_count": 13,
   "id": "c2c30eca-e4e4-419e-bb8d-8511e4bf225e",
   "metadata": {},
   "outputs": [
    {
     "name": "stdout",
     "output_type": "stream",
     "text": [
      "Missing values before handling:\n",
      "Id               0\n",
      "SepalLengthCm    0\n",
      "SepalWidthCm     0\n",
      "PetalLengthCm    0\n",
      "PetalWidthCm     0\n",
      "Species          0\n",
      "dtype: int64\n",
      "\n",
      "Missing values after handling:\n",
      "Id               0\n",
      "SepalLengthCm    0\n",
      "SepalWidthCm     0\n",
      "PetalLengthCm    0\n",
      "PetalWidthCm     0\n",
      "Species          0\n",
      "dtype: int64\n"
     ]
    }
   ],
   "source": [
    "import pandas as pd\n",
    "\n",
    "\n",
    "file_path = 'E:/5th semester/IDS/Iris.csv'\n",
    "iris_data = pd.read_csv(file_path)\n",
    "\n",
    "print(\"Missing values before handling:\")\n",
    "print(iris_data.isnull().sum())\n",
    "\n",
    "numeric_columns = ['SepalLengthCm', 'SepalWidthCm', 'PetalLengthCm', 'PetalWidthCm']\n",
    "iris_data[numeric_columns] = iris_data[numeric_columns].fillna(iris_data[numeric_columns].mean())\n",
    "\n",
    "if 'Species' in iris_data.columns:\n",
    "    most_frequent_species = iris_data['Species'].mode()[0]\n",
    "    iris_data['Species'] = iris_data['Species'].fillna(most_frequent_species)\n",
    "\n",
    "print(\"\\nMissing values after handling:\")\n",
    "print(iris_data.isnull().sum())\n",
    "\n"
   ]
  },
  {
   "cell_type": "code",
   "execution_count": 15,
   "id": "1a803923-11b2-4c16-8132-e2da255d5aef",
   "metadata": {},
   "outputs": [
    {
     "name": "stdout",
     "output_type": "stream",
     "text": [
      "\n",
      "Number of duplicate rows removed: 0\n"
     ]
    }
   ],
   "source": [
    "# Task 2\n",
    "\n",
    "initial_row_count = iris_data.shape[0]\n",
    "iris_data = iris_data.drop_duplicates()\n",
    "final_row_count = iris_data.shape[0]\n",
    "print(f\"\\nNumber of duplicate rows removed: {initial_row_count - final_row_count}\")\n",
    "\n",
    "iris_data['PetalArea'] = iris_data['PetalLengthCm'] * iris_data['PetalWidthCm']\n",
    "\n",
    "iris_data_cleaned = iris_data.dropna()\n",
    "\n"
   ]
  },
  {
   "cell_type": "code",
   "execution_count": 17,
   "id": "ba5654ed-67b8-4a73-b6b1-d25e7d73d379",
   "metadata": {},
   "outputs": [
    {
     "name": "stdout",
     "output_type": "stream",
     "text": [
      "\n",
      "Species to Numeric Mapping:\n",
      "             Species  SpeciesNumeric\n",
      "0        Iris-setosa               0\n",
      "50   Iris-versicolor               1\n",
      "100   Iris-virginica               2\n",
      "\n",
      "Grouped Means by Species:\n",
      "                 SepalLengthCm  SepalWidthCm  PetalLengthCm  PetalWidthCm\n",
      "Species                                                                  \n",
      "Iris-setosa              5.006         3.418          1.464         0.244\n",
      "Iris-versicolor          5.936         2.770          4.260         1.326\n",
      "Iris-virginica           6.588         2.974          5.552         2.026\n"
     ]
    }
   ],
   "source": [
    "# Task 3\n",
    "\n",
    "iris_data_cleaned['SpeciesNumeric'] = iris_data_cleaned['Species'].astype('category').cat.codes\n",
    "\n",
    "grouped_means = iris_data_cleaned.groupby('Species')[['SepalLengthCm', 'SepalWidthCm', 'PetalLengthCm', 'PetalWidthCm']].mean()\n",
    "\n",
    "print(\"\\nSpecies to Numeric Mapping:\")\n",
    "print(iris_data_cleaned[['Species', 'SpeciesNumeric']].drop_duplicates())\n",
    "\n",
    "print(\"\\nGrouped Means by Species:\")\n",
    "print(grouped_means)\n",
    "\n"
   ]
  },
  {
   "cell_type": "code",
   "execution_count": 19,
   "id": "f3eff8da-9bfe-4466-b8a1-2abd30c57b1f",
   "metadata": {},
   "outputs": [
    {
     "name": "stdout",
     "output_type": "stream",
     "text": [
      "\n",
      "Reshaped Dataset (Long Format):\n",
      "   Id      Species  SpeciesNumeric MeasurementType  Value\n",
      "0   1  Iris-setosa               0   SepalLengthCm    5.1\n",
      "1   2  Iris-setosa               0   SepalLengthCm    4.9\n",
      "2   3  Iris-setosa               0   SepalLengthCm    4.7\n",
      "3   4  Iris-setosa               0   SepalLengthCm    4.6\n",
      "4   5  Iris-setosa               0   SepalLengthCm    5.0\n"
     ]
    }
   ],
   "source": [
    "# Task 4\n",
    "iris_data_long = pd.melt(\n",
    "    iris_data_cleaned,\n",
    "    id_vars=['Id', 'Species', 'SpeciesNumeric'],\n",
    "    value_vars=['SepalLengthCm', 'SepalWidthCm', 'PetalLengthCm', 'PetalWidthCm'],\n",
    "    var_name='MeasurementType',\n",
    "    value_name='Value'\n",
    ")\n",
    "print(\"\\nReshaped Dataset (Long Format):\")\n",
    "print(iris_data_long.head())"
   ]
  },
  {
   "cell_type": "code",
   "execution_count": null,
   "id": "70a4fd43-ebb5-4ef6-89b3-e17d84bafbf5",
   "metadata": {},
   "outputs": [],
   "source": []
  }
 ],
 "metadata": {
  "kernelspec": {
   "display_name": "Python 3 (ipykernel)",
   "language": "python",
   "name": "python3"
  },
  "language_info": {
   "codemirror_mode": {
    "name": "ipython",
    "version": 3
   },
   "file_extension": ".py",
   "mimetype": "text/x-python",
   "name": "python",
   "nbconvert_exporter": "python",
   "pygments_lexer": "ipython3",
   "version": "3.12.4"
  }
 },
 "nbformat": 4,
 "nbformat_minor": 5
}
