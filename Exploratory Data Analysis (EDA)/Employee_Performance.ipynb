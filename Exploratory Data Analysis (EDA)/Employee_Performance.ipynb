{
 "cells": [
  {
   "cell_type": "code",
   "execution_count": 1,
   "id": "ca82c87e",
   "metadata": {
    "_cell_guid": "b1076dfc-b9ad-4769-8c92-a6c4dae69d19",
    "_uuid": "8f2839f25d086af736a60e9eeb907d3b93b6e0e5",
    "execution": {
     "iopub.execute_input": "2024-12-14T15:25:24.580353Z",
     "iopub.status.busy": "2024-12-14T15:25:24.579944Z",
     "iopub.status.idle": "2024-12-14T15:25:25.585484Z",
     "shell.execute_reply": "2024-12-14T15:25:25.584765Z"
    },
    "papermill": {
     "duration": 1.02085,
     "end_time": "2024-12-14T15:25:25.586935",
     "exception": false,
     "start_time": "2024-12-14T15:25:24.566085",
     "status": "completed"
    },
    "tags": []
   },
   "outputs": [
    {
     "name": "stdout",
     "output_type": "stream",
     "text": [
      "/kaggle/input/employee-performance-and-salary-dataset/50_Tasks_to_perform_on_dataset.pdf\n",
      "/kaggle/input/employee-performance-and-salary-dataset/Employe_Performance_dataset.csv\n"
     ]
    }
   ],
   "source": [
    "# This Python 3 environment comes with many helpful analytics libraries installed\n",
    "# It is defined by the kaggle/python Docker image: https://github.com/kaggle/docker-python\n",
    "# For example, here's several helpful packages to load\n",
    "\n",
    "import numpy as np # linear algebra\n",
    "import pandas as pd # data processing, CSV file I/O (e.g. pd.read_csv)\n",
    "\n",
    "# Input data files are available in the read-only \"../input/\" directory\n",
    "# For example, running this (by clicking run or pressing Shift+Enter) will list all files under the input directory\n",
    "\n",
    "import os\n",
    "for dirname, _, filenames in os.walk('/kaggle/input'):\n",
    "    for filename in filenames:\n",
    "        print(os.path.join(dirname, filename))\n",
    "\n",
    "# You can write up to 20GB to the current directory (/kaggle/working/) that gets preserved as output when you create a version using \"Save & Run All\" \n",
    "# You can also write temporary files to /kaggle/temp/, but they won't be saved outside of the current session"
   ]
  },
  {
   "cell_type": "markdown",
   "id": "a2a32177",
   "metadata": {
    "papermill": {
     "duration": 0.011138,
     "end_time": "2024-12-14T15:25:25.608620",
     "exception": false,
     "start_time": "2024-12-14T15:25:25.597482",
     "status": "completed"
    },
    "tags": []
   },
   "source": [
    "## 1. Loading the dataset into a Pandas DataFrame and displaying the first 10 rows.\r\n"
   ]
  },
  {
   "cell_type": "code",
   "execution_count": 2,
   "id": "1afe8245",
   "metadata": {
    "execution": {
     "iopub.execute_input": "2024-12-14T15:25:25.631152Z",
     "iopub.status.busy": "2024-12-14T15:25:25.630750Z",
     "iopub.status.idle": "2024-12-14T15:25:25.652292Z",
     "shell.execute_reply": "2024-12-14T15:25:25.651472Z"
    },
    "papermill": {
     "duration": 0.035026,
     "end_time": "2024-12-14T15:25:25.654139",
     "exception": false,
     "start_time": "2024-12-14T15:25:25.619113",
     "status": "completed"
    },
    "tags": []
   },
   "outputs": [],
   "source": [
    "import pandas as pd\n",
    "dataset = pd.read_csv(\"/kaggle/input/employee-performance-and-salary-dataset/Employe_Performance_dataset.csv\")\n",
    "df = pd.DataFrame(dataset)"
   ]
  },
  {
   "cell_type": "code",
   "execution_count": 3,
   "id": "635d0b64",
   "metadata": {
    "execution": {
     "iopub.execute_input": "2024-12-14T15:25:25.676961Z",
     "iopub.status.busy": "2024-12-14T15:25:25.676696Z",
     "iopub.status.idle": "2024-12-14T15:25:25.697846Z",
     "shell.execute_reply": "2024-12-14T15:25:25.696827Z"
    },
    "papermill": {
     "duration": 0.034515,
     "end_time": "2024-12-14T15:25:25.699312",
     "exception": false,
     "start_time": "2024-12-14T15:25:25.664797",
     "status": "completed"
    },
    "tags": []
   },
   "outputs": [
    {
     "data": {
      "text/html": [
       "<div>\n",
       "<style scoped>\n",
       "    .dataframe tbody tr th:only-of-type {\n",
       "        vertical-align: middle;\n",
       "    }\n",
       "\n",
       "    .dataframe tbody tr th {\n",
       "        vertical-align: top;\n",
       "    }\n",
       "\n",
       "    .dataframe thead th {\n",
       "        text-align: right;\n",
       "    }\n",
       "</style>\n",
       "<table border=\"1\" class=\"dataframe\">\n",
       "  <thead>\n",
       "    <tr style=\"text-align: right;\">\n",
       "      <th></th>\n",
       "      <th>ID</th>\n",
       "      <th>Name</th>\n",
       "      <th>Age</th>\n",
       "      <th>Gender</th>\n",
       "      <th>Department</th>\n",
       "      <th>Salary</th>\n",
       "      <th>Joining Date</th>\n",
       "      <th>Performance Score</th>\n",
       "      <th>Experience</th>\n",
       "      <th>Status</th>\n",
       "      <th>Location</th>\n",
       "      <th>Session</th>\n",
       "    </tr>\n",
       "  </thead>\n",
       "  <tbody>\n",
       "    <tr>\n",
       "      <th>0</th>\n",
       "      <td>1</td>\n",
       "      <td>Cory Escobar</td>\n",
       "      <td>48</td>\n",
       "      <td>Female</td>\n",
       "      <td>HR</td>\n",
       "      <td>5641</td>\n",
       "      <td>2015-05-03</td>\n",
       "      <td>2.0</td>\n",
       "      <td>16</td>\n",
       "      <td>Active</td>\n",
       "      <td>New York</td>\n",
       "      <td>Night</td>\n",
       "    </tr>\n",
       "    <tr>\n",
       "      <th>1</th>\n",
       "      <td>2</td>\n",
       "      <td>Timothy Sanchez</td>\n",
       "      <td>25</td>\n",
       "      <td>Other</td>\n",
       "      <td>Sales</td>\n",
       "      <td>4249</td>\n",
       "      <td>2020-11-09</td>\n",
       "      <td>2.0</td>\n",
       "      <td>11</td>\n",
       "      <td>Inactive</td>\n",
       "      <td>Los Angeles</td>\n",
       "      <td>Evening</td>\n",
       "    </tr>\n",
       "    <tr>\n",
       "      <th>2</th>\n",
       "      <td>3</td>\n",
       "      <td>Chad Nichols</td>\n",
       "      <td>57</td>\n",
       "      <td>Other</td>\n",
       "      <td>Sales</td>\n",
       "      <td>3058</td>\n",
       "      <td>2019-02-12</td>\n",
       "      <td>NaN</td>\n",
       "      <td>1</td>\n",
       "      <td>Inactive</td>\n",
       "      <td>New York</td>\n",
       "      <td>Morning</td>\n",
       "    </tr>\n",
       "    <tr>\n",
       "      <th>3</th>\n",
       "      <td>4</td>\n",
       "      <td>Christine Williams</td>\n",
       "      <td>58</td>\n",
       "      <td>Female</td>\n",
       "      <td>IT</td>\n",
       "      <td>5895</td>\n",
       "      <td>2017-09-08</td>\n",
       "      <td>2.0</td>\n",
       "      <td>13</td>\n",
       "      <td>Inactive</td>\n",
       "      <td>Los Angeles</td>\n",
       "      <td>Evening</td>\n",
       "    </tr>\n",
       "    <tr>\n",
       "      <th>4</th>\n",
       "      <td>5</td>\n",
       "      <td>Amber Harris</td>\n",
       "      <td>35</td>\n",
       "      <td>Other</td>\n",
       "      <td>IT</td>\n",
       "      <td>4317</td>\n",
       "      <td>2020-02-15</td>\n",
       "      <td>5.0</td>\n",
       "      <td>16</td>\n",
       "      <td>Inactive</td>\n",
       "      <td>New York</td>\n",
       "      <td>Evening</td>\n",
       "    </tr>\n",
       "  </tbody>\n",
       "</table>\n",
       "</div>"
      ],
      "text/plain": [
       "   ID                Name  Age  Gender Department  Salary Joining Date  \\\n",
       "0   1        Cory Escobar   48  Female         HR    5641   2015-05-03   \n",
       "1   2     Timothy Sanchez   25   Other      Sales    4249   2020-11-09   \n",
       "2   3        Chad Nichols   57   Other      Sales    3058   2019-02-12   \n",
       "3   4  Christine Williams   58  Female         IT    5895   2017-09-08   \n",
       "4   5        Amber Harris   35   Other         IT    4317   2020-02-15   \n",
       "\n",
       "   Performance Score  Experience    Status     Location  Session  \n",
       "0                2.0          16    Active     New York    Night  \n",
       "1                2.0          11  Inactive  Los Angeles  Evening  \n",
       "2                NaN           1  Inactive     New York  Morning  \n",
       "3                2.0          13  Inactive  Los Angeles  Evening  \n",
       "4                5.0          16  Inactive     New York  Evening  "
      ]
     },
     "execution_count": 3,
     "metadata": {},
     "output_type": "execute_result"
    }
   ],
   "source": [
    "df.head()"
   ]
  },
  {
   "cell_type": "code",
   "execution_count": 4,
   "id": "2327a7bf",
   "metadata": {
    "execution": {
     "iopub.execute_input": "2024-12-14T15:25:25.722169Z",
     "iopub.status.busy": "2024-12-14T15:25:25.721771Z",
     "iopub.status.idle": "2024-12-14T15:25:25.732718Z",
     "shell.execute_reply": "2024-12-14T15:25:25.732049Z"
    },
    "papermill": {
     "duration": 0.023964,
     "end_time": "2024-12-14T15:25:25.734118",
     "exception": false,
     "start_time": "2024-12-14T15:25:25.710154",
     "status": "completed"
    },
    "tags": []
   },
   "outputs": [
    {
     "data": {
      "text/html": [
       "<div>\n",
       "<style scoped>\n",
       "    .dataframe tbody tr th:only-of-type {\n",
       "        vertical-align: middle;\n",
       "    }\n",
       "\n",
       "    .dataframe tbody tr th {\n",
       "        vertical-align: top;\n",
       "    }\n",
       "\n",
       "    .dataframe thead th {\n",
       "        text-align: right;\n",
       "    }\n",
       "</style>\n",
       "<table border=\"1\" class=\"dataframe\">\n",
       "  <thead>\n",
       "    <tr style=\"text-align: right;\">\n",
       "      <th></th>\n",
       "      <th>ID</th>\n",
       "      <th>Name</th>\n",
       "      <th>Age</th>\n",
       "      <th>Gender</th>\n",
       "      <th>Department</th>\n",
       "      <th>Salary</th>\n",
       "      <th>Joining Date</th>\n",
       "      <th>Performance Score</th>\n",
       "      <th>Experience</th>\n",
       "      <th>Status</th>\n",
       "      <th>Location</th>\n",
       "      <th>Session</th>\n",
       "    </tr>\n",
       "  </thead>\n",
       "  <tbody>\n",
       "    <tr>\n",
       "      <th>995</th>\n",
       "      <td>996</td>\n",
       "      <td>Pamela Reeves</td>\n",
       "      <td>49</td>\n",
       "      <td>Female</td>\n",
       "      <td>Sales</td>\n",
       "      <td>7652</td>\n",
       "      <td>2024-06-23</td>\n",
       "      <td>4.0</td>\n",
       "      <td>3</td>\n",
       "      <td>Active</td>\n",
       "      <td>Los Angeles</td>\n",
       "      <td>Evening</td>\n",
       "    </tr>\n",
       "    <tr>\n",
       "      <th>996</th>\n",
       "      <td>997</td>\n",
       "      <td>Todd Johnson</td>\n",
       "      <td>29</td>\n",
       "      <td>Female</td>\n",
       "      <td>Sales</td>\n",
       "      <td>6754</td>\n",
       "      <td>2018-07-20</td>\n",
       "      <td>NaN</td>\n",
       "      <td>12</td>\n",
       "      <td>Inactive</td>\n",
       "      <td>New York</td>\n",
       "      <td>Morning</td>\n",
       "    </tr>\n",
       "    <tr>\n",
       "      <th>997</th>\n",
       "      <td>998</td>\n",
       "      <td>Michael Sanchez</td>\n",
       "      <td>18</td>\n",
       "      <td>Male</td>\n",
       "      <td>Sales</td>\n",
       "      <td>5278</td>\n",
       "      <td>2023-07-05</td>\n",
       "      <td>5.0</td>\n",
       "      <td>3</td>\n",
       "      <td>Active</td>\n",
       "      <td>New York</td>\n",
       "      <td>Morning</td>\n",
       "    </tr>\n",
       "    <tr>\n",
       "      <th>998</th>\n",
       "      <td>999</td>\n",
       "      <td>Ashley Taylor</td>\n",
       "      <td>51</td>\n",
       "      <td>Female</td>\n",
       "      <td>IT</td>\n",
       "      <td>5437</td>\n",
       "      <td>2022-02-18</td>\n",
       "      <td>4.0</td>\n",
       "      <td>9</td>\n",
       "      <td>Inactive</td>\n",
       "      <td>Los Angeles</td>\n",
       "      <td>Evening</td>\n",
       "    </tr>\n",
       "    <tr>\n",
       "      <th>999</th>\n",
       "      <td>1000</td>\n",
       "      <td>Shawn Scott</td>\n",
       "      <td>45</td>\n",
       "      <td>Male</td>\n",
       "      <td>IT</td>\n",
       "      <td>7364</td>\n",
       "      <td>2022-07-31</td>\n",
       "      <td>2.0</td>\n",
       "      <td>4</td>\n",
       "      <td>Active</td>\n",
       "      <td>New York</td>\n",
       "      <td>Morning</td>\n",
       "    </tr>\n",
       "  </tbody>\n",
       "</table>\n",
       "</div>"
      ],
      "text/plain": [
       "       ID             Name  Age  Gender Department  Salary Joining Date  \\\n",
       "995   996    Pamela Reeves   49  Female      Sales    7652   2024-06-23   \n",
       "996   997     Todd Johnson   29  Female      Sales    6754   2018-07-20   \n",
       "997   998  Michael Sanchez   18    Male      Sales    5278   2023-07-05   \n",
       "998   999    Ashley Taylor   51  Female         IT    5437   2022-02-18   \n",
       "999  1000      Shawn Scott   45    Male         IT    7364   2022-07-31   \n",
       "\n",
       "     Performance Score  Experience    Status     Location  Session  \n",
       "995                4.0           3    Active  Los Angeles  Evening  \n",
       "996                NaN          12  Inactive     New York  Morning  \n",
       "997                5.0           3    Active     New York  Morning  \n",
       "998                4.0           9  Inactive  Los Angeles  Evening  \n",
       "999                2.0           4    Active     New York  Morning  "
      ]
     },
     "execution_count": 4,
     "metadata": {},
     "output_type": "execute_result"
    }
   ],
   "source": [
    "df.tail()"
   ]
  },
  {
   "cell_type": "markdown",
   "id": "b5ad46f4",
   "metadata": {
    "papermill": {
     "duration": 0.01039,
     "end_time": "2024-12-14T15:25:25.755601",
     "exception": false,
     "start_time": "2024-12-14T15:25:25.745211",
     "status": "completed"
    },
    "tags": []
   },
   "source": [
    "## 2. What are the column names and their respective data types in the dataset?\r\n"
   ]
  },
  {
   "cell_type": "code",
   "execution_count": 5,
   "id": "22d71794",
   "metadata": {
    "execution": {
     "iopub.execute_input": "2024-12-14T15:25:25.778149Z",
     "iopub.status.busy": "2024-12-14T15:25:25.777501Z",
     "iopub.status.idle": "2024-12-14T15:25:25.782738Z",
     "shell.execute_reply": "2024-12-14T15:25:25.781678Z"
    },
    "papermill": {
     "duration": 0.018712,
     "end_time": "2024-12-14T15:25:25.784576",
     "exception": false,
     "start_time": "2024-12-14T15:25:25.765864",
     "status": "completed"
    },
    "tags": []
   },
   "outputs": [
    {
     "data": {
      "text/plain": [
       "Index(['ID', 'Name', 'Age', 'Gender', 'Department', 'Salary', 'Joining Date',\n",
       "       'Performance Score', 'Experience', 'Status', 'Location', 'Session'],\n",
       "      dtype='object')"
      ]
     },
     "execution_count": 5,
     "metadata": {},
     "output_type": "execute_result"
    }
   ],
   "source": [
    "df.columns"
   ]
  },
  {
   "cell_type": "code",
   "execution_count": 6,
   "id": "0c844d37",
   "metadata": {
    "execution": {
     "iopub.execute_input": "2024-12-14T15:25:25.808851Z",
     "iopub.status.busy": "2024-12-14T15:25:25.808479Z",
     "iopub.status.idle": "2024-12-14T15:25:25.815089Z",
     "shell.execute_reply": "2024-12-14T15:25:25.814468Z"
    },
    "papermill": {
     "duration": 0.021104,
     "end_time": "2024-12-14T15:25:25.816882",
     "exception": false,
     "start_time": "2024-12-14T15:25:25.795778",
     "status": "completed"
    },
    "tags": []
   },
   "outputs": [
    {
     "data": {
      "text/plain": [
       "ID                     int64\n",
       "Name                  object\n",
       "Age                    int64\n",
       "Gender                object\n",
       "Department            object\n",
       "Salary                 int64\n",
       "Joining Date          object\n",
       "Performance Score    float64\n",
       "Experience             int64\n",
       "Status                object\n",
       "Location              object\n",
       "Session               object\n",
       "dtype: object"
      ]
     },
     "execution_count": 6,
     "metadata": {},
     "output_type": "execute_result"
    }
   ],
   "source": [
    "df.dtypes"
   ]
  },
  {
   "cell_type": "markdown",
   "id": "1fa9d841",
   "metadata": {
    "papermill": {
     "duration": 0.015293,
     "end_time": "2024-12-14T15:25:25.847441",
     "exception": false,
     "start_time": "2024-12-14T15:25:25.832148",
     "status": "completed"
    },
    "tags": []
   },
   "source": [
    "## 3. How many rows and columns are there in the dataset?\r\n"
   ]
  },
  {
   "cell_type": "code",
   "execution_count": 7,
   "id": "e6762ab9",
   "metadata": {
    "execution": {
     "iopub.execute_input": "2024-12-14T15:25:25.884474Z",
     "iopub.status.busy": "2024-12-14T15:25:25.883455Z",
     "iopub.status.idle": "2024-12-14T15:25:25.890422Z",
     "shell.execute_reply": "2024-12-14T15:25:25.889145Z"
    },
    "papermill": {
     "duration": 0.027126,
     "end_time": "2024-12-14T15:25:25.892773",
     "exception": false,
     "start_time": "2024-12-14T15:25:25.865647",
     "status": "completed"
    },
    "tags": []
   },
   "outputs": [
    {
     "data": {
      "text/plain": [
       "(1000, 12)"
      ]
     },
     "execution_count": 7,
     "metadata": {},
     "output_type": "execute_result"
    }
   ],
   "source": [
    "df.shape\n"
   ]
  },
  {
   "cell_type": "code",
   "execution_count": 8,
   "id": "624114ae",
   "metadata": {
    "execution": {
     "iopub.execute_input": "2024-12-14T15:25:25.918661Z",
     "iopub.status.busy": "2024-12-14T15:25:25.918249Z",
     "iopub.status.idle": "2024-12-14T15:25:25.926033Z",
     "shell.execute_reply": "2024-12-14T15:25:25.924420Z"
    },
    "papermill": {
     "duration": 0.022947,
     "end_time": "2024-12-14T15:25:25.928303",
     "exception": false,
     "start_time": "2024-12-14T15:25:25.905356",
     "status": "completed"
    },
    "tags": []
   },
   "outputs": [
    {
     "data": {
      "text/plain": [
       "[RangeIndex(start=0, stop=1000, step=1),\n",
       " Index(['ID', 'Name', 'Age', 'Gender', 'Department', 'Salary', 'Joining Date',\n",
       "        'Performance Score', 'Experience', 'Status', 'Location', 'Session'],\n",
       "       dtype='object')]"
      ]
     },
     "execution_count": 8,
     "metadata": {},
     "output_type": "execute_result"
    }
   ],
   "source": [
    "df.axes"
   ]
  },
  {
   "cell_type": "markdown",
   "id": "6951da37",
   "metadata": {
    "papermill": {
     "duration": 0.01078,
     "end_time": "2024-12-14T15:25:25.951488",
     "exception": false,
     "start_time": "2024-12-14T15:25:25.940708",
     "status": "completed"
    },
    "tags": []
   },
   "source": [
    "## 4. Select the Name, Age, and Salary columns using df[].\r\n"
   ]
  },
  {
   "cell_type": "code",
   "execution_count": 9,
   "id": "379286be",
   "metadata": {
    "execution": {
     "iopub.execute_input": "2024-12-14T15:25:25.981064Z",
     "iopub.status.busy": "2024-12-14T15:25:25.980746Z",
     "iopub.status.idle": "2024-12-14T15:25:26.001311Z",
     "shell.execute_reply": "2024-12-14T15:25:26.000380Z"
    },
    "papermill": {
     "duration": 0.03775,
     "end_time": "2024-12-14T15:25:26.003878",
     "exception": false,
     "start_time": "2024-12-14T15:25:25.966128",
     "status": "completed"
    },
    "tags": []
   },
   "outputs": [
    {
     "data": {
      "text/html": [
       "<div>\n",
       "<style scoped>\n",
       "    .dataframe tbody tr th:only-of-type {\n",
       "        vertical-align: middle;\n",
       "    }\n",
       "\n",
       "    .dataframe tbody tr th {\n",
       "        vertical-align: top;\n",
       "    }\n",
       "\n",
       "    .dataframe thead th {\n",
       "        text-align: right;\n",
       "    }\n",
       "</style>\n",
       "<table border=\"1\" class=\"dataframe\">\n",
       "  <thead>\n",
       "    <tr style=\"text-align: right;\">\n",
       "      <th></th>\n",
       "      <th>Name</th>\n",
       "      <th>Age</th>\n",
       "      <th>Salary</th>\n",
       "    </tr>\n",
       "  </thead>\n",
       "  <tbody>\n",
       "    <tr>\n",
       "      <th>0</th>\n",
       "      <td>Cory Escobar</td>\n",
       "      <td>48</td>\n",
       "      <td>5641</td>\n",
       "    </tr>\n",
       "    <tr>\n",
       "      <th>1</th>\n",
       "      <td>Timothy Sanchez</td>\n",
       "      <td>25</td>\n",
       "      <td>4249</td>\n",
       "    </tr>\n",
       "    <tr>\n",
       "      <th>2</th>\n",
       "      <td>Chad Nichols</td>\n",
       "      <td>57</td>\n",
       "      <td>3058</td>\n",
       "    </tr>\n",
       "    <tr>\n",
       "      <th>3</th>\n",
       "      <td>Christine Williams</td>\n",
       "      <td>58</td>\n",
       "      <td>5895</td>\n",
       "    </tr>\n",
       "    <tr>\n",
       "      <th>4</th>\n",
       "      <td>Amber Harris</td>\n",
       "      <td>35</td>\n",
       "      <td>4317</td>\n",
       "    </tr>\n",
       "    <tr>\n",
       "      <th>...</th>\n",
       "      <td>...</td>\n",
       "      <td>...</td>\n",
       "      <td>...</td>\n",
       "    </tr>\n",
       "    <tr>\n",
       "      <th>995</th>\n",
       "      <td>Pamela Reeves</td>\n",
       "      <td>49</td>\n",
       "      <td>7652</td>\n",
       "    </tr>\n",
       "    <tr>\n",
       "      <th>996</th>\n",
       "      <td>Todd Johnson</td>\n",
       "      <td>29</td>\n",
       "      <td>6754</td>\n",
       "    </tr>\n",
       "    <tr>\n",
       "      <th>997</th>\n",
       "      <td>Michael Sanchez</td>\n",
       "      <td>18</td>\n",
       "      <td>5278</td>\n",
       "    </tr>\n",
       "    <tr>\n",
       "      <th>998</th>\n",
       "      <td>Ashley Taylor</td>\n",
       "      <td>51</td>\n",
       "      <td>5437</td>\n",
       "    </tr>\n",
       "    <tr>\n",
       "      <th>999</th>\n",
       "      <td>Shawn Scott</td>\n",
       "      <td>45</td>\n",
       "      <td>7364</td>\n",
       "    </tr>\n",
       "  </tbody>\n",
       "</table>\n",
       "<p>1000 rows × 3 columns</p>\n",
       "</div>"
      ],
      "text/plain": [
       "                   Name  Age  Salary\n",
       "0          Cory Escobar   48    5641\n",
       "1       Timothy Sanchez   25    4249\n",
       "2          Chad Nichols   57    3058\n",
       "3    Christine Williams   58    5895\n",
       "4          Amber Harris   35    4317\n",
       "..                  ...  ...     ...\n",
       "995       Pamela Reeves   49    7652\n",
       "996        Todd Johnson   29    6754\n",
       "997     Michael Sanchez   18    5278\n",
       "998       Ashley Taylor   51    5437\n",
       "999         Shawn Scott   45    7364\n",
       "\n",
       "[1000 rows x 3 columns]"
      ]
     },
     "execution_count": 9,
     "metadata": {},
     "output_type": "execute_result"
    }
   ],
   "source": [
    "df[[\"Name\",\"Age\",\"Salary\"]]"
   ]
  },
  {
   "cell_type": "markdown",
   "id": "f6c83089",
   "metadata": {
    "papermill": {
     "duration": 0.012446,
     "end_time": "2024-12-14T15:25:26.036193",
     "exception": false,
     "start_time": "2024-12-14T15:25:26.023747",
     "status": "completed"
    },
    "tags": []
   },
   "source": [
    "## 5. Select the first 5 rows of the DataFrame using the iloc method.\r\n"
   ]
  },
  {
   "cell_type": "code",
   "execution_count": 10,
   "id": "5ba05931",
   "metadata": {
    "execution": {
     "iopub.execute_input": "2024-12-14T15:25:26.061326Z",
     "iopub.status.busy": "2024-12-14T15:25:26.060192Z",
     "iopub.status.idle": "2024-12-14T15:25:26.075759Z",
     "shell.execute_reply": "2024-12-14T15:25:26.075049Z"
    },
    "papermill": {
     "duration": 0.029445,
     "end_time": "2024-12-14T15:25:26.077149",
     "exception": false,
     "start_time": "2024-12-14T15:25:26.047704",
     "status": "completed"
    },
    "tags": []
   },
   "outputs": [
    {
     "data": {
      "text/html": [
       "<div>\n",
       "<style scoped>\n",
       "    .dataframe tbody tr th:only-of-type {\n",
       "        vertical-align: middle;\n",
       "    }\n",
       "\n",
       "    .dataframe tbody tr th {\n",
       "        vertical-align: top;\n",
       "    }\n",
       "\n",
       "    .dataframe thead th {\n",
       "        text-align: right;\n",
       "    }\n",
       "</style>\n",
       "<table border=\"1\" class=\"dataframe\">\n",
       "  <thead>\n",
       "    <tr style=\"text-align: right;\">\n",
       "      <th></th>\n",
       "      <th>ID</th>\n",
       "      <th>Name</th>\n",
       "      <th>Age</th>\n",
       "      <th>Gender</th>\n",
       "      <th>Department</th>\n",
       "      <th>Salary</th>\n",
       "      <th>Joining Date</th>\n",
       "      <th>Performance Score</th>\n",
       "      <th>Experience</th>\n",
       "      <th>Status</th>\n",
       "      <th>Location</th>\n",
       "      <th>Session</th>\n",
       "    </tr>\n",
       "  </thead>\n",
       "  <tbody>\n",
       "    <tr>\n",
       "      <th>1</th>\n",
       "      <td>2</td>\n",
       "      <td>Timothy Sanchez</td>\n",
       "      <td>25</td>\n",
       "      <td>Other</td>\n",
       "      <td>Sales</td>\n",
       "      <td>4249</td>\n",
       "      <td>2020-11-09</td>\n",
       "      <td>2.0</td>\n",
       "      <td>11</td>\n",
       "      <td>Inactive</td>\n",
       "      <td>Los Angeles</td>\n",
       "      <td>Evening</td>\n",
       "    </tr>\n",
       "    <tr>\n",
       "      <th>2</th>\n",
       "      <td>3</td>\n",
       "      <td>Chad Nichols</td>\n",
       "      <td>57</td>\n",
       "      <td>Other</td>\n",
       "      <td>Sales</td>\n",
       "      <td>3058</td>\n",
       "      <td>2019-02-12</td>\n",
       "      <td>NaN</td>\n",
       "      <td>1</td>\n",
       "      <td>Inactive</td>\n",
       "      <td>New York</td>\n",
       "      <td>Morning</td>\n",
       "    </tr>\n",
       "    <tr>\n",
       "      <th>3</th>\n",
       "      <td>4</td>\n",
       "      <td>Christine Williams</td>\n",
       "      <td>58</td>\n",
       "      <td>Female</td>\n",
       "      <td>IT</td>\n",
       "      <td>5895</td>\n",
       "      <td>2017-09-08</td>\n",
       "      <td>2.0</td>\n",
       "      <td>13</td>\n",
       "      <td>Inactive</td>\n",
       "      <td>Los Angeles</td>\n",
       "      <td>Evening</td>\n",
       "    </tr>\n",
       "    <tr>\n",
       "      <th>4</th>\n",
       "      <td>5</td>\n",
       "      <td>Amber Harris</td>\n",
       "      <td>35</td>\n",
       "      <td>Other</td>\n",
       "      <td>IT</td>\n",
       "      <td>4317</td>\n",
       "      <td>2020-02-15</td>\n",
       "      <td>5.0</td>\n",
       "      <td>16</td>\n",
       "      <td>Inactive</td>\n",
       "      <td>New York</td>\n",
       "      <td>Evening</td>\n",
       "    </tr>\n",
       "    <tr>\n",
       "      <th>5</th>\n",
       "      <td>6</td>\n",
       "      <td>Ashley Howe</td>\n",
       "      <td>29</td>\n",
       "      <td>Female</td>\n",
       "      <td>HR</td>\n",
       "      <td>2591</td>\n",
       "      <td>2016-06-24</td>\n",
       "      <td>1.0</td>\n",
       "      <td>6</td>\n",
       "      <td>Active</td>\n",
       "      <td>Chicago</td>\n",
       "      <td>Evening</td>\n",
       "    </tr>\n",
       "  </tbody>\n",
       "</table>\n",
       "</div>"
      ],
      "text/plain": [
       "   ID                Name  Age  Gender Department  Salary Joining Date  \\\n",
       "1   2     Timothy Sanchez   25   Other      Sales    4249   2020-11-09   \n",
       "2   3        Chad Nichols   57   Other      Sales    3058   2019-02-12   \n",
       "3   4  Christine Williams   58  Female         IT    5895   2017-09-08   \n",
       "4   5        Amber Harris   35   Other         IT    4317   2020-02-15   \n",
       "5   6         Ashley Howe   29  Female         HR    2591   2016-06-24   \n",
       "\n",
       "   Performance Score  Experience    Status     Location  Session  \n",
       "1                2.0          11  Inactive  Los Angeles  Evening  \n",
       "2                NaN           1  Inactive     New York  Morning  \n",
       "3                2.0          13  Inactive  Los Angeles  Evening  \n",
       "4                5.0          16  Inactive     New York  Evening  \n",
       "5                1.0           6    Active      Chicago  Evening  "
      ]
     },
     "execution_count": 10,
     "metadata": {},
     "output_type": "execute_result"
    }
   ],
   "source": [
    "df.iloc[1:6]"
   ]
  },
  {
   "cell_type": "markdown",
   "id": "4479cf42",
   "metadata": {
    "papermill": {
     "duration": 0.019851,
     "end_time": "2024-12-14T15:25:26.113335",
     "exception": false,
     "start_time": "2024-12-14T15:25:26.093484",
     "status": "completed"
    },
    "tags": []
   },
   "source": [
    "## 6. Select all rows where the Department is \"Sales\" using the loc method.\r\n"
   ]
  },
  {
   "cell_type": "code",
   "execution_count": 11,
   "id": "0b667b4d",
   "metadata": {
    "execution": {
     "iopub.execute_input": "2024-12-14T15:25:26.140238Z",
     "iopub.status.busy": "2024-12-14T15:25:26.139854Z",
     "iopub.status.idle": "2024-12-14T15:25:26.157213Z",
     "shell.execute_reply": "2024-12-14T15:25:26.156342Z"
    },
    "papermill": {
     "duration": 0.033572,
     "end_time": "2024-12-14T15:25:26.159326",
     "exception": false,
     "start_time": "2024-12-14T15:25:26.125754",
     "status": "completed"
    },
    "tags": []
   },
   "outputs": [
    {
     "data": {
      "text/html": [
       "<div>\n",
       "<style scoped>\n",
       "    .dataframe tbody tr th:only-of-type {\n",
       "        vertical-align: middle;\n",
       "    }\n",
       "\n",
       "    .dataframe tbody tr th {\n",
       "        vertical-align: top;\n",
       "    }\n",
       "\n",
       "    .dataframe thead th {\n",
       "        text-align: right;\n",
       "    }\n",
       "</style>\n",
       "<table border=\"1\" class=\"dataframe\">\n",
       "  <thead>\n",
       "    <tr style=\"text-align: right;\">\n",
       "      <th></th>\n",
       "      <th>ID</th>\n",
       "      <th>Name</th>\n",
       "      <th>Age</th>\n",
       "      <th>Gender</th>\n",
       "      <th>Department</th>\n",
       "      <th>Salary</th>\n",
       "      <th>Joining Date</th>\n",
       "      <th>Performance Score</th>\n",
       "      <th>Experience</th>\n",
       "      <th>Status</th>\n",
       "      <th>Location</th>\n",
       "      <th>Session</th>\n",
       "    </tr>\n",
       "  </thead>\n",
       "  <tbody>\n",
       "    <tr>\n",
       "      <th>1</th>\n",
       "      <td>2</td>\n",
       "      <td>Timothy Sanchez</td>\n",
       "      <td>25</td>\n",
       "      <td>Other</td>\n",
       "      <td>Sales</td>\n",
       "      <td>4249</td>\n",
       "      <td>2020-11-09</td>\n",
       "      <td>2.0</td>\n",
       "      <td>11</td>\n",
       "      <td>Inactive</td>\n",
       "      <td>Los Angeles</td>\n",
       "      <td>Evening</td>\n",
       "    </tr>\n",
       "    <tr>\n",
       "      <th>2</th>\n",
       "      <td>3</td>\n",
       "      <td>Chad Nichols</td>\n",
       "      <td>57</td>\n",
       "      <td>Other</td>\n",
       "      <td>Sales</td>\n",
       "      <td>3058</td>\n",
       "      <td>2019-02-12</td>\n",
       "      <td>NaN</td>\n",
       "      <td>1</td>\n",
       "      <td>Inactive</td>\n",
       "      <td>New York</td>\n",
       "      <td>Morning</td>\n",
       "    </tr>\n",
       "    <tr>\n",
       "      <th>6</th>\n",
       "      <td>7</td>\n",
       "      <td>David Olson</td>\n",
       "      <td>39</td>\n",
       "      <td>Female</td>\n",
       "      <td>Sales</td>\n",
       "      <td>6826</td>\n",
       "      <td>2023-05-11</td>\n",
       "      <td>NaN</td>\n",
       "      <td>4</td>\n",
       "      <td>Active</td>\n",
       "      <td>New York</td>\n",
       "      <td>Night</td>\n",
       "    </tr>\n",
       "    <tr>\n",
       "      <th>8</th>\n",
       "      <td>9</td>\n",
       "      <td>Jeremy Wright</td>\n",
       "      <td>63</td>\n",
       "      <td>Female</td>\n",
       "      <td>Sales</td>\n",
       "      <td>9862</td>\n",
       "      <td>2024-02-07</td>\n",
       "      <td>NaN</td>\n",
       "      <td>3</td>\n",
       "      <td>Inactive</td>\n",
       "      <td>New York</td>\n",
       "      <td>Night</td>\n",
       "    </tr>\n",
       "    <tr>\n",
       "      <th>10</th>\n",
       "      <td>11</td>\n",
       "      <td>Nicole Bell</td>\n",
       "      <td>42</td>\n",
       "      <td>Female</td>\n",
       "      <td>Sales</td>\n",
       "      <td>5336</td>\n",
       "      <td>2015-01-28</td>\n",
       "      <td>3.0</td>\n",
       "      <td>7</td>\n",
       "      <td>Active</td>\n",
       "      <td>Los Angeles</td>\n",
       "      <td>Evening</td>\n",
       "    </tr>\n",
       "    <tr>\n",
       "      <th>...</th>\n",
       "      <td>...</td>\n",
       "      <td>...</td>\n",
       "      <td>...</td>\n",
       "      <td>...</td>\n",
       "      <td>...</td>\n",
       "      <td>...</td>\n",
       "      <td>...</td>\n",
       "      <td>...</td>\n",
       "      <td>...</td>\n",
       "      <td>...</td>\n",
       "      <td>...</td>\n",
       "      <td>...</td>\n",
       "    </tr>\n",
       "    <tr>\n",
       "      <th>991</th>\n",
       "      <td>992</td>\n",
       "      <td>William Schultz</td>\n",
       "      <td>23</td>\n",
       "      <td>Other</td>\n",
       "      <td>Sales</td>\n",
       "      <td>4311</td>\n",
       "      <td>2019-08-17</td>\n",
       "      <td>NaN</td>\n",
       "      <td>10</td>\n",
       "      <td>Inactive</td>\n",
       "      <td>Los Angeles</td>\n",
       "      <td>Evening</td>\n",
       "    </tr>\n",
       "    <tr>\n",
       "      <th>992</th>\n",
       "      <td>993</td>\n",
       "      <td>Ashley Daniels</td>\n",
       "      <td>25</td>\n",
       "      <td>Other</td>\n",
       "      <td>Sales</td>\n",
       "      <td>5524</td>\n",
       "      <td>2022-11-24</td>\n",
       "      <td>NaN</td>\n",
       "      <td>8</td>\n",
       "      <td>Inactive</td>\n",
       "      <td>New York</td>\n",
       "      <td>Morning</td>\n",
       "    </tr>\n",
       "    <tr>\n",
       "      <th>995</th>\n",
       "      <td>996</td>\n",
       "      <td>Pamela Reeves</td>\n",
       "      <td>49</td>\n",
       "      <td>Female</td>\n",
       "      <td>Sales</td>\n",
       "      <td>7652</td>\n",
       "      <td>2024-06-23</td>\n",
       "      <td>4.0</td>\n",
       "      <td>3</td>\n",
       "      <td>Active</td>\n",
       "      <td>Los Angeles</td>\n",
       "      <td>Evening</td>\n",
       "    </tr>\n",
       "    <tr>\n",
       "      <th>996</th>\n",
       "      <td>997</td>\n",
       "      <td>Todd Johnson</td>\n",
       "      <td>29</td>\n",
       "      <td>Female</td>\n",
       "      <td>Sales</td>\n",
       "      <td>6754</td>\n",
       "      <td>2018-07-20</td>\n",
       "      <td>NaN</td>\n",
       "      <td>12</td>\n",
       "      <td>Inactive</td>\n",
       "      <td>New York</td>\n",
       "      <td>Morning</td>\n",
       "    </tr>\n",
       "    <tr>\n",
       "      <th>997</th>\n",
       "      <td>998</td>\n",
       "      <td>Michael Sanchez</td>\n",
       "      <td>18</td>\n",
       "      <td>Male</td>\n",
       "      <td>Sales</td>\n",
       "      <td>5278</td>\n",
       "      <td>2023-07-05</td>\n",
       "      <td>5.0</td>\n",
       "      <td>3</td>\n",
       "      <td>Active</td>\n",
       "      <td>New York</td>\n",
       "      <td>Morning</td>\n",
       "    </tr>\n",
       "  </tbody>\n",
       "</table>\n",
       "<p>338 rows × 12 columns</p>\n",
       "</div>"
      ],
      "text/plain": [
       "      ID             Name  Age  Gender Department  Salary Joining Date  \\\n",
       "1      2  Timothy Sanchez   25   Other      Sales    4249   2020-11-09   \n",
       "2      3     Chad Nichols   57   Other      Sales    3058   2019-02-12   \n",
       "6      7      David Olson   39  Female      Sales    6826   2023-05-11   \n",
       "8      9    Jeremy Wright   63  Female      Sales    9862   2024-02-07   \n",
       "10    11      Nicole Bell   42  Female      Sales    5336   2015-01-28   \n",
       "..   ...              ...  ...     ...        ...     ...          ...   \n",
       "991  992  William Schultz   23   Other      Sales    4311   2019-08-17   \n",
       "992  993   Ashley Daniels   25   Other      Sales    5524   2022-11-24   \n",
       "995  996    Pamela Reeves   49  Female      Sales    7652   2024-06-23   \n",
       "996  997     Todd Johnson   29  Female      Sales    6754   2018-07-20   \n",
       "997  998  Michael Sanchez   18    Male      Sales    5278   2023-07-05   \n",
       "\n",
       "     Performance Score  Experience    Status     Location  Session  \n",
       "1                  2.0          11  Inactive  Los Angeles  Evening  \n",
       "2                  NaN           1  Inactive     New York  Morning  \n",
       "6                  NaN           4    Active     New York    Night  \n",
       "8                  NaN           3  Inactive     New York    Night  \n",
       "10                 3.0           7    Active  Los Angeles  Evening  \n",
       "..                 ...         ...       ...          ...      ...  \n",
       "991                NaN          10  Inactive  Los Angeles  Evening  \n",
       "992                NaN           8  Inactive     New York  Morning  \n",
       "995                4.0           3    Active  Los Angeles  Evening  \n",
       "996                NaN          12  Inactive     New York  Morning  \n",
       "997                5.0           3    Active     New York  Morning  \n",
       "\n",
       "[338 rows x 12 columns]"
      ]
     },
     "execution_count": 11,
     "metadata": {},
     "output_type": "execute_result"
    }
   ],
   "source": [
    "df.loc[df['Department'] == 'Sales']"
   ]
  },
  {
   "cell_type": "markdown",
   "id": "c5255e6b",
   "metadata": {
    "papermill": {
     "duration": 0.014486,
     "end_time": "2024-12-14T15:25:26.193366",
     "exception": false,
     "start_time": "2024-12-14T15:25:26.178880",
     "status": "completed"
    },
    "tags": []
   },
   "source": [
    "## 7. Select rows where the Salary is greater than 8000 and Status is \"Active\".\r\n"
   ]
  },
  {
   "cell_type": "code",
   "execution_count": 12,
   "id": "de784a6d",
   "metadata": {
    "execution": {
     "iopub.execute_input": "2024-12-14T15:25:26.280513Z",
     "iopub.status.busy": "2024-12-14T15:25:26.279893Z",
     "iopub.status.idle": "2024-12-14T15:25:26.294439Z",
     "shell.execute_reply": "2024-12-14T15:25:26.293387Z"
    },
    "papermill": {
     "duration": 0.08968,
     "end_time": "2024-12-14T15:25:26.296153",
     "exception": false,
     "start_time": "2024-12-14T15:25:26.206473",
     "status": "completed"
    },
    "tags": []
   },
   "outputs": [
    {
     "data": {
      "text/html": [
       "<div>\n",
       "<style scoped>\n",
       "    .dataframe tbody tr th:only-of-type {\n",
       "        vertical-align: middle;\n",
       "    }\n",
       "\n",
       "    .dataframe tbody tr th {\n",
       "        vertical-align: top;\n",
       "    }\n",
       "\n",
       "    .dataframe thead th {\n",
       "        text-align: right;\n",
       "    }\n",
       "</style>\n",
       "<table border=\"1\" class=\"dataframe\">\n",
       "  <thead>\n",
       "    <tr style=\"text-align: right;\">\n",
       "      <th></th>\n",
       "      <th>ID</th>\n",
       "      <th>Name</th>\n",
       "      <th>Age</th>\n",
       "      <th>Gender</th>\n",
       "      <th>Department</th>\n",
       "      <th>Salary</th>\n",
       "      <th>Joining Date</th>\n",
       "      <th>Performance Score</th>\n",
       "      <th>Experience</th>\n",
       "      <th>Status</th>\n",
       "      <th>Location</th>\n",
       "      <th>Session</th>\n",
       "    </tr>\n",
       "  </thead>\n",
       "  <tbody>\n",
       "    <tr>\n",
       "      <th>9</th>\n",
       "      <td>10</td>\n",
       "      <td>Brian Faulkner</td>\n",
       "      <td>30</td>\n",
       "      <td>Male</td>\n",
       "      <td>IT</td>\n",
       "      <td>8202</td>\n",
       "      <td>2018-05-26</td>\n",
       "      <td>1.0</td>\n",
       "      <td>9</td>\n",
       "      <td>Active</td>\n",
       "      <td>Los Angeles</td>\n",
       "      <td>Morning</td>\n",
       "    </tr>\n",
       "    <tr>\n",
       "      <th>24</th>\n",
       "      <td>25</td>\n",
       "      <td>Tracy Carlson</td>\n",
       "      <td>21</td>\n",
       "      <td>Male</td>\n",
       "      <td>HR</td>\n",
       "      <td>9275</td>\n",
       "      <td>2022-04-09</td>\n",
       "      <td>4.0</td>\n",
       "      <td>12</td>\n",
       "      <td>Active</td>\n",
       "      <td>New York</td>\n",
       "      <td>Morning</td>\n",
       "    </tr>\n",
       "    <tr>\n",
       "      <th>38</th>\n",
       "      <td>39</td>\n",
       "      <td>Jordan Scott</td>\n",
       "      <td>33</td>\n",
       "      <td>Other</td>\n",
       "      <td>Sales</td>\n",
       "      <td>8678</td>\n",
       "      <td>2016-05-15</td>\n",
       "      <td>5.0</td>\n",
       "      <td>9</td>\n",
       "      <td>Active</td>\n",
       "      <td>Los Angeles</td>\n",
       "      <td>Evening</td>\n",
       "    </tr>\n",
       "    <tr>\n",
       "      <th>39</th>\n",
       "      <td>40</td>\n",
       "      <td>Lisa Wagner</td>\n",
       "      <td>36</td>\n",
       "      <td>Male</td>\n",
       "      <td>HR</td>\n",
       "      <td>8870</td>\n",
       "      <td>2024-08-12</td>\n",
       "      <td>4.0</td>\n",
       "      <td>17</td>\n",
       "      <td>Active</td>\n",
       "      <td>Los Angeles</td>\n",
       "      <td>Evening</td>\n",
       "    </tr>\n",
       "    <tr>\n",
       "      <th>60</th>\n",
       "      <td>61</td>\n",
       "      <td>Andrew Shannon</td>\n",
       "      <td>51</td>\n",
       "      <td>Other</td>\n",
       "      <td>Sales</td>\n",
       "      <td>8544</td>\n",
       "      <td>2020-02-08</td>\n",
       "      <td>NaN</td>\n",
       "      <td>6</td>\n",
       "      <td>Active</td>\n",
       "      <td>New York</td>\n",
       "      <td>Evening</td>\n",
       "    </tr>\n",
       "    <tr>\n",
       "      <th>...</th>\n",
       "      <td>...</td>\n",
       "      <td>...</td>\n",
       "      <td>...</td>\n",
       "      <td>...</td>\n",
       "      <td>...</td>\n",
       "      <td>...</td>\n",
       "      <td>...</td>\n",
       "      <td>...</td>\n",
       "      <td>...</td>\n",
       "      <td>...</td>\n",
       "      <td>...</td>\n",
       "      <td>...</td>\n",
       "    </tr>\n",
       "    <tr>\n",
       "      <th>976</th>\n",
       "      <td>977</td>\n",
       "      <td>Kimberly Ross</td>\n",
       "      <td>19</td>\n",
       "      <td>Male</td>\n",
       "      <td>Sales</td>\n",
       "      <td>9331</td>\n",
       "      <td>2018-07-03</td>\n",
       "      <td>5.0</td>\n",
       "      <td>12</td>\n",
       "      <td>Active</td>\n",
       "      <td>New York</td>\n",
       "      <td>Morning</td>\n",
       "    </tr>\n",
       "    <tr>\n",
       "      <th>982</th>\n",
       "      <td>983</td>\n",
       "      <td>Stephen Ponce</td>\n",
       "      <td>46</td>\n",
       "      <td>Other</td>\n",
       "      <td>Sales</td>\n",
       "      <td>8696</td>\n",
       "      <td>2022-10-14</td>\n",
       "      <td>4.0</td>\n",
       "      <td>1</td>\n",
       "      <td>Active</td>\n",
       "      <td>New York</td>\n",
       "      <td>Evening</td>\n",
       "    </tr>\n",
       "    <tr>\n",
       "      <th>986</th>\n",
       "      <td>987</td>\n",
       "      <td>Melissa Bradley</td>\n",
       "      <td>39</td>\n",
       "      <td>Female</td>\n",
       "      <td>IT</td>\n",
       "      <td>9618</td>\n",
       "      <td>2015-07-05</td>\n",
       "      <td>1.0</td>\n",
       "      <td>13</td>\n",
       "      <td>Active</td>\n",
       "      <td>New York</td>\n",
       "      <td>Morning</td>\n",
       "    </tr>\n",
       "    <tr>\n",
       "      <th>988</th>\n",
       "      <td>989</td>\n",
       "      <td>Hannah Hickman</td>\n",
       "      <td>36</td>\n",
       "      <td>Female</td>\n",
       "      <td>IT</td>\n",
       "      <td>9118</td>\n",
       "      <td>2022-07-02</td>\n",
       "      <td>5.0</td>\n",
       "      <td>5</td>\n",
       "      <td>Active</td>\n",
       "      <td>New York</td>\n",
       "      <td>Night</td>\n",
       "    </tr>\n",
       "    <tr>\n",
       "      <th>989</th>\n",
       "      <td>990</td>\n",
       "      <td>Shannon Meyer</td>\n",
       "      <td>18</td>\n",
       "      <td>Other</td>\n",
       "      <td>HR</td>\n",
       "      <td>9985</td>\n",
       "      <td>2022-11-05</td>\n",
       "      <td>4.0</td>\n",
       "      <td>18</td>\n",
       "      <td>Active</td>\n",
       "      <td>Chicago</td>\n",
       "      <td>Night</td>\n",
       "    </tr>\n",
       "  </tbody>\n",
       "</table>\n",
       "<p>112 rows × 12 columns</p>\n",
       "</div>"
      ],
      "text/plain": [
       "      ID             Name  Age  Gender Department  Salary Joining Date  \\\n",
       "9     10   Brian Faulkner   30    Male         IT    8202   2018-05-26   \n",
       "24    25    Tracy Carlson   21    Male         HR    9275   2022-04-09   \n",
       "38    39     Jordan Scott   33   Other      Sales    8678   2016-05-15   \n",
       "39    40      Lisa Wagner   36    Male         HR    8870   2024-08-12   \n",
       "60    61   Andrew Shannon   51   Other      Sales    8544   2020-02-08   \n",
       "..   ...              ...  ...     ...        ...     ...          ...   \n",
       "976  977    Kimberly Ross   19    Male      Sales    9331   2018-07-03   \n",
       "982  983    Stephen Ponce   46   Other      Sales    8696   2022-10-14   \n",
       "986  987  Melissa Bradley   39  Female         IT    9618   2015-07-05   \n",
       "988  989   Hannah Hickman   36  Female         IT    9118   2022-07-02   \n",
       "989  990    Shannon Meyer   18   Other         HR    9985   2022-11-05   \n",
       "\n",
       "     Performance Score  Experience  Status     Location  Session  \n",
       "9                  1.0           9  Active  Los Angeles  Morning  \n",
       "24                 4.0          12  Active     New York  Morning  \n",
       "38                 5.0           9  Active  Los Angeles  Evening  \n",
       "39                 4.0          17  Active  Los Angeles  Evening  \n",
       "60                 NaN           6  Active     New York  Evening  \n",
       "..                 ...         ...     ...          ...      ...  \n",
       "976                5.0          12  Active     New York  Morning  \n",
       "982                4.0           1  Active     New York  Evening  \n",
       "986                1.0          13  Active     New York  Morning  \n",
       "988                5.0           5  Active     New York    Night  \n",
       "989                4.0          18  Active      Chicago    Night  \n",
       "\n",
       "[112 rows x 12 columns]"
      ]
     },
     "execution_count": 12,
     "metadata": {},
     "output_type": "execute_result"
    }
   ],
   "source": [
    "df.loc[(df['Salary'] > 8000) & (df['Status'] == 'Active')]"
   ]
  },
  {
   "cell_type": "markdown",
   "id": "e88571ff",
   "metadata": {
    "papermill": {
     "duration": 0.014805,
     "end_time": "2024-12-14T15:25:26.323906",
     "exception": false,
     "start_time": "2024-12-14T15:25:26.309101",
     "status": "completed"
    },
    "tags": []
   },
   "source": [
    "## 8. Extract the rows where the employee has been with the company for more than 5 years and has a \n",
    "Performance Score of at least .444"
   ]
  },
  {
   "cell_type": "code",
   "execution_count": 13,
   "id": "ea185c9c",
   "metadata": {
    "execution": {
     "iopub.execute_input": "2024-12-14T15:25:26.351471Z",
     "iopub.status.busy": "2024-12-14T15:25:26.351194Z",
     "iopub.status.idle": "2024-12-14T15:25:26.364270Z",
     "shell.execute_reply": "2024-12-14T15:25:26.363388Z"
    },
    "papermill": {
     "duration": 0.028775,
     "end_time": "2024-12-14T15:25:26.365748",
     "exception": false,
     "start_time": "2024-12-14T15:25:26.336973",
     "status": "completed"
    },
    "tags": []
   },
   "outputs": [
    {
     "data": {
      "text/html": [
       "<div>\n",
       "<style scoped>\n",
       "    .dataframe tbody tr th:only-of-type {\n",
       "        vertical-align: middle;\n",
       "    }\n",
       "\n",
       "    .dataframe tbody tr th {\n",
       "        vertical-align: top;\n",
       "    }\n",
       "\n",
       "    .dataframe thead th {\n",
       "        text-align: right;\n",
       "    }\n",
       "</style>\n",
       "<table border=\"1\" class=\"dataframe\">\n",
       "  <thead>\n",
       "    <tr style=\"text-align: right;\">\n",
       "      <th></th>\n",
       "      <th>ID</th>\n",
       "      <th>Name</th>\n",
       "      <th>Age</th>\n",
       "      <th>Gender</th>\n",
       "      <th>Department</th>\n",
       "      <th>Salary</th>\n",
       "      <th>Joining Date</th>\n",
       "      <th>Performance Score</th>\n",
       "      <th>Experience</th>\n",
       "      <th>Status</th>\n",
       "      <th>Location</th>\n",
       "      <th>Session</th>\n",
       "    </tr>\n",
       "  </thead>\n",
       "  <tbody>\n",
       "    <tr>\n",
       "      <th>4</th>\n",
       "      <td>5</td>\n",
       "      <td>Amber Harris</td>\n",
       "      <td>35</td>\n",
       "      <td>Other</td>\n",
       "      <td>IT</td>\n",
       "      <td>4317</td>\n",
       "      <td>2020-02-15</td>\n",
       "      <td>5.0</td>\n",
       "      <td>16</td>\n",
       "      <td>Inactive</td>\n",
       "      <td>New York</td>\n",
       "      <td>Evening</td>\n",
       "    </tr>\n",
       "    <tr>\n",
       "      <th>11</th>\n",
       "      <td>12</td>\n",
       "      <td>Rodney Richardson</td>\n",
       "      <td>60</td>\n",
       "      <td>Other</td>\n",
       "      <td>HR</td>\n",
       "      <td>6908</td>\n",
       "      <td>2015-03-14</td>\n",
       "      <td>4.0</td>\n",
       "      <td>19</td>\n",
       "      <td>Active</td>\n",
       "      <td>Chicago</td>\n",
       "      <td>Night</td>\n",
       "    </tr>\n",
       "    <tr>\n",
       "      <th>17</th>\n",
       "      <td>18</td>\n",
       "      <td>Jacqueline Randall</td>\n",
       "      <td>31</td>\n",
       "      <td>Female</td>\n",
       "      <td>HR</td>\n",
       "      <td>3519</td>\n",
       "      <td>2018-05-18</td>\n",
       "      <td>4.0</td>\n",
       "      <td>6</td>\n",
       "      <td>Active</td>\n",
       "      <td>New York</td>\n",
       "      <td>Morning</td>\n",
       "    </tr>\n",
       "    <tr>\n",
       "      <th>18</th>\n",
       "      <td>19</td>\n",
       "      <td>Nancy Stephens</td>\n",
       "      <td>38</td>\n",
       "      <td>Male</td>\n",
       "      <td>HR</td>\n",
       "      <td>9061</td>\n",
       "      <td>2017-07-16</td>\n",
       "      <td>5.0</td>\n",
       "      <td>16</td>\n",
       "      <td>Inactive</td>\n",
       "      <td>Chicago</td>\n",
       "      <td>Night</td>\n",
       "    </tr>\n",
       "    <tr>\n",
       "      <th>24</th>\n",
       "      <td>25</td>\n",
       "      <td>Tracy Carlson</td>\n",
       "      <td>21</td>\n",
       "      <td>Male</td>\n",
       "      <td>HR</td>\n",
       "      <td>9275</td>\n",
       "      <td>2022-04-09</td>\n",
       "      <td>4.0</td>\n",
       "      <td>12</td>\n",
       "      <td>Active</td>\n",
       "      <td>New York</td>\n",
       "      <td>Morning</td>\n",
       "    </tr>\n",
       "    <tr>\n",
       "      <th>...</th>\n",
       "      <td>...</td>\n",
       "      <td>...</td>\n",
       "      <td>...</td>\n",
       "      <td>...</td>\n",
       "      <td>...</td>\n",
       "      <td>...</td>\n",
       "      <td>...</td>\n",
       "      <td>...</td>\n",
       "      <td>...</td>\n",
       "      <td>...</td>\n",
       "      <td>...</td>\n",
       "      <td>...</td>\n",
       "    </tr>\n",
       "    <tr>\n",
       "      <th>978</th>\n",
       "      <td>979</td>\n",
       "      <td>Michael Lee</td>\n",
       "      <td>18</td>\n",
       "      <td>Female</td>\n",
       "      <td>IT</td>\n",
       "      <td>6086</td>\n",
       "      <td>2019-05-30</td>\n",
       "      <td>4.0</td>\n",
       "      <td>7</td>\n",
       "      <td>Inactive</td>\n",
       "      <td>Los Angeles</td>\n",
       "      <td>Evening</td>\n",
       "    </tr>\n",
       "    <tr>\n",
       "      <th>989</th>\n",
       "      <td>990</td>\n",
       "      <td>Shannon Meyer</td>\n",
       "      <td>18</td>\n",
       "      <td>Other</td>\n",
       "      <td>HR</td>\n",
       "      <td>9985</td>\n",
       "      <td>2022-11-05</td>\n",
       "      <td>4.0</td>\n",
       "      <td>18</td>\n",
       "      <td>Active</td>\n",
       "      <td>Chicago</td>\n",
       "      <td>Night</td>\n",
       "    </tr>\n",
       "    <tr>\n",
       "      <th>990</th>\n",
       "      <td>991</td>\n",
       "      <td>Amy Johnston</td>\n",
       "      <td>53</td>\n",
       "      <td>Female</td>\n",
       "      <td>HR</td>\n",
       "      <td>3991</td>\n",
       "      <td>2024-09-03</td>\n",
       "      <td>4.0</td>\n",
       "      <td>8</td>\n",
       "      <td>Active</td>\n",
       "      <td>Chicago</td>\n",
       "      <td>Morning</td>\n",
       "    </tr>\n",
       "    <tr>\n",
       "      <th>993</th>\n",
       "      <td>994</td>\n",
       "      <td>Brandon Bruce</td>\n",
       "      <td>31</td>\n",
       "      <td>Female</td>\n",
       "      <td>HR</td>\n",
       "      <td>3371</td>\n",
       "      <td>2018-09-25</td>\n",
       "      <td>5.0</td>\n",
       "      <td>12</td>\n",
       "      <td>Inactive</td>\n",
       "      <td>Chicago</td>\n",
       "      <td>Night</td>\n",
       "    </tr>\n",
       "    <tr>\n",
       "      <th>998</th>\n",
       "      <td>999</td>\n",
       "      <td>Ashley Taylor</td>\n",
       "      <td>51</td>\n",
       "      <td>Female</td>\n",
       "      <td>IT</td>\n",
       "      <td>5437</td>\n",
       "      <td>2022-02-18</td>\n",
       "      <td>4.0</td>\n",
       "      <td>9</td>\n",
       "      <td>Inactive</td>\n",
       "      <td>Los Angeles</td>\n",
       "      <td>Evening</td>\n",
       "    </tr>\n",
       "  </tbody>\n",
       "</table>\n",
       "<p>137 rows × 12 columns</p>\n",
       "</div>"
      ],
      "text/plain": [
       "      ID                Name  Age  Gender Department  Salary Joining Date  \\\n",
       "4      5        Amber Harris   35   Other         IT    4317   2020-02-15   \n",
       "11    12   Rodney Richardson   60   Other         HR    6908   2015-03-14   \n",
       "17    18  Jacqueline Randall   31  Female         HR    3519   2018-05-18   \n",
       "18    19      Nancy Stephens   38    Male         HR    9061   2017-07-16   \n",
       "24    25       Tracy Carlson   21    Male         HR    9275   2022-04-09   \n",
       "..   ...                 ...  ...     ...        ...     ...          ...   \n",
       "978  979         Michael Lee   18  Female         IT    6086   2019-05-30   \n",
       "989  990       Shannon Meyer   18   Other         HR    9985   2022-11-05   \n",
       "990  991        Amy Johnston   53  Female         HR    3991   2024-09-03   \n",
       "993  994       Brandon Bruce   31  Female         HR    3371   2018-09-25   \n",
       "998  999       Ashley Taylor   51  Female         IT    5437   2022-02-18   \n",
       "\n",
       "     Performance Score  Experience    Status     Location  Session  \n",
       "4                  5.0          16  Inactive     New York  Evening  \n",
       "11                 4.0          19    Active      Chicago    Night  \n",
       "17                 4.0           6    Active     New York  Morning  \n",
       "18                 5.0          16  Inactive      Chicago    Night  \n",
       "24                 4.0          12    Active     New York  Morning  \n",
       "..                 ...         ...       ...          ...      ...  \n",
       "978                4.0           7  Inactive  Los Angeles  Evening  \n",
       "989                4.0          18    Active      Chicago    Night  \n",
       "990                4.0           8    Active      Chicago  Morning  \n",
       "993                5.0          12  Inactive      Chicago    Night  \n",
       "998                4.0           9  Inactive  Los Angeles  Evening  \n",
       "\n",
       "[137 rows x 12 columns]"
      ]
     },
     "execution_count": 13,
     "metadata": {},
     "output_type": "execute_result"
    }
   ],
   "source": [
    "df.loc[(df['Experience'] > 5) & (df['Performance Score'] >= 4.0)]"
   ]
  },
  {
   "cell_type": "markdown",
   "id": "2fb56f78",
   "metadata": {
    "papermill": {
     "duration": 0.011471,
     "end_time": "2024-12-14T15:25:26.389327",
     "exception": false,
     "start_time": "2024-12-14T15:25:26.377856",
     "status": "completed"
    },
    "tags": []
   },
   "source": [
    "## 9. Select every alternate row from the DataFrame using slicing with iloc.\r\n"
   ]
  },
  {
   "cell_type": "code",
   "execution_count": 14,
   "id": "81244857",
   "metadata": {
    "execution": {
     "iopub.execute_input": "2024-12-14T15:25:26.415564Z",
     "iopub.status.busy": "2024-12-14T15:25:26.415277Z",
     "iopub.status.idle": "2024-12-14T15:25:26.427129Z",
     "shell.execute_reply": "2024-12-14T15:25:26.426400Z"
    },
    "papermill": {
     "duration": 0.027516,
     "end_time": "2024-12-14T15:25:26.428486",
     "exception": false,
     "start_time": "2024-12-14T15:25:26.400970",
     "status": "completed"
    },
    "tags": []
   },
   "outputs": [
    {
     "data": {
      "text/html": [
       "<div>\n",
       "<style scoped>\n",
       "    .dataframe tbody tr th:only-of-type {\n",
       "        vertical-align: middle;\n",
       "    }\n",
       "\n",
       "    .dataframe tbody tr th {\n",
       "        vertical-align: top;\n",
       "    }\n",
       "\n",
       "    .dataframe thead th {\n",
       "        text-align: right;\n",
       "    }\n",
       "</style>\n",
       "<table border=\"1\" class=\"dataframe\">\n",
       "  <thead>\n",
       "    <tr style=\"text-align: right;\">\n",
       "      <th></th>\n",
       "      <th>ID</th>\n",
       "      <th>Name</th>\n",
       "      <th>Age</th>\n",
       "      <th>Gender</th>\n",
       "      <th>Department</th>\n",
       "      <th>Salary</th>\n",
       "      <th>Joining Date</th>\n",
       "      <th>Performance Score</th>\n",
       "      <th>Experience</th>\n",
       "      <th>Status</th>\n",
       "      <th>Location</th>\n",
       "      <th>Session</th>\n",
       "    </tr>\n",
       "  </thead>\n",
       "  <tbody>\n",
       "    <tr>\n",
       "      <th>0</th>\n",
       "      <td>1</td>\n",
       "      <td>Cory Escobar</td>\n",
       "      <td>48</td>\n",
       "      <td>Female</td>\n",
       "      <td>HR</td>\n",
       "      <td>5641</td>\n",
       "      <td>2015-05-03</td>\n",
       "      <td>2.0</td>\n",
       "      <td>16</td>\n",
       "      <td>Active</td>\n",
       "      <td>New York</td>\n",
       "      <td>Night</td>\n",
       "    </tr>\n",
       "    <tr>\n",
       "      <th>2</th>\n",
       "      <td>3</td>\n",
       "      <td>Chad Nichols</td>\n",
       "      <td>57</td>\n",
       "      <td>Other</td>\n",
       "      <td>Sales</td>\n",
       "      <td>3058</td>\n",
       "      <td>2019-02-12</td>\n",
       "      <td>NaN</td>\n",
       "      <td>1</td>\n",
       "      <td>Inactive</td>\n",
       "      <td>New York</td>\n",
       "      <td>Morning</td>\n",
       "    </tr>\n",
       "    <tr>\n",
       "      <th>4</th>\n",
       "      <td>5</td>\n",
       "      <td>Amber Harris</td>\n",
       "      <td>35</td>\n",
       "      <td>Other</td>\n",
       "      <td>IT</td>\n",
       "      <td>4317</td>\n",
       "      <td>2020-02-15</td>\n",
       "      <td>5.0</td>\n",
       "      <td>16</td>\n",
       "      <td>Inactive</td>\n",
       "      <td>New York</td>\n",
       "      <td>Evening</td>\n",
       "    </tr>\n",
       "    <tr>\n",
       "      <th>6</th>\n",
       "      <td>7</td>\n",
       "      <td>David Olson</td>\n",
       "      <td>39</td>\n",
       "      <td>Female</td>\n",
       "      <td>Sales</td>\n",
       "      <td>6826</td>\n",
       "      <td>2023-05-11</td>\n",
       "      <td>NaN</td>\n",
       "      <td>4</td>\n",
       "      <td>Active</td>\n",
       "      <td>New York</td>\n",
       "      <td>Night</td>\n",
       "    </tr>\n",
       "    <tr>\n",
       "      <th>8</th>\n",
       "      <td>9</td>\n",
       "      <td>Jeremy Wright</td>\n",
       "      <td>63</td>\n",
       "      <td>Female</td>\n",
       "      <td>Sales</td>\n",
       "      <td>9862</td>\n",
       "      <td>2024-02-07</td>\n",
       "      <td>NaN</td>\n",
       "      <td>3</td>\n",
       "      <td>Inactive</td>\n",
       "      <td>New York</td>\n",
       "      <td>Night</td>\n",
       "    </tr>\n",
       "    <tr>\n",
       "      <th>...</th>\n",
       "      <td>...</td>\n",
       "      <td>...</td>\n",
       "      <td>...</td>\n",
       "      <td>...</td>\n",
       "      <td>...</td>\n",
       "      <td>...</td>\n",
       "      <td>...</td>\n",
       "      <td>...</td>\n",
       "      <td>...</td>\n",
       "      <td>...</td>\n",
       "      <td>...</td>\n",
       "      <td>...</td>\n",
       "    </tr>\n",
       "    <tr>\n",
       "      <th>990</th>\n",
       "      <td>991</td>\n",
       "      <td>Amy Johnston</td>\n",
       "      <td>53</td>\n",
       "      <td>Female</td>\n",
       "      <td>HR</td>\n",
       "      <td>3991</td>\n",
       "      <td>2024-09-03</td>\n",
       "      <td>4.0</td>\n",
       "      <td>8</td>\n",
       "      <td>Active</td>\n",
       "      <td>Chicago</td>\n",
       "      <td>Morning</td>\n",
       "    </tr>\n",
       "    <tr>\n",
       "      <th>992</th>\n",
       "      <td>993</td>\n",
       "      <td>Ashley Daniels</td>\n",
       "      <td>25</td>\n",
       "      <td>Other</td>\n",
       "      <td>Sales</td>\n",
       "      <td>5524</td>\n",
       "      <td>2022-11-24</td>\n",
       "      <td>NaN</td>\n",
       "      <td>8</td>\n",
       "      <td>Inactive</td>\n",
       "      <td>New York</td>\n",
       "      <td>Morning</td>\n",
       "    </tr>\n",
       "    <tr>\n",
       "      <th>994</th>\n",
       "      <td>995</td>\n",
       "      <td>Rachel Phillips</td>\n",
       "      <td>22</td>\n",
       "      <td>Male</td>\n",
       "      <td>IT</td>\n",
       "      <td>3096</td>\n",
       "      <td>2018-10-27</td>\n",
       "      <td>2.0</td>\n",
       "      <td>7</td>\n",
       "      <td>Inactive</td>\n",
       "      <td>Chicago</td>\n",
       "      <td>Evening</td>\n",
       "    </tr>\n",
       "    <tr>\n",
       "      <th>996</th>\n",
       "      <td>997</td>\n",
       "      <td>Todd Johnson</td>\n",
       "      <td>29</td>\n",
       "      <td>Female</td>\n",
       "      <td>Sales</td>\n",
       "      <td>6754</td>\n",
       "      <td>2018-07-20</td>\n",
       "      <td>NaN</td>\n",
       "      <td>12</td>\n",
       "      <td>Inactive</td>\n",
       "      <td>New York</td>\n",
       "      <td>Morning</td>\n",
       "    </tr>\n",
       "    <tr>\n",
       "      <th>998</th>\n",
       "      <td>999</td>\n",
       "      <td>Ashley Taylor</td>\n",
       "      <td>51</td>\n",
       "      <td>Female</td>\n",
       "      <td>IT</td>\n",
       "      <td>5437</td>\n",
       "      <td>2022-02-18</td>\n",
       "      <td>4.0</td>\n",
       "      <td>9</td>\n",
       "      <td>Inactive</td>\n",
       "      <td>Los Angeles</td>\n",
       "      <td>Evening</td>\n",
       "    </tr>\n",
       "  </tbody>\n",
       "</table>\n",
       "<p>500 rows × 12 columns</p>\n",
       "</div>"
      ],
      "text/plain": [
       "      ID             Name  Age  Gender Department  Salary Joining Date  \\\n",
       "0      1     Cory Escobar   48  Female         HR    5641   2015-05-03   \n",
       "2      3     Chad Nichols   57   Other      Sales    3058   2019-02-12   \n",
       "4      5     Amber Harris   35   Other         IT    4317   2020-02-15   \n",
       "6      7      David Olson   39  Female      Sales    6826   2023-05-11   \n",
       "8      9    Jeremy Wright   63  Female      Sales    9862   2024-02-07   \n",
       "..   ...              ...  ...     ...        ...     ...          ...   \n",
       "990  991     Amy Johnston   53  Female         HR    3991   2024-09-03   \n",
       "992  993   Ashley Daniels   25   Other      Sales    5524   2022-11-24   \n",
       "994  995  Rachel Phillips   22    Male         IT    3096   2018-10-27   \n",
       "996  997     Todd Johnson   29  Female      Sales    6754   2018-07-20   \n",
       "998  999    Ashley Taylor   51  Female         IT    5437   2022-02-18   \n",
       "\n",
       "     Performance Score  Experience    Status     Location  Session  \n",
       "0                  2.0          16    Active     New York    Night  \n",
       "2                  NaN           1  Inactive     New York  Morning  \n",
       "4                  5.0          16  Inactive     New York  Evening  \n",
       "6                  NaN           4    Active     New York    Night  \n",
       "8                  NaN           3  Inactive     New York    Night  \n",
       "..                 ...         ...       ...          ...      ...  \n",
       "990                4.0           8    Active      Chicago  Morning  \n",
       "992                NaN           8  Inactive     New York  Morning  \n",
       "994                2.0           7  Inactive      Chicago  Evening  \n",
       "996                NaN          12  Inactive     New York  Morning  \n",
       "998                4.0           9  Inactive  Los Angeles  Evening  \n",
       "\n",
       "[500 rows x 12 columns]"
      ]
     },
     "execution_count": 14,
     "metadata": {},
     "output_type": "execute_result"
    }
   ],
   "source": [
    "df.iloc[ : : 2 ]"
   ]
  },
  {
   "cell_type": "markdown",
   "id": "d928510b",
   "metadata": {
    "papermill": {
     "duration": 0.012182,
     "end_time": "2024-12-14T15:25:26.453713",
     "exception": false,
     "start_time": "2024-12-14T15:25:26.441531",
     "status": "completed"
    },
    "tags": []
   },
   "source": [
    "## 10. Retrieve rows where the employee belongs to \"Sales\" and has a Salary in the top 10% of all salaries.\r\n"
   ]
  },
  {
   "cell_type": "code",
   "execution_count": 15,
   "id": "70eb8c49",
   "metadata": {
    "execution": {
     "iopub.execute_input": "2024-12-14T15:25:26.478609Z",
     "iopub.status.busy": "2024-12-14T15:25:26.478305Z",
     "iopub.status.idle": "2024-12-14T15:25:26.489765Z",
     "shell.execute_reply": "2024-12-14T15:25:26.489053Z"
    },
    "papermill": {
     "duration": 0.025556,
     "end_time": "2024-12-14T15:25:26.491114",
     "exception": false,
     "start_time": "2024-12-14T15:25:26.465558",
     "status": "completed"
    },
    "tags": []
   },
   "outputs": [
    {
     "data": {
      "text/html": [
       "<div>\n",
       "<style scoped>\n",
       "    .dataframe tbody tr th:only-of-type {\n",
       "        vertical-align: middle;\n",
       "    }\n",
       "\n",
       "    .dataframe tbody tr th {\n",
       "        vertical-align: top;\n",
       "    }\n",
       "\n",
       "    .dataframe thead th {\n",
       "        text-align: right;\n",
       "    }\n",
       "</style>\n",
       "<table border=\"1\" class=\"dataframe\">\n",
       "  <thead>\n",
       "    <tr style=\"text-align: right;\">\n",
       "      <th></th>\n",
       "      <th>ID</th>\n",
       "      <th>Name</th>\n",
       "      <th>Age</th>\n",
       "      <th>Gender</th>\n",
       "      <th>Department</th>\n",
       "      <th>Salary</th>\n",
       "      <th>Joining Date</th>\n",
       "      <th>Performance Score</th>\n",
       "      <th>Experience</th>\n",
       "      <th>Status</th>\n",
       "      <th>Location</th>\n",
       "      <th>Session</th>\n",
       "    </tr>\n",
       "  </thead>\n",
       "  <tbody>\n",
       "  </tbody>\n",
       "</table>\n",
       "</div>"
      ],
      "text/plain": [
       "Empty DataFrame\n",
       "Columns: [ID, Name, Age, Gender, Department, Salary, Joining Date, Performance Score, Experience, Status, Location, Session]\n",
       "Index: []"
      ]
     },
     "execution_count": 15,
     "metadata": {},
     "output_type": "execute_result"
    }
   ],
   "source": [
    "top10 = df['Salary'].quantile(0.10)\n",
    "df.loc[(df['Department'] == 'Sales') & (df['Salary'] == top10)]"
   ]
  },
  {
   "cell_type": "markdown",
   "id": "854ae92a",
   "metadata": {
    "papermill": {
     "duration": 0.012052,
     "end_time": "2024-12-14T15:25:26.515565",
     "exception": false,
     "start_time": "2024-12-14T15:25:26.503513",
     "status": "completed"
    },
    "tags": []
   },
   "source": [
    "## 11.Replace all \"Inactive\" values in the Status column with \"Retired\".\r\n"
   ]
  },
  {
   "cell_type": "code",
   "execution_count": 16,
   "id": "33dd7a5d",
   "metadata": {
    "execution": {
     "iopub.execute_input": "2024-12-14T15:25:26.542370Z",
     "iopub.status.busy": "2024-12-14T15:25:26.541603Z",
     "iopub.status.idle": "2024-12-14T15:25:26.550222Z",
     "shell.execute_reply": "2024-12-14T15:25:26.549300Z"
    },
    "papermill": {
     "duration": 0.02343,
     "end_time": "2024-12-14T15:25:26.551722",
     "exception": false,
     "start_time": "2024-12-14T15:25:26.528292",
     "status": "completed"
    },
    "tags": []
   },
   "outputs": [
    {
     "data": {
      "text/plain": [
       "0       Active\n",
       "1      Retired\n",
       "2      Retired\n",
       "3      Retired\n",
       "4      Retired\n",
       "        ...   \n",
       "995     Active\n",
       "996    Retired\n",
       "997     Active\n",
       "998    Retired\n",
       "999     Active\n",
       "Name: Status, Length: 1000, dtype: object"
      ]
     },
     "execution_count": 16,
     "metadata": {},
     "output_type": "execute_result"
    }
   ],
   "source": [
    "df['Status'].replace('Inactive', 'Retired')\n"
   ]
  },
  {
   "cell_type": "markdown",
   "id": "98dea913",
   "metadata": {
    "papermill": {
     "duration": 0.012896,
     "end_time": "2024-12-14T15:25:26.577562",
     "exception": false,
     "start_time": "2024-12-14T15:25:26.564666",
     "status": "completed"
    },
    "tags": []
   },
   "source": [
    "## 12.Add a new column Bonus where values are 10% of the Salary column.\r\n"
   ]
  },
  {
   "cell_type": "code",
   "execution_count": 17,
   "id": "56a74a46",
   "metadata": {
    "execution": {
     "iopub.execute_input": "2024-12-14T15:25:26.606585Z",
     "iopub.status.busy": "2024-12-14T15:25:26.606209Z",
     "iopub.status.idle": "2024-12-14T15:25:26.621218Z",
     "shell.execute_reply": "2024-12-14T15:25:26.620356Z"
    },
    "papermill": {
     "duration": 0.031482,
     "end_time": "2024-12-14T15:25:26.622618",
     "exception": false,
     "start_time": "2024-12-14T15:25:26.591136",
     "status": "completed"
    },
    "tags": []
   },
   "outputs": [
    {
     "data": {
      "text/html": [
       "<div>\n",
       "<style scoped>\n",
       "    .dataframe tbody tr th:only-of-type {\n",
       "        vertical-align: middle;\n",
       "    }\n",
       "\n",
       "    .dataframe tbody tr th {\n",
       "        vertical-align: top;\n",
       "    }\n",
       "\n",
       "    .dataframe thead th {\n",
       "        text-align: right;\n",
       "    }\n",
       "</style>\n",
       "<table border=\"1\" class=\"dataframe\">\n",
       "  <thead>\n",
       "    <tr style=\"text-align: right;\">\n",
       "      <th></th>\n",
       "      <th>ID</th>\n",
       "      <th>Name</th>\n",
       "      <th>Age</th>\n",
       "      <th>Gender</th>\n",
       "      <th>Department</th>\n",
       "      <th>Salary</th>\n",
       "      <th>Joining Date</th>\n",
       "      <th>Performance Score</th>\n",
       "      <th>Experience</th>\n",
       "      <th>Status</th>\n",
       "      <th>Location</th>\n",
       "      <th>Session</th>\n",
       "      <th>Bonus</th>\n",
       "    </tr>\n",
       "  </thead>\n",
       "  <tbody>\n",
       "    <tr>\n",
       "      <th>0</th>\n",
       "      <td>1</td>\n",
       "      <td>Cory Escobar</td>\n",
       "      <td>48</td>\n",
       "      <td>Female</td>\n",
       "      <td>HR</td>\n",
       "      <td>5641</td>\n",
       "      <td>2015-05-03</td>\n",
       "      <td>2.0</td>\n",
       "      <td>16</td>\n",
       "      <td>Active</td>\n",
       "      <td>New York</td>\n",
       "      <td>Night</td>\n",
       "      <td>564.1</td>\n",
       "    </tr>\n",
       "    <tr>\n",
       "      <th>1</th>\n",
       "      <td>2</td>\n",
       "      <td>Timothy Sanchez</td>\n",
       "      <td>25</td>\n",
       "      <td>Other</td>\n",
       "      <td>Sales</td>\n",
       "      <td>4249</td>\n",
       "      <td>2020-11-09</td>\n",
       "      <td>2.0</td>\n",
       "      <td>11</td>\n",
       "      <td>Inactive</td>\n",
       "      <td>Los Angeles</td>\n",
       "      <td>Evening</td>\n",
       "      <td>424.9</td>\n",
       "    </tr>\n",
       "    <tr>\n",
       "      <th>2</th>\n",
       "      <td>3</td>\n",
       "      <td>Chad Nichols</td>\n",
       "      <td>57</td>\n",
       "      <td>Other</td>\n",
       "      <td>Sales</td>\n",
       "      <td>3058</td>\n",
       "      <td>2019-02-12</td>\n",
       "      <td>NaN</td>\n",
       "      <td>1</td>\n",
       "      <td>Inactive</td>\n",
       "      <td>New York</td>\n",
       "      <td>Morning</td>\n",
       "      <td>305.8</td>\n",
       "    </tr>\n",
       "    <tr>\n",
       "      <th>3</th>\n",
       "      <td>4</td>\n",
       "      <td>Christine Williams</td>\n",
       "      <td>58</td>\n",
       "      <td>Female</td>\n",
       "      <td>IT</td>\n",
       "      <td>5895</td>\n",
       "      <td>2017-09-08</td>\n",
       "      <td>2.0</td>\n",
       "      <td>13</td>\n",
       "      <td>Inactive</td>\n",
       "      <td>Los Angeles</td>\n",
       "      <td>Evening</td>\n",
       "      <td>589.5</td>\n",
       "    </tr>\n",
       "    <tr>\n",
       "      <th>4</th>\n",
       "      <td>5</td>\n",
       "      <td>Amber Harris</td>\n",
       "      <td>35</td>\n",
       "      <td>Other</td>\n",
       "      <td>IT</td>\n",
       "      <td>4317</td>\n",
       "      <td>2020-02-15</td>\n",
       "      <td>5.0</td>\n",
       "      <td>16</td>\n",
       "      <td>Inactive</td>\n",
       "      <td>New York</td>\n",
       "      <td>Evening</td>\n",
       "      <td>431.7</td>\n",
       "    </tr>\n",
       "  </tbody>\n",
       "</table>\n",
       "</div>"
      ],
      "text/plain": [
       "   ID                Name  Age  Gender Department  Salary Joining Date  \\\n",
       "0   1        Cory Escobar   48  Female         HR    5641   2015-05-03   \n",
       "1   2     Timothy Sanchez   25   Other      Sales    4249   2020-11-09   \n",
       "2   3        Chad Nichols   57   Other      Sales    3058   2019-02-12   \n",
       "3   4  Christine Williams   58  Female         IT    5895   2017-09-08   \n",
       "4   5        Amber Harris   35   Other         IT    4317   2020-02-15   \n",
       "\n",
       "   Performance Score  Experience    Status     Location  Session  Bonus  \n",
       "0                2.0          16    Active     New York    Night  564.1  \n",
       "1                2.0          11  Inactive  Los Angeles  Evening  424.9  \n",
       "2                NaN           1  Inactive     New York  Morning  305.8  \n",
       "3                2.0          13  Inactive  Los Angeles  Evening  589.5  \n",
       "4                5.0          16  Inactive     New York  Evening  431.7  "
      ]
     },
     "execution_count": 17,
     "metadata": {},
     "output_type": "execute_result"
    }
   ],
   "source": [
    "df['Bonus'] = df['Salary'] * 0.10\n",
    "df.head()"
   ]
  },
  {
   "cell_type": "markdown",
   "id": "46f6771f",
   "metadata": {
    "papermill": {
     "duration": 0.012686,
     "end_time": "2024-12-14T15:25:26.648217",
     "exception": false,
     "start_time": "2024-12-14T15:25:26.635531",
     "status": "completed"
    },
    "tags": []
   },
   "source": [
    "## 13.Update the Performance Score of employees in the \"IT\" department to 5 if it is NaN.\r\n"
   ]
  },
  {
   "cell_type": "code",
   "execution_count": 18,
   "id": "a6279d5e",
   "metadata": {
    "execution": {
     "iopub.execute_input": "2024-12-14T15:25:26.677089Z",
     "iopub.status.busy": "2024-12-14T15:25:26.676765Z",
     "iopub.status.idle": "2024-12-14T15:25:26.682308Z",
     "shell.execute_reply": "2024-12-14T15:25:26.681326Z"
    },
    "papermill": {
     "duration": 0.021775,
     "end_time": "2024-12-14T15:25:26.684183",
     "exception": false,
     "start_time": "2024-12-14T15:25:26.662408",
     "status": "completed"
    },
    "tags": []
   },
   "outputs": [],
   "source": [
    "df.loc[(df['Department'] == 'IT') & (df['Performance Score'].isna()), 'Performance Score'] = 5"
   ]
  },
  {
   "cell_type": "markdown",
   "id": "97d9807e",
   "metadata": {
    "papermill": {
     "duration": 0.011997,
     "end_time": "2024-12-14T15:25:26.708653",
     "exception": false,
     "start_time": "2024-12-14T15:25:26.696656",
     "status": "completed"
    },
    "tags": []
   },
   "source": [
    "## 14.Modify the Experience of employees with less than 2 years to 2.\r\n"
   ]
  },
  {
   "cell_type": "code",
   "execution_count": 19,
   "id": "ed4957d9",
   "metadata": {
    "execution": {
     "iopub.execute_input": "2024-12-14T15:25:26.738040Z",
     "iopub.status.busy": "2024-12-14T15:25:26.737743Z",
     "iopub.status.idle": "2024-12-14T15:25:26.742123Z",
     "shell.execute_reply": "2024-12-14T15:25:26.741510Z"
    },
    "papermill": {
     "duration": 0.021133,
     "end_time": "2024-12-14T15:25:26.743438",
     "exception": false,
     "start_time": "2024-12-14T15:25:26.722305",
     "status": "completed"
    },
    "tags": []
   },
   "outputs": [],
   "source": [
    "df.loc[df['Experience'] < 2, 'Experience'] = 2"
   ]
  },
  {
   "cell_type": "markdown",
   "id": "8c3c8eb9",
   "metadata": {
    "papermill": {
     "duration": 0.015106,
     "end_time": "2024-12-14T15:25:26.770848",
     "exception": false,
     "start_time": "2024-12-14T15:25:26.755742",
     "status": "completed"
    },
    "tags": []
   },
   "source": [
    "## 15.Normalize the Salary column so that all values are between 0 and 1.\r\n"
   ]
  },
  {
   "cell_type": "code",
   "execution_count": 20,
   "id": "f9f2eaaf",
   "metadata": {
    "execution": {
     "iopub.execute_input": "2024-12-14T15:25:26.805273Z",
     "iopub.status.busy": "2024-12-14T15:25:26.804872Z",
     "iopub.status.idle": "2024-12-14T15:25:26.811165Z",
     "shell.execute_reply": "2024-12-14T15:25:26.810430Z"
    },
    "papermill": {
     "duration": 0.025304,
     "end_time": "2024-12-14T15:25:26.812528",
     "exception": false,
     "start_time": "2024-12-14T15:25:26.787224",
     "status": "completed"
    },
    "tags": []
   },
   "outputs": [],
   "source": [
    "df['Salary Normalized'] = (df['Salary'] - df['Salary'].min()) / (df['Salary'].max() - df['Salary'].min())\n"
   ]
  },
  {
   "cell_type": "code",
   "execution_count": 21,
   "id": "6a8d7b6e",
   "metadata": {
    "execution": {
     "iopub.execute_input": "2024-12-14T15:25:26.843321Z",
     "iopub.status.busy": "2024-12-14T15:25:26.843015Z",
     "iopub.status.idle": "2024-12-14T15:25:26.857826Z",
     "shell.execute_reply": "2024-12-14T15:25:26.856505Z"
    },
    "papermill": {
     "duration": 0.032442,
     "end_time": "2024-12-14T15:25:26.860390",
     "exception": false,
     "start_time": "2024-12-14T15:25:26.827948",
     "status": "completed"
    },
    "tags": []
   },
   "outputs": [
    {
     "data": {
      "text/html": [
       "<div>\n",
       "<style scoped>\n",
       "    .dataframe tbody tr th:only-of-type {\n",
       "        vertical-align: middle;\n",
       "    }\n",
       "\n",
       "    .dataframe tbody tr th {\n",
       "        vertical-align: top;\n",
       "    }\n",
       "\n",
       "    .dataframe thead th {\n",
       "        text-align: right;\n",
       "    }\n",
       "</style>\n",
       "<table border=\"1\" class=\"dataframe\">\n",
       "  <thead>\n",
       "    <tr style=\"text-align: right;\">\n",
       "      <th></th>\n",
       "      <th>ID</th>\n",
       "      <th>Name</th>\n",
       "      <th>Age</th>\n",
       "      <th>Gender</th>\n",
       "      <th>Department</th>\n",
       "      <th>Salary</th>\n",
       "      <th>Joining Date</th>\n",
       "      <th>Performance Score</th>\n",
       "      <th>Experience</th>\n",
       "      <th>Status</th>\n",
       "      <th>Location</th>\n",
       "      <th>Session</th>\n",
       "      <th>Bonus</th>\n",
       "      <th>Salary Normalized</th>\n",
       "    </tr>\n",
       "  </thead>\n",
       "  <tbody>\n",
       "    <tr>\n",
       "      <th>0</th>\n",
       "      <td>1</td>\n",
       "      <td>Cory Escobar</td>\n",
       "      <td>48</td>\n",
       "      <td>Female</td>\n",
       "      <td>HR</td>\n",
       "      <td>5641</td>\n",
       "      <td>2015-05-03</td>\n",
       "      <td>2.0</td>\n",
       "      <td>16</td>\n",
       "      <td>Active</td>\n",
       "      <td>New York</td>\n",
       "      <td>Night</td>\n",
       "      <td>564.1</td>\n",
       "      <td>0.454500</td>\n",
       "    </tr>\n",
       "    <tr>\n",
       "      <th>1</th>\n",
       "      <td>2</td>\n",
       "      <td>Timothy Sanchez</td>\n",
       "      <td>25</td>\n",
       "      <td>Other</td>\n",
       "      <td>Sales</td>\n",
       "      <td>4249</td>\n",
       "      <td>2020-11-09</td>\n",
       "      <td>2.0</td>\n",
       "      <td>11</td>\n",
       "      <td>Inactive</td>\n",
       "      <td>Los Angeles</td>\n",
       "      <td>Evening</td>\n",
       "      <td>424.9</td>\n",
       "      <td>0.280020</td>\n",
       "    </tr>\n",
       "    <tr>\n",
       "      <th>2</th>\n",
       "      <td>3</td>\n",
       "      <td>Chad Nichols</td>\n",
       "      <td>57</td>\n",
       "      <td>Other</td>\n",
       "      <td>Sales</td>\n",
       "      <td>3058</td>\n",
       "      <td>2019-02-12</td>\n",
       "      <td>NaN</td>\n",
       "      <td>2</td>\n",
       "      <td>Inactive</td>\n",
       "      <td>New York</td>\n",
       "      <td>Morning</td>\n",
       "      <td>305.8</td>\n",
       "      <td>0.130735</td>\n",
       "    </tr>\n",
       "    <tr>\n",
       "      <th>3</th>\n",
       "      <td>4</td>\n",
       "      <td>Christine Williams</td>\n",
       "      <td>58</td>\n",
       "      <td>Female</td>\n",
       "      <td>IT</td>\n",
       "      <td>5895</td>\n",
       "      <td>2017-09-08</td>\n",
       "      <td>2.0</td>\n",
       "      <td>13</td>\n",
       "      <td>Inactive</td>\n",
       "      <td>Los Angeles</td>\n",
       "      <td>Evening</td>\n",
       "      <td>589.5</td>\n",
       "      <td>0.486337</td>\n",
       "    </tr>\n",
       "    <tr>\n",
       "      <th>4</th>\n",
       "      <td>5</td>\n",
       "      <td>Amber Harris</td>\n",
       "      <td>35</td>\n",
       "      <td>Other</td>\n",
       "      <td>IT</td>\n",
       "      <td>4317</td>\n",
       "      <td>2020-02-15</td>\n",
       "      <td>5.0</td>\n",
       "      <td>16</td>\n",
       "      <td>Inactive</td>\n",
       "      <td>New York</td>\n",
       "      <td>Evening</td>\n",
       "      <td>431.7</td>\n",
       "      <td>0.288543</td>\n",
       "    </tr>\n",
       "  </tbody>\n",
       "</table>\n",
       "</div>"
      ],
      "text/plain": [
       "   ID                Name  Age  Gender Department  Salary Joining Date  \\\n",
       "0   1        Cory Escobar   48  Female         HR    5641   2015-05-03   \n",
       "1   2     Timothy Sanchez   25   Other      Sales    4249   2020-11-09   \n",
       "2   3        Chad Nichols   57   Other      Sales    3058   2019-02-12   \n",
       "3   4  Christine Williams   58  Female         IT    5895   2017-09-08   \n",
       "4   5        Amber Harris   35   Other         IT    4317   2020-02-15   \n",
       "\n",
       "   Performance Score  Experience    Status     Location  Session  Bonus  \\\n",
       "0                2.0          16    Active     New York    Night  564.1   \n",
       "1                2.0          11  Inactive  Los Angeles  Evening  424.9   \n",
       "2                NaN           2  Inactive     New York  Morning  305.8   \n",
       "3                2.0          13  Inactive  Los Angeles  Evening  589.5   \n",
       "4                5.0          16  Inactive     New York  Evening  431.7   \n",
       "\n",
       "   Salary Normalized  \n",
       "0           0.454500  \n",
       "1           0.280020  \n",
       "2           0.130735  \n",
       "3           0.486337  \n",
       "4           0.288543  "
      ]
     },
     "execution_count": 21,
     "metadata": {},
     "output_type": "execute_result"
    }
   ],
   "source": [
    "df.head()"
   ]
  },
  {
   "cell_type": "markdown",
   "id": "a45addec",
   "metadata": {
    "papermill": {
     "duration": 0.014606,
     "end_time": "2024-12-14T15:25:26.889315",
     "exception": false,
     "start_time": "2024-12-14T15:25:26.874709",
     "status": "completed"
    },
    "tags": []
   },
   "source": [
    "## 16.Replace all Location values with \"Remote\" for employees with a Performance Score below 3.\r\n"
   ]
  },
  {
   "cell_type": "code",
   "execution_count": 22,
   "id": "15c62825",
   "metadata": {
    "execution": {
     "iopub.execute_input": "2024-12-14T15:25:26.915052Z",
     "iopub.status.busy": "2024-12-14T15:25:26.914753Z",
     "iopub.status.idle": "2024-12-14T15:25:26.919449Z",
     "shell.execute_reply": "2024-12-14T15:25:26.918761Z"
    },
    "papermill": {
     "duration": 0.019323,
     "end_time": "2024-12-14T15:25:26.921137",
     "exception": false,
     "start_time": "2024-12-14T15:25:26.901814",
     "status": "completed"
    },
    "tags": []
   },
   "outputs": [],
   "source": [
    "df.loc[df['Performance Score'] < 3, 'Location'] = 'Remote'\n"
   ]
  },
  {
   "cell_type": "markdown",
   "id": "f4dba66d",
   "metadata": {
    "papermill": {
     "duration": 0.013441,
     "end_time": "2024-12-14T15:25:26.948295",
     "exception": false,
     "start_time": "2024-12-14T15:25:26.934854",
     "status": "completed"
    },
    "tags": []
   },
   "source": [
    "## 17.Create a new column Experience Level with values \"Junior\", \"Mid\", or \"Senior\" based on the \n",
    "Experience."
   ]
  },
  {
   "cell_type": "code",
   "execution_count": 23,
   "id": "ab345efc",
   "metadata": {
    "execution": {
     "iopub.execute_input": "2024-12-14T15:25:26.977326Z",
     "iopub.status.busy": "2024-12-14T15:25:26.976974Z",
     "iopub.status.idle": "2024-12-14T15:25:26.999122Z",
     "shell.execute_reply": "2024-12-14T15:25:26.998037Z"
    },
    "papermill": {
     "duration": 0.038914,
     "end_time": "2024-12-14T15:25:27.000819",
     "exception": false,
     "start_time": "2024-12-14T15:25:26.961905",
     "status": "completed"
    },
    "tags": []
   },
   "outputs": [
    {
     "data": {
      "text/html": [
       "<div>\n",
       "<style scoped>\n",
       "    .dataframe tbody tr th:only-of-type {\n",
       "        vertical-align: middle;\n",
       "    }\n",
       "\n",
       "    .dataframe tbody tr th {\n",
       "        vertical-align: top;\n",
       "    }\n",
       "\n",
       "    .dataframe thead th {\n",
       "        text-align: right;\n",
       "    }\n",
       "</style>\n",
       "<table border=\"1\" class=\"dataframe\">\n",
       "  <thead>\n",
       "    <tr style=\"text-align: right;\">\n",
       "      <th></th>\n",
       "      <th>ID</th>\n",
       "      <th>Name</th>\n",
       "      <th>Age</th>\n",
       "      <th>Gender</th>\n",
       "      <th>Department</th>\n",
       "      <th>Salary</th>\n",
       "      <th>Joining Date</th>\n",
       "      <th>Performance Score</th>\n",
       "      <th>Experience</th>\n",
       "      <th>Status</th>\n",
       "      <th>Location</th>\n",
       "      <th>Session</th>\n",
       "      <th>Bonus</th>\n",
       "      <th>Salary Normalized</th>\n",
       "      <th>Experience Level</th>\n",
       "    </tr>\n",
       "  </thead>\n",
       "  <tbody>\n",
       "    <tr>\n",
       "      <th>0</th>\n",
       "      <td>1</td>\n",
       "      <td>Cory Escobar</td>\n",
       "      <td>48</td>\n",
       "      <td>Female</td>\n",
       "      <td>HR</td>\n",
       "      <td>5641</td>\n",
       "      <td>2015-05-03</td>\n",
       "      <td>2.0</td>\n",
       "      <td>16</td>\n",
       "      <td>Active</td>\n",
       "      <td>Remote</td>\n",
       "      <td>Night</td>\n",
       "      <td>564.1</td>\n",
       "      <td>0.454500</td>\n",
       "      <td>Senior</td>\n",
       "    </tr>\n",
       "    <tr>\n",
       "      <th>1</th>\n",
       "      <td>2</td>\n",
       "      <td>Timothy Sanchez</td>\n",
       "      <td>25</td>\n",
       "      <td>Other</td>\n",
       "      <td>Sales</td>\n",
       "      <td>4249</td>\n",
       "      <td>2020-11-09</td>\n",
       "      <td>2.0</td>\n",
       "      <td>11</td>\n",
       "      <td>Inactive</td>\n",
       "      <td>Remote</td>\n",
       "      <td>Evening</td>\n",
       "      <td>424.9</td>\n",
       "      <td>0.280020</td>\n",
       "      <td>Senior</td>\n",
       "    </tr>\n",
       "    <tr>\n",
       "      <th>2</th>\n",
       "      <td>3</td>\n",
       "      <td>Chad Nichols</td>\n",
       "      <td>57</td>\n",
       "      <td>Other</td>\n",
       "      <td>Sales</td>\n",
       "      <td>3058</td>\n",
       "      <td>2019-02-12</td>\n",
       "      <td>NaN</td>\n",
       "      <td>2</td>\n",
       "      <td>Inactive</td>\n",
       "      <td>New York</td>\n",
       "      <td>Morning</td>\n",
       "      <td>305.8</td>\n",
       "      <td>0.130735</td>\n",
       "      <td>Junior</td>\n",
       "    </tr>\n",
       "    <tr>\n",
       "      <th>3</th>\n",
       "      <td>4</td>\n",
       "      <td>Christine Williams</td>\n",
       "      <td>58</td>\n",
       "      <td>Female</td>\n",
       "      <td>IT</td>\n",
       "      <td>5895</td>\n",
       "      <td>2017-09-08</td>\n",
       "      <td>2.0</td>\n",
       "      <td>13</td>\n",
       "      <td>Inactive</td>\n",
       "      <td>Remote</td>\n",
       "      <td>Evening</td>\n",
       "      <td>589.5</td>\n",
       "      <td>0.486337</td>\n",
       "      <td>Senior</td>\n",
       "    </tr>\n",
       "    <tr>\n",
       "      <th>4</th>\n",
       "      <td>5</td>\n",
       "      <td>Amber Harris</td>\n",
       "      <td>35</td>\n",
       "      <td>Other</td>\n",
       "      <td>IT</td>\n",
       "      <td>4317</td>\n",
       "      <td>2020-02-15</td>\n",
       "      <td>5.0</td>\n",
       "      <td>16</td>\n",
       "      <td>Inactive</td>\n",
       "      <td>New York</td>\n",
       "      <td>Evening</td>\n",
       "      <td>431.7</td>\n",
       "      <td>0.288543</td>\n",
       "      <td>Senior</td>\n",
       "    </tr>\n",
       "  </tbody>\n",
       "</table>\n",
       "</div>"
      ],
      "text/plain": [
       "   ID                Name  Age  Gender Department  Salary Joining Date  \\\n",
       "0   1        Cory Escobar   48  Female         HR    5641   2015-05-03   \n",
       "1   2     Timothy Sanchez   25   Other      Sales    4249   2020-11-09   \n",
       "2   3        Chad Nichols   57   Other      Sales    3058   2019-02-12   \n",
       "3   4  Christine Williams   58  Female         IT    5895   2017-09-08   \n",
       "4   5        Amber Harris   35   Other         IT    4317   2020-02-15   \n",
       "\n",
       "   Performance Score  Experience    Status  Location  Session  Bonus  \\\n",
       "0                2.0          16    Active    Remote    Night  564.1   \n",
       "1                2.0          11  Inactive    Remote  Evening  424.9   \n",
       "2                NaN           2  Inactive  New York  Morning  305.8   \n",
       "3                2.0          13  Inactive    Remote  Evening  589.5   \n",
       "4                5.0          16  Inactive  New York  Evening  431.7   \n",
       "\n",
       "   Salary Normalized Experience Level  \n",
       "0           0.454500           Senior  \n",
       "1           0.280020           Senior  \n",
       "2           0.130735           Junior  \n",
       "3           0.486337           Senior  \n",
       "4           0.288543           Senior  "
      ]
     },
     "execution_count": 23,
     "metadata": {},
     "output_type": "execute_result"
    }
   ],
   "source": [
    "import numpy as np\n",
    "df['Experience Level'] = pd.cut(\n",
    "    df['Experience'],\n",
    "    bins=[0, 3, 6, np.inf],\n",
    "    labels=['Junior', 'Mid', 'Senior']\n",
    ")\n",
    "df.head()"
   ]
  },
  {
   "cell_type": "markdown",
   "id": "0a363558",
   "metadata": {
    "papermill": {
     "duration": 0.012956,
     "end_time": "2024-12-14T15:25:27.028495",
     "exception": false,
     "start_time": "2024-12-14T15:25:27.015539",
     "status": "completed"
    },
    "tags": []
   },
   "source": [
    "## 18.Add a new row with specific values using the append() method.\r\n",
    "."
   ]
  },
  {
   "cell_type": "code",
   "execution_count": 24,
   "id": "1194b912",
   "metadata": {
    "execution": {
     "iopub.execute_input": "2024-12-14T15:25:27.055746Z",
     "iopub.status.busy": "2024-12-14T15:25:27.055434Z",
     "iopub.status.idle": "2024-12-14T15:25:27.066648Z",
     "shell.execute_reply": "2024-12-14T15:25:27.065518Z"
    },
    "papermill": {
     "duration": 0.026936,
     "end_time": "2024-12-14T15:25:27.068565",
     "exception": false,
     "start_time": "2024-12-14T15:25:27.041629",
     "status": "completed"
    },
    "tags": []
   },
   "outputs": [],
   "source": [
    "new_row = pd.DataFrame([{\n",
    "    'Name': 'Frank', 'Department': 'Finance', 'Salary': 7000, 'Experience': 4,\n",
    "    'Performance Score': 3, 'Status': 'Active', 'Age': 28, 'Location': 'Office'\n",
    "}])\n",
    "df = pd.concat([df, new_row], ignore_index=True)\n"
   ]
  },
  {
   "cell_type": "markdown",
   "id": "7eddc097",
   "metadata": {
    "papermill": {
     "duration": 0.014405,
     "end_time": "2024-12-14T15:25:27.096340",
     "exception": false,
     "start_time": "2024-12-14T15:25:27.081935",
     "status": "completed"
    },
    "tags": []
   },
   "source": [
    "## 19.Delete the column Session from the DataFrame.\r\n"
   ]
  },
  {
   "cell_type": "code",
   "execution_count": 25,
   "id": "b146b08b",
   "metadata": {
    "execution": {
     "iopub.execute_input": "2024-12-14T15:25:27.127063Z",
     "iopub.status.busy": "2024-12-14T15:25:27.126732Z",
     "iopub.status.idle": "2024-12-14T15:25:27.132423Z",
     "shell.execute_reply": "2024-12-14T15:25:27.131642Z"
    },
    "papermill": {
     "duration": 0.023105,
     "end_time": "2024-12-14T15:25:27.133954",
     "exception": false,
     "start_time": "2024-12-14T15:25:27.110849",
     "status": "completed"
    },
    "tags": []
   },
   "outputs": [],
   "source": [
    "if 'Session' in df.columns:\n",
    "    df = df.drop(columns=['Session'])\n"
   ]
  },
  {
   "cell_type": "markdown",
   "id": "0a7a007c",
   "metadata": {
    "papermill": {
     "duration": 0.013619,
     "end_time": "2024-12-14T15:25:27.161342",
     "exception": false,
     "start_time": "2024-12-14T15:25:27.147723",
     "status": "completed"
    },
    "tags": []
   },
   "source": [
    "## 20.Delete rows where the Age is greater than 60.\r\n"
   ]
  },
  {
   "cell_type": "code",
   "execution_count": 26,
   "id": "f72140eb",
   "metadata": {
    "execution": {
     "iopub.execute_input": "2024-12-14T15:25:27.190363Z",
     "iopub.status.busy": "2024-12-14T15:25:27.190038Z",
     "iopub.status.idle": "2024-12-14T15:25:27.195529Z",
     "shell.execute_reply": "2024-12-14T15:25:27.194883Z"
    },
    "papermill": {
     "duration": 0.021301,
     "end_time": "2024-12-14T15:25:27.196833",
     "exception": false,
     "start_time": "2024-12-14T15:25:27.175532",
     "status": "completed"
    },
    "tags": []
   },
   "outputs": [],
   "source": [
    "df = df[df['Age'] <= 60]\n"
   ]
  },
  {
   "cell_type": "markdown",
   "id": "6588e6c4",
   "metadata": {
    "papermill": {
     "duration": 0.012206,
     "end_time": "2024-12-14T15:25:27.221907",
     "exception": false,
     "start_time": "2024-12-14T15:25:27.209701",
     "status": "completed"
    },
    "tags": []
   },
   "source": [
    "## 21.Add a new column Age Group with values \"Young\", \"Middle-aged\", or \"Senior\" based on Age.\r\n"
   ]
  },
  {
   "cell_type": "code",
   "execution_count": 27,
   "id": "daf94449",
   "metadata": {
    "execution": {
     "iopub.execute_input": "2024-12-14T15:25:27.251280Z",
     "iopub.status.busy": "2024-12-14T15:25:27.250934Z",
     "iopub.status.idle": "2024-12-14T15:25:27.257502Z",
     "shell.execute_reply": "2024-12-14T15:25:27.256416Z"
    },
    "papermill": {
     "duration": 0.024399,
     "end_time": "2024-12-14T15:25:27.259976",
     "exception": false,
     "start_time": "2024-12-14T15:25:27.235577",
     "status": "completed"
    },
    "tags": []
   },
   "outputs": [],
   "source": [
    "df['Age Group'] = pd.cut(\n",
    "    df['Age'],\n",
    "    bins=[0, 35, 50, np.inf],\n",
    "    labels=['Young', 'Middle-aged', 'Senior']\n",
    ")\n"
   ]
  },
  {
   "cell_type": "markdown",
   "id": "00487d3e",
   "metadata": {
    "papermill": {
     "duration": 0.015581,
     "end_time": "2024-12-14T15:25:27.289648",
     "exception": false,
     "start_time": "2024-12-14T15:25:27.274067",
     "status": "completed"
    },
    "tags": []
   },
   "source": [
    "## 22.Identify all columns with missing values using the isna() method.\r\n"
   ]
  },
  {
   "cell_type": "code",
   "execution_count": 28,
   "id": "753a6e50",
   "metadata": {
    "execution": {
     "iopub.execute_input": "2024-12-14T15:25:27.321079Z",
     "iopub.status.busy": "2024-12-14T15:25:27.320765Z",
     "iopub.status.idle": "2024-12-14T15:25:27.326931Z",
     "shell.execute_reply": "2024-12-14T15:25:27.325531Z"
    },
    "papermill": {
     "duration": 0.023288,
     "end_time": "2024-12-14T15:25:27.328890",
     "exception": false,
     "start_time": "2024-12-14T15:25:27.305602",
     "status": "completed"
    },
    "tags": []
   },
   "outputs": [],
   "source": [
    "missing_columns = df.isna().sum()\n"
   ]
  },
  {
   "cell_type": "markdown",
   "id": "401f5279",
   "metadata": {
    "papermill": {
     "duration": 0.013602,
     "end_time": "2024-12-14T15:25:27.355528",
     "exception": false,
     "start_time": "2024-12-14T15:25:27.341926",
     "status": "completed"
    },
    "tags": []
   },
   "source": [
    "## 23. Fill the missing values in Performance Score with the average score of that column.\r\n"
   ]
  },
  {
   "cell_type": "code",
   "execution_count": 29,
   "id": "97db7a20",
   "metadata": {
    "execution": {
     "iopub.execute_input": "2024-12-14T15:25:27.381449Z",
     "iopub.status.busy": "2024-12-14T15:25:27.381139Z",
     "iopub.status.idle": "2024-12-14T15:25:27.387273Z",
     "shell.execute_reply": "2024-12-14T15:25:27.386107Z"
    },
    "papermill": {
     "duration": 0.02121,
     "end_time": "2024-12-14T15:25:27.389157",
     "exception": false,
     "start_time": "2024-12-14T15:25:27.367947",
     "status": "completed"
    },
    "tags": []
   },
   "outputs": [],
   "source": [
    "df['Performance Score'] = df['Performance Score'].fillna(df['Performance Score'].mean())\n"
   ]
  },
  {
   "cell_type": "markdown",
   "id": "ea268a6b",
   "metadata": {
    "papermill": {
     "duration": 0.013761,
     "end_time": "2024-12-14T15:25:27.417479",
     "exception": false,
     "start_time": "2024-12-14T15:25:27.403718",
     "status": "completed"
    },
    "tags": []
   },
   "source": [
    "## 24.Drop all rows with missing values using the dropna() method.\r\n"
   ]
  },
  {
   "cell_type": "code",
   "execution_count": 30,
   "id": "2aaf2a61",
   "metadata": {
    "execution": {
     "iopub.execute_input": "2024-12-14T15:25:27.445580Z",
     "iopub.status.busy": "2024-12-14T15:25:27.445305Z",
     "iopub.status.idle": "2024-12-14T15:25:27.451579Z",
     "shell.execute_reply": "2024-12-14T15:25:27.450844Z"
    },
    "papermill": {
     "duration": 0.021335,
     "end_time": "2024-12-14T15:25:27.453094",
     "exception": false,
     "start_time": "2024-12-14T15:25:27.431759",
     "status": "completed"
    },
    "tags": []
   },
   "outputs": [],
   "source": [
    "df_no_na = df.dropna()\n"
   ]
  },
  {
   "cell_type": "markdown",
   "id": "a1e12f4c",
   "metadata": {
    "papermill": {
     "duration": 0.011837,
     "end_time": "2024-12-14T15:25:27.477748",
     "exception": false,
     "start_time": "2024-12-14T15:25:27.465911",
     "status": "completed"
    },
    "tags": []
   },
   "source": [
    "## 25.Replace missing values in Performance Score with the median of the scores, grouped by Department.\r\n"
   ]
  },
  {
   "cell_type": "code",
   "execution_count": 31,
   "id": "568706f3",
   "metadata": {
    "execution": {
     "iopub.execute_input": "2024-12-14T15:25:27.503362Z",
     "iopub.status.busy": "2024-12-14T15:25:27.503093Z",
     "iopub.status.idle": "2024-12-14T15:25:27.517649Z",
     "shell.execute_reply": "2024-12-14T15:25:27.516864Z"
    },
    "papermill": {
     "duration": 0.02957,
     "end_time": "2024-12-14T15:25:27.519261",
     "exception": false,
     "start_time": "2024-12-14T15:25:27.489691",
     "status": "completed"
    },
    "tags": []
   },
   "outputs": [],
   "source": [
    "df['Performance Score'] = df.groupby('Department')['Performance Score'].transform(\n",
    "    lambda x: x.fillna(x.median())\n",
    ")"
   ]
  },
  {
   "cell_type": "markdown",
   "id": "9318c797",
   "metadata": {
    "papermill": {
     "duration": 0.01238,
     "end_time": "2024-12-14T15:25:27.544822",
     "exception": false,
     "start_time": "2024-12-14T15:25:27.532442",
     "status": "completed"
    },
    "tags": []
   },
   "source": [
    "## 26.Identify rows where the employee is in the \"IT\" department and their Age is above the average Age \r\n",
    "of \"IT\" employees"
   ]
  },
  {
   "cell_type": "code",
   "execution_count": 32,
   "id": "939252f0",
   "metadata": {
    "execution": {
     "iopub.execute_input": "2024-12-14T15:25:27.572042Z",
     "iopub.status.busy": "2024-12-14T15:25:27.571744Z",
     "iopub.status.idle": "2024-12-14T15:25:27.578469Z",
     "shell.execute_reply": "2024-12-14T15:25:27.577611Z"
    },
    "papermill": {
     "duration": 0.022022,
     "end_time": "2024-12-14T15:25:27.579939",
     "exception": false,
     "start_time": "2024-12-14T15:25:27.557917",
     "status": "completed"
    },
    "tags": []
   },
   "outputs": [],
   "source": [
    "avg_age_it = df[df['Department'] == 'IT']['Age'].mean()\n",
    "result_26 = df[(df['Department'] == 'IT') & (df['Age'] > avg_age_it)]"
   ]
  },
  {
   "cell_type": "markdown",
   "id": "58a0ed21",
   "metadata": {
    "papermill": {
     "duration": 0.013365,
     "end_time": "2024-12-14T15:25:27.606683",
     "exception": false,
     "start_time": "2024-12-14T15:25:27.593318",
     "status": "completed"
    },
    "tags": []
   },
   "source": [
    "## 27.Identify rows with duplicate Name and Joining Date combinations, and remove duplicates.\r\n"
   ]
  },
  {
   "cell_type": "code",
   "execution_count": 33,
   "id": "f16873f4",
   "metadata": {
    "execution": {
     "iopub.execute_input": "2024-12-14T15:25:27.632701Z",
     "iopub.status.busy": "2024-12-14T15:25:27.632383Z",
     "iopub.status.idle": "2024-12-14T15:25:27.637713Z",
     "shell.execute_reply": "2024-12-14T15:25:27.637209Z"
    },
    "papermill": {
     "duration": 0.019644,
     "end_time": "2024-12-14T15:25:27.638941",
     "exception": false,
     "start_time": "2024-12-14T15:25:27.619297",
     "status": "completed"
    },
    "tags": []
   },
   "outputs": [],
   "source": [
    "df = df.drop_duplicates(subset=['Name', 'Joining Date'])\n"
   ]
  },
  {
   "cell_type": "markdown",
   "id": "d9b67004",
   "metadata": {
    "papermill": {
     "duration": 0.011801,
     "end_time": "2024-12-14T15:25:27.663101",
     "exception": false,
     "start_time": "2024-12-14T15:25:27.651300",
     "status": "completed"
    },
    "tags": []
   },
   "source": [
    "## 28.Remove rows where the Experience value is inconsistent with the Age (e.g., Experience > Age - 18)."
   ]
  },
  {
   "cell_type": "code",
   "execution_count": 34,
   "id": "41e6e0cc",
   "metadata": {
    "execution": {
     "iopub.execute_input": "2024-12-14T15:25:27.690041Z",
     "iopub.status.busy": "2024-12-14T15:25:27.689692Z",
     "iopub.status.idle": "2024-12-14T15:25:27.696271Z",
     "shell.execute_reply": "2024-12-14T15:25:27.695301Z"
    },
    "papermill": {
     "duration": 0.022985,
     "end_time": "2024-12-14T15:25:27.698405",
     "exception": false,
     "start_time": "2024-12-14T15:25:27.675420",
     "status": "completed"
    },
    "tags": []
   },
   "outputs": [],
   "source": [
    "df = df[df['Experience'] <= (df['Age'] - 18)]\n"
   ]
  },
  {
   "cell_type": "markdown",
   "id": "8fc7dbcc",
   "metadata": {
    "papermill": {
     "duration": 0.012639,
     "end_time": "2024-12-14T15:25:27.724237",
     "exception": false,
     "start_time": "2024-12-14T15:25:27.711598",
     "status": "completed"
    },
    "tags": []
   },
   "source": [
    "## 29. Sort the DataFrame by Salary in descending order.\r\n"
   ]
  },
  {
   "cell_type": "code",
   "execution_count": 35,
   "id": "574e6a92",
   "metadata": {
    "execution": {
     "iopub.execute_input": "2024-12-14T15:25:27.751611Z",
     "iopub.status.busy": "2024-12-14T15:25:27.751320Z",
     "iopub.status.idle": "2024-12-14T15:25:27.759025Z",
     "shell.execute_reply": "2024-12-14T15:25:27.758010Z"
    },
    "papermill": {
     "duration": 0.023358,
     "end_time": "2024-12-14T15:25:27.761110",
     "exception": false,
     "start_time": "2024-12-14T15:25:27.737752",
     "status": "completed"
    },
    "tags": []
   },
   "outputs": [],
   "source": [
    "df_sorted_by_salary = df.sort_values(by='Salary', ascending=False)\n"
   ]
  },
  {
   "cell_type": "markdown",
   "id": "0b58603d",
   "metadata": {
    "papermill": {
     "duration": 0.01309,
     "end_time": "2024-12-14T15:25:27.787893",
     "exception": false,
     "start_time": "2024-12-14T15:25:27.774803",
     "status": "completed"
    },
    "tags": []
   },
   "source": [
    "## 30. Sort the DataFrame by Department and then by Joining Date in ascending order.\r\n"
   ]
  },
  {
   "cell_type": "code",
   "execution_count": 36,
   "id": "a4b0ff09",
   "metadata": {
    "execution": {
     "iopub.execute_input": "2024-12-14T15:25:27.815799Z",
     "iopub.status.busy": "2024-12-14T15:25:27.815374Z",
     "iopub.status.idle": "2024-12-14T15:25:27.823288Z",
     "shell.execute_reply": "2024-12-14T15:25:27.822361Z"
    },
    "papermill": {
     "duration": 0.023527,
     "end_time": "2024-12-14T15:25:27.825378",
     "exception": false,
     "start_time": "2024-12-14T15:25:27.801851",
     "status": "completed"
    },
    "tags": []
   },
   "outputs": [],
   "source": [
    "df_sorted_by_dept_and_date = df.sort_values(by=['Department', 'Joining Date'])\n"
   ]
  },
  {
   "cell_type": "markdown",
   "id": "36f541f3",
   "metadata": {
    "papermill": {
     "duration": 0.013344,
     "end_time": "2024-12-14T15:25:27.851836",
     "exception": false,
     "start_time": "2024-12-14T15:25:27.838492",
     "status": "completed"
    },
    "tags": []
   },
   "source": [
    "## 31. Rank employees by Salary within their Department\n"
   ]
  },
  {
   "cell_type": "code",
   "execution_count": 37,
   "id": "f4a7d6bf",
   "metadata": {
    "execution": {
     "iopub.execute_input": "2024-12-14T15:25:27.881924Z",
     "iopub.status.busy": "2024-12-14T15:25:27.881490Z",
     "iopub.status.idle": "2024-12-14T15:25:27.894628Z",
     "shell.execute_reply": "2024-12-14T15:25:27.893759Z"
    },
    "papermill": {
     "duration": 0.030249,
     "end_time": "2024-12-14T15:25:27.896315",
     "exception": false,
     "start_time": "2024-12-14T15:25:27.866066",
     "status": "completed"
    },
    "tags": []
   },
   "outputs": [],
   "source": [
    "df['Salary Rank'] = df.groupby('Department')['Salary'].rank(ascending=False)\n"
   ]
  },
  {
   "cell_type": "markdown",
   "id": "7ad4e896",
   "metadata": {
    "papermill": {
     "duration": 0.013059,
     "end_time": "2024-12-14T15:25:27.923005",
     "exception": false,
     "start_time": "2024-12-14T15:25:27.909946",
     "status": "completed"
    },
    "tags": []
   },
   "source": [
    "## 32. Sort by Experience in descending order, breaking ties using Performance Score\n"
   ]
  },
  {
   "cell_type": "code",
   "execution_count": 38,
   "id": "6906a54d",
   "metadata": {
    "execution": {
     "iopub.execute_input": "2024-12-14T15:25:27.950893Z",
     "iopub.status.busy": "2024-12-14T15:25:27.950585Z",
     "iopub.status.idle": "2024-12-14T15:25:27.958574Z",
     "shell.execute_reply": "2024-12-14T15:25:27.957176Z"
    },
    "papermill": {
     "duration": 0.024894,
     "end_time": "2024-12-14T15:25:27.961124",
     "exception": false,
     "start_time": "2024-12-14T15:25:27.936230",
     "status": "completed"
    },
    "tags": []
   },
   "outputs": [],
   "source": [
    "df_sorted_by_exp = df.sort_values(by=['Experience', 'Performance Score'], ascending=[False, True])\n"
   ]
  },
  {
   "cell_type": "markdown",
   "id": "4d2324fc",
   "metadata": {
    "papermill": {
     "duration": 0.01339,
     "end_time": "2024-12-14T15:25:27.988511",
     "exception": false,
     "start_time": "2024-12-14T15:25:27.975121",
     "status": "completed"
    },
    "tags": []
   },
   "source": [
    "## 33. New DataFrame: Employees in \"HR\" with Salary > 5000\n"
   ]
  },
  {
   "cell_type": "code",
   "execution_count": 39,
   "id": "5846c7b5",
   "metadata": {
    "execution": {
     "iopub.execute_input": "2024-12-14T15:25:28.019720Z",
     "iopub.status.busy": "2024-12-14T15:25:28.019405Z",
     "iopub.status.idle": "2024-12-14T15:25:28.024955Z",
     "shell.execute_reply": "2024-12-14T15:25:28.023886Z"
    },
    "papermill": {
     "duration": 0.024194,
     "end_time": "2024-12-14T15:25:28.026563",
     "exception": false,
     "start_time": "2024-12-14T15:25:28.002369",
     "status": "completed"
    },
    "tags": []
   },
   "outputs": [],
   "source": [
    "hr_high_salary = df[(df['Department'] == 'HR') & (df['Salary'] > 5000)]\n"
   ]
  },
  {
   "cell_type": "markdown",
   "id": "f14d16fd",
   "metadata": {
    "papermill": {
     "duration": 0.012478,
     "end_time": "2024-12-14T15:25:28.052574",
     "exception": false,
     "start_time": "2024-12-14T15:25:28.040096",
     "status": "completed"
    },
    "tags": []
   },
   "source": [
    "## 34. Filter out rows where Location is \"Chicago\"\n"
   ]
  },
  {
   "cell_type": "code",
   "execution_count": 40,
   "id": "73572706",
   "metadata": {
    "execution": {
     "iopub.execute_input": "2024-12-14T15:25:28.078712Z",
     "iopub.status.busy": "2024-12-14T15:25:28.078432Z",
     "iopub.status.idle": "2024-12-14T15:25:28.083412Z",
     "shell.execute_reply": "2024-12-14T15:25:28.082647Z"
    },
    "papermill": {
     "duration": 0.019717,
     "end_time": "2024-12-14T15:25:28.084831",
     "exception": false,
     "start_time": "2024-12-14T15:25:28.065114",
     "status": "completed"
    },
    "tags": []
   },
   "outputs": [],
   "source": [
    "df_no_chicago = df[df['Location'] != 'Chicago']\n"
   ]
  },
  {
   "cell_type": "markdown",
   "id": "5fe30d27",
   "metadata": {
    "papermill": {
     "duration": 0.013153,
     "end_time": "2024-12-14T15:25:28.111754",
     "exception": false,
     "start_time": "2024-12-14T15:25:28.098601",
     "status": "completed"
    },
    "tags": []
   },
   "source": [
    "## 35. Delete all rows where Performance Score < 2\n"
   ]
  },
  {
   "cell_type": "code",
   "execution_count": 41,
   "id": "bfbc7292",
   "metadata": {
    "execution": {
     "iopub.execute_input": "2024-12-14T15:25:28.139816Z",
     "iopub.status.busy": "2024-12-14T15:25:28.139430Z",
     "iopub.status.idle": "2024-12-14T15:25:28.145534Z",
     "shell.execute_reply": "2024-12-14T15:25:28.144655Z"
    },
    "papermill": {
     "duration": 0.021949,
     "end_time": "2024-12-14T15:25:28.147103",
     "exception": false,
     "start_time": "2024-12-14T15:25:28.125154",
     "status": "completed"
    },
    "tags": []
   },
   "outputs": [],
   "source": [
    "df = df[df['Performance Score'] >= 2]\n"
   ]
  },
  {
   "cell_type": "markdown",
   "id": "9b0989b7",
   "metadata": {
    "papermill": {
     "duration": 0.011929,
     "end_time": "2024-12-14T15:25:28.172820",
     "exception": false,
     "start_time": "2024-12-14T15:25:28.160891",
     "status": "completed"
    },
    "tags": []
   },
   "source": [
    "# 36. Find average Salary for each Department\n"
   ]
  },
  {
   "cell_type": "code",
   "execution_count": 42,
   "id": "ed7d6dd4",
   "metadata": {
    "execution": {
     "iopub.execute_input": "2024-12-14T15:25:28.202735Z",
     "iopub.status.busy": "2024-12-14T15:25:28.202444Z",
     "iopub.status.idle": "2024-12-14T15:25:28.210700Z",
     "shell.execute_reply": "2024-12-14T15:25:28.209682Z"
    },
    "papermill": {
     "duration": 0.026318,
     "end_time": "2024-12-14T15:25:28.212655",
     "exception": false,
     "start_time": "2024-12-14T15:25:28.186337",
     "status": "completed"
    },
    "tags": []
   },
   "outputs": [],
   "source": [
    "avg_salary_by_dept = df.groupby('Department')['Salary'].mean()\n"
   ]
  },
  {
   "cell_type": "markdown",
   "id": "55d2afdf",
   "metadata": {
    "papermill": {
     "duration": 0.013526,
     "end_time": "2024-12-14T15:25:28.239465",
     "exception": false,
     "start_time": "2024-12-14T15:25:28.225939",
     "status": "completed"
    },
    "tags": []
   },
   "source": [
    "# 37. Total Salary grouped by Status\n"
   ]
  },
  {
   "cell_type": "code",
   "execution_count": 43,
   "id": "ada503cf",
   "metadata": {
    "execution": {
     "iopub.execute_input": "2024-12-14T15:25:28.267391Z",
     "iopub.status.busy": "2024-12-14T15:25:28.266933Z",
     "iopub.status.idle": "2024-12-14T15:25:28.276866Z",
     "shell.execute_reply": "2024-12-14T15:25:28.275886Z"
    },
    "papermill": {
     "duration": 0.025711,
     "end_time": "2024-12-14T15:25:28.278528",
     "exception": false,
     "start_time": "2024-12-14T15:25:28.252817",
     "status": "completed"
    },
    "tags": []
   },
   "outputs": [],
   "source": [
    "total_salary_by_status = df.groupby('Status')['Salary'].sum()\n"
   ]
  },
  {
   "cell_type": "markdown",
   "id": "ef2f1c12",
   "metadata": {
    "papermill": {
     "duration": 0.01341,
     "end_time": "2024-12-14T15:25:28.306755",
     "exception": false,
     "start_time": "2024-12-14T15:25:28.293345",
     "status": "completed"
    },
    "tags": []
   },
   "source": [
    "# 38. Maximum Performance Score for employees in each Location\n"
   ]
  },
  {
   "cell_type": "code",
   "execution_count": 44,
   "id": "0d5847c6",
   "metadata": {
    "execution": {
     "iopub.execute_input": "2024-12-14T15:25:28.337873Z",
     "iopub.status.busy": "2024-12-14T15:25:28.337556Z",
     "iopub.status.idle": "2024-12-14T15:25:28.345790Z",
     "shell.execute_reply": "2024-12-14T15:25:28.345034Z"
    },
    "papermill": {
     "duration": 0.024501,
     "end_time": "2024-12-14T15:25:28.347270",
     "exception": false,
     "start_time": "2024-12-14T15:25:28.322769",
     "status": "completed"
    },
    "tags": []
   },
   "outputs": [],
   "source": [
    "max_perf_by_location = df.groupby('Location')['Performance Score'].max()\n"
   ]
  },
  {
   "cell_type": "markdown",
   "id": "a321b707",
   "metadata": {
    "papermill": {
     "duration": 0.013926,
     "end_time": "2024-12-14T15:25:28.377368",
     "exception": false,
     "start_time": "2024-12-14T15:25:28.363442",
     "status": "completed"
    },
    "tags": []
   },
   "source": [
    "# 39. Total Salary paid to employees by year of Joining\n"
   ]
  },
  {
   "cell_type": "code",
   "execution_count": 45,
   "id": "51b73caf",
   "metadata": {
    "execution": {
     "iopub.execute_input": "2024-12-14T15:25:28.404573Z",
     "iopub.status.busy": "2024-12-14T15:25:28.404261Z",
     "iopub.status.idle": "2024-12-14T15:25:28.415877Z",
     "shell.execute_reply": "2024-12-14T15:25:28.414874Z"
    },
    "papermill": {
     "duration": 0.027155,
     "end_time": "2024-12-14T15:25:28.417475",
     "exception": false,
     "start_time": "2024-12-14T15:25:28.390320",
     "status": "completed"
    },
    "tags": []
   },
   "outputs": [
    {
     "name": "stdout",
     "output_type": "stream",
     "text": [
      "Joining Year\n",
      "2014.0     15135\n",
      "2015.0    275743\n",
      "2016.0    370821\n",
      "2017.0    313615\n",
      "2018.0    392152\n",
      "2019.0    325801\n",
      "2020.0    360210\n",
      "2021.0    372695\n",
      "2022.0    289763\n",
      "2023.0    423272\n",
      "2024.0    305653\n",
      "Name: Salary, dtype: int64\n"
     ]
    }
   ],
   "source": [
    "# Ensure 'Joining Date' is in datetime format\n",
    "df['Joining Date'] = pd.to_datetime(df['Joining Date'], errors='coerce')\n",
    "\n",
    "# Now you can extract the year\n",
    "df['Joining Year'] = df['Joining Date'].dt.year\n",
    "\n",
    "# Calculate the total Salary paid to employees grouped by Joining Year\n",
    "total_salary_by_year = df.groupby('Joining Year')['Salary'].sum()\n",
    "\n",
    "print(total_salary_by_year)\n"
   ]
  },
  {
   "cell_type": "markdown",
   "id": "3760b1e9",
   "metadata": {
    "papermill": {
     "duration": 0.013677,
     "end_time": "2024-12-14T15:25:28.444748",
     "exception": false,
     "start_time": "2024-12-14T15:25:28.431071",
     "status": "completed"
    },
    "tags": []
   },
   "source": [
    "# 40. Department with the highest average Performance Score\n"
   ]
  },
  {
   "cell_type": "code",
   "execution_count": 46,
   "id": "0d8f9769",
   "metadata": {
    "execution": {
     "iopub.execute_input": "2024-12-14T15:25:28.479184Z",
     "iopub.status.busy": "2024-12-14T15:25:28.478856Z",
     "iopub.status.idle": "2024-12-14T15:25:28.485490Z",
     "shell.execute_reply": "2024-12-14T15:25:28.484357Z"
    },
    "papermill": {
     "duration": 0.027821,
     "end_time": "2024-12-14T15:25:28.487614",
     "exception": false,
     "start_time": "2024-12-14T15:25:28.459793",
     "status": "completed"
    },
    "tags": []
   },
   "outputs": [],
   "source": [
    "highest_avg_perf_dept = df.groupby('Department')['Performance Score'].mean().idxmax()\n"
   ]
  },
  {
   "cell_type": "markdown",
   "id": "a98c1c47",
   "metadata": {
    "papermill": {
     "duration": 0.012618,
     "end_time": "2024-12-14T15:25:28.514935",
     "exception": false,
     "start_time": "2024-12-14T15:25:28.502317",
     "status": "completed"
    },
    "tags": []
   },
   "source": [
    "# 41. Count employees in each Location grouped by Session\n"
   ]
  },
  {
   "cell_type": "code",
   "execution_count": 47,
   "id": "9a3a4682",
   "metadata": {
    "execution": {
     "iopub.execute_input": "2024-12-14T15:25:28.543149Z",
     "iopub.status.busy": "2024-12-14T15:25:28.542829Z",
     "iopub.status.idle": "2024-12-14T15:25:28.547174Z",
     "shell.execute_reply": "2024-12-14T15:25:28.546320Z"
    },
    "papermill": {
     "duration": 0.020532,
     "end_time": "2024-12-14T15:25:28.548629",
     "exception": false,
     "start_time": "2024-12-14T15:25:28.528097",
     "status": "completed"
    },
    "tags": []
   },
   "outputs": [],
   "source": [
    "if 'Session' in df.columns:\n",
    "    employee_count_by_location_session = df.groupby(['Location', 'Session']).size()\n"
   ]
  },
  {
   "cell_type": "markdown",
   "id": "2a8198b0",
   "metadata": {
    "papermill": {
     "duration": 0.014284,
     "end_time": "2024-12-14T15:25:28.577976",
     "exception": false,
     "start_time": "2024-12-14T15:25:28.563692",
     "status": "completed"
    },
    "tags": []
   },
   "source": [
    "# 42. Group employees by Status and calculate salary statistics\n"
   ]
  },
  {
   "cell_type": "code",
   "execution_count": 48,
   "id": "e0def043",
   "metadata": {
    "execution": {
     "iopub.execute_input": "2024-12-14T15:25:28.610274Z",
     "iopub.status.busy": "2024-12-14T15:25:28.609970Z",
     "iopub.status.idle": "2024-12-14T15:25:28.615834Z",
     "shell.execute_reply": "2024-12-14T15:25:28.615089Z"
    },
    "papermill": {
     "duration": 0.023005,
     "end_time": "2024-12-14T15:25:28.617263",
     "exception": false,
     "start_time": "2024-12-14T15:25:28.594258",
     "status": "completed"
    },
    "tags": []
   },
   "outputs": [],
   "source": [
    "salary_stats_by_status = df.groupby('Status')['Salary'].agg(['sum', 'mean', 'std'])\n"
   ]
  },
  {
   "cell_type": "markdown",
   "id": "c4aced40",
   "metadata": {
    "papermill": {
     "duration": 0.013069,
     "end_time": "2024-12-14T15:25:28.643561",
     "exception": false,
     "start_time": "2024-12-14T15:25:28.630492",
     "status": "completed"
    },
    "tags": []
   },
   "source": [
    "# 43. Create Monthly Salary using apply()\n"
   ]
  },
  {
   "cell_type": "code",
   "execution_count": 49,
   "id": "c2d712c5",
   "metadata": {
    "execution": {
     "iopub.execute_input": "2024-12-14T15:25:28.672728Z",
     "iopub.status.busy": "2024-12-14T15:25:28.672416Z",
     "iopub.status.idle": "2024-12-14T15:25:28.677272Z",
     "shell.execute_reply": "2024-12-14T15:25:28.676533Z"
    },
    "papermill": {
     "duration": 0.022309,
     "end_time": "2024-12-14T15:25:28.679198",
     "exception": false,
     "start_time": "2024-12-14T15:25:28.656889",
     "status": "completed"
    },
    "tags": []
   },
   "outputs": [],
   "source": [
    "df['Monthly Salary'] = df['Salary'].apply(lambda x: x / 12)\n"
   ]
  },
  {
   "cell_type": "markdown",
   "id": "6767740e",
   "metadata": {
    "papermill": {
     "duration": 0.013184,
     "end_time": "2024-12-14T15:25:28.707202",
     "exception": false,
     "start_time": "2024-12-14T15:25:28.694018",
     "status": "completed"
    },
    "tags": []
   },
   "source": [
    "# 44. Convert all string values in the DataFrame to uppercase using applymap()\n"
   ]
  },
  {
   "cell_type": "code",
   "execution_count": 50,
   "id": "f8771b5e",
   "metadata": {
    "execution": {
     "iopub.execute_input": "2024-12-14T15:25:28.737341Z",
     "iopub.status.busy": "2024-12-14T15:25:28.737007Z",
     "iopub.status.idle": "2024-12-14T15:25:28.751018Z",
     "shell.execute_reply": "2024-12-14T15:25:28.750178Z"
    },
    "papermill": {
     "duration": 0.031195,
     "end_time": "2024-12-14T15:25:28.752813",
     "exception": false,
     "start_time": "2024-12-14T15:25:28.721618",
     "status": "completed"
    },
    "tags": []
   },
   "outputs": [
    {
     "name": "stderr",
     "output_type": "stream",
     "text": [
      "/tmp/ipykernel_17/119332485.py:1: FutureWarning: DataFrame.applymap has been deprecated. Use DataFrame.map instead.\n",
      "  df_upper = df.applymap(lambda x: x.upper() if isinstance(x, str) else x)\n"
     ]
    }
   ],
   "source": [
    "df_upper = df.applymap(lambda x: x.upper() if isinstance(x, str) else x)\n"
   ]
  },
  {
   "cell_type": "markdown",
   "id": "1fc70c8b",
   "metadata": {
    "papermill": {
     "duration": 0.013021,
     "end_time": "2024-12-14T15:25:28.779638",
     "exception": false,
     "start_time": "2024-12-14T15:25:28.766617",
     "status": "completed"
    },
    "tags": []
   },
   "source": [
    "# 45. Inner join with a second dataset containing Department and Budget\n"
   ]
  },
  {
   "cell_type": "code",
   "execution_count": 51,
   "id": "e65d8089",
   "metadata": {
    "execution": {
     "iopub.execute_input": "2024-12-14T15:25:28.810654Z",
     "iopub.status.busy": "2024-12-14T15:25:28.810326Z",
     "iopub.status.idle": "2024-12-14T15:25:28.821867Z",
     "shell.execute_reply": "2024-12-14T15:25:28.821057Z"
    },
    "papermill": {
     "duration": 0.031135,
     "end_time": "2024-12-14T15:25:28.824049",
     "exception": false,
     "start_time": "2024-12-14T15:25:28.792914",
     "status": "completed"
    },
    "tags": []
   },
   "outputs": [],
   "source": [
    "budget_data = pd.DataFrame({'Department': ['Sales', 'IT', 'HR'], 'Budget': [50000, 40000, 30000]})\n",
    "df_inner_join = df.merge(budget_data, on='Department', how='inner')\n"
   ]
  },
  {
   "cell_type": "markdown",
   "id": "0f4f6a2e",
   "metadata": {
    "papermill": {
     "duration": 0.014054,
     "end_time": "2024-12-14T15:25:28.851798",
     "exception": false,
     "start_time": "2024-12-14T15:25:28.837744",
     "status": "completed"
    },
    "tags": []
   },
   "source": [
    "# 46. Merge with another dataset containing employee ID and recent projects\n"
   ]
  },
  {
   "cell_type": "code",
   "execution_count": 52,
   "id": "c873b070",
   "metadata": {
    "execution": {
     "iopub.execute_input": "2024-12-14T15:25:28.878655Z",
     "iopub.status.busy": "2024-12-14T15:25:28.878309Z",
     "iopub.status.idle": "2024-12-14T15:25:28.890012Z",
     "shell.execute_reply": "2024-12-14T15:25:28.888997Z"
    },
    "papermill": {
     "duration": 0.027311,
     "end_time": "2024-12-14T15:25:28.891847",
     "exception": false,
     "start_time": "2024-12-14T15:25:28.864536",
     "status": "completed"
    },
    "tags": []
   },
   "outputs": [],
   "source": [
    "project_data = pd.DataFrame({'Name': ['Alice', 'Bob', 'Charlie'], 'Recent Projects': [3, 5, 2]})\n",
    "df_merged = df.merge(project_data, on='Name', how='left')\n"
   ]
  },
  {
   "cell_type": "markdown",
   "id": "97c1d16f",
   "metadata": {
    "papermill": {
     "duration": 0.014478,
     "end_time": "2024-12-14T15:25:28.922507",
     "exception": false,
     "start_time": "2024-12-14T15:25:28.908029",
     "status": "completed"
    },
    "tags": []
   },
   "source": [
    "# 47. Left join with dataset containing Department and Team Lead\n"
   ]
  },
  {
   "cell_type": "code",
   "execution_count": 53,
   "id": "0879f974",
   "metadata": {
    "execution": {
     "iopub.execute_input": "2024-12-14T15:25:28.951040Z",
     "iopub.status.busy": "2024-12-14T15:25:28.950719Z",
     "iopub.status.idle": "2024-12-14T15:25:28.958886Z",
     "shell.execute_reply": "2024-12-14T15:25:28.957775Z"
    },
    "papermill": {
     "duration": 0.024558,
     "end_time": "2024-12-14T15:25:28.960927",
     "exception": false,
     "start_time": "2024-12-14T15:25:28.936369",
     "status": "completed"
    },
    "tags": []
   },
   "outputs": [],
   "source": [
    "team_lead_data = pd.DataFrame({'Department': ['Sales', 'IT', 'HR'], 'Team Lead': ['John', 'Diane', 'Sarah']})\n",
    "df_with_team_lead = df.merge(team_lead_data, on='Department', how='left')\n"
   ]
  },
  {
   "cell_type": "markdown",
   "id": "ec091c19",
   "metadata": {
    "papermill": {
     "duration": 0.014104,
     "end_time": "2024-12-14T15:25:28.989948",
     "exception": false,
     "start_time": "2024-12-14T15:25:28.975844",
     "status": "completed"
    },
    "tags": []
   },
   "source": [
    "# 48. Add employee ID and Project Count; calculate average Salary per project\n"
   ]
  },
  {
   "cell_type": "code",
   "execution_count": 54,
   "id": "eda8b2ba",
   "metadata": {
    "execution": {
     "iopub.execute_input": "2024-12-14T15:25:29.020311Z",
     "iopub.status.busy": "2024-12-14T15:25:29.019927Z",
     "iopub.status.idle": "2024-12-14T15:25:29.030772Z",
     "shell.execute_reply": "2024-12-14T15:25:29.029367Z"
    },
    "papermill": {
     "duration": 0.028293,
     "end_time": "2024-12-14T15:25:29.032463",
     "exception": false,
     "start_time": "2024-12-14T15:25:29.004170",
     "status": "completed"
    },
    "tags": []
   },
   "outputs": [],
   "source": [
    "project_count_data = pd.DataFrame({'Name': ['Alice', 'Bob', 'Charlie'], 'Project Count': [2, 4, 1]})\n",
    "df_with_projects = df.merge(project_count_data, on='Name', how='left')\n",
    "df_with_projects['Salary Per Project'] = df_with_projects['Salary'] / df_with_projects['Project Count']\n"
   ]
  },
  {
   "cell_type": "markdown",
   "id": "97ebbf40",
   "metadata": {
    "papermill": {
     "duration": 0.012501,
     "end_time": "2024-12-14T15:25:29.058276",
     "exception": false,
     "start_time": "2024-12-14T15:25:29.045775",
     "status": "completed"
    },
    "tags": []
   },
   "source": [
    "# 49. Calculate percentage increase in Salary compared to the average Salary in Department\n"
   ]
  },
  {
   "cell_type": "code",
   "execution_count": 55,
   "id": "4b71a098",
   "metadata": {
    "execution": {
     "iopub.execute_input": "2024-12-14T15:25:29.085131Z",
     "iopub.status.busy": "2024-12-14T15:25:29.084802Z",
     "iopub.status.idle": "2024-12-14T15:25:29.103224Z",
     "shell.execute_reply": "2024-12-14T15:25:29.102102Z"
    },
    "papermill": {
     "duration": 0.03498,
     "end_time": "2024-12-14T15:25:29.105618",
     "exception": false,
     "start_time": "2024-12-14T15:25:29.070638",
     "status": "completed"
    },
    "tags": []
   },
   "outputs": [
    {
     "data": {
      "text/html": [
       "<div>\n",
       "<style scoped>\n",
       "    .dataframe tbody tr th:only-of-type {\n",
       "        vertical-align: middle;\n",
       "    }\n",
       "\n",
       "    .dataframe tbody tr th {\n",
       "        vertical-align: top;\n",
       "    }\n",
       "\n",
       "    .dataframe thead th {\n",
       "        text-align: right;\n",
       "    }\n",
       "</style>\n",
       "<table border=\"1\" class=\"dataframe\">\n",
       "  <thead>\n",
       "    <tr style=\"text-align: right;\">\n",
       "      <th></th>\n",
       "      <th>ID</th>\n",
       "      <th>Name</th>\n",
       "      <th>Age</th>\n",
       "      <th>Gender</th>\n",
       "      <th>Department</th>\n",
       "      <th>Salary</th>\n",
       "      <th>Joining Date</th>\n",
       "      <th>Performance Score</th>\n",
       "      <th>Experience</th>\n",
       "      <th>Status</th>\n",
       "      <th>Location</th>\n",
       "      <th>Bonus</th>\n",
       "      <th>Salary Normalized</th>\n",
       "      <th>Experience Level</th>\n",
       "      <th>Age Group</th>\n",
       "      <th>Salary Rank</th>\n",
       "      <th>Joining Year</th>\n",
       "      <th>Monthly Salary</th>\n",
       "      <th>Salary Increase %</th>\n",
       "    </tr>\n",
       "  </thead>\n",
       "  <tbody>\n",
       "    <tr>\n",
       "      <th>0</th>\n",
       "      <td>1.0</td>\n",
       "      <td>Cory Escobar</td>\n",
       "      <td>48</td>\n",
       "      <td>Female</td>\n",
       "      <td>HR</td>\n",
       "      <td>5641</td>\n",
       "      <td>2015-05-03</td>\n",
       "      <td>2.000000</td>\n",
       "      <td>16</td>\n",
       "      <td>Active</td>\n",
       "      <td>Remote</td>\n",
       "      <td>564.1</td>\n",
       "      <td>0.454500</td>\n",
       "      <td>Senior</td>\n",
       "      <td>Middle-aged</td>\n",
       "      <td>114.0</td>\n",
       "      <td>2015.0</td>\n",
       "      <td>470.083333</td>\n",
       "      <td>-5.286399</td>\n",
       "    </tr>\n",
       "    <tr>\n",
       "      <th>2</th>\n",
       "      <td>3.0</td>\n",
       "      <td>Chad Nichols</td>\n",
       "      <td>57</td>\n",
       "      <td>Other</td>\n",
       "      <td>Sales</td>\n",
       "      <td>3058</td>\n",
       "      <td>2019-02-12</td>\n",
       "      <td>3.441128</td>\n",
       "      <td>2</td>\n",
       "      <td>Inactive</td>\n",
       "      <td>New York</td>\n",
       "      <td>305.8</td>\n",
       "      <td>0.130735</td>\n",
       "      <td>Junior</td>\n",
       "      <td>Senior</td>\n",
       "      <td>191.0</td>\n",
       "      <td>2019.0</td>\n",
       "      <td>254.833333</td>\n",
       "      <td>-47.665520</td>\n",
       "    </tr>\n",
       "    <tr>\n",
       "      <th>3</th>\n",
       "      <td>4.0</td>\n",
       "      <td>Christine Williams</td>\n",
       "      <td>58</td>\n",
       "      <td>Female</td>\n",
       "      <td>IT</td>\n",
       "      <td>5895</td>\n",
       "      <td>2017-09-08</td>\n",
       "      <td>2.000000</td>\n",
       "      <td>13</td>\n",
       "      <td>Inactive</td>\n",
       "      <td>Remote</td>\n",
       "      <td>589.5</td>\n",
       "      <td>0.486337</td>\n",
       "      <td>Senior</td>\n",
       "      <td>Senior</td>\n",
       "      <td>109.0</td>\n",
       "      <td>2017.0</td>\n",
       "      <td>491.250000</td>\n",
       "      <td>-0.137024</td>\n",
       "    </tr>\n",
       "    <tr>\n",
       "      <th>4</th>\n",
       "      <td>5.0</td>\n",
       "      <td>Amber Harris</td>\n",
       "      <td>35</td>\n",
       "      <td>Other</td>\n",
       "      <td>IT</td>\n",
       "      <td>4317</td>\n",
       "      <td>2020-02-15</td>\n",
       "      <td>5.000000</td>\n",
       "      <td>16</td>\n",
       "      <td>Inactive</td>\n",
       "      <td>New York</td>\n",
       "      <td>431.7</td>\n",
       "      <td>0.288543</td>\n",
       "      <td>Senior</td>\n",
       "      <td>Young</td>\n",
       "      <td>159.0</td>\n",
       "      <td>2020.0</td>\n",
       "      <td>359.750000</td>\n",
       "      <td>-26.868793</td>\n",
       "    </tr>\n",
       "    <tr>\n",
       "      <th>6</th>\n",
       "      <td>7.0</td>\n",
       "      <td>David Olson</td>\n",
       "      <td>39</td>\n",
       "      <td>Female</td>\n",
       "      <td>Sales</td>\n",
       "      <td>6826</td>\n",
       "      <td>2023-05-11</td>\n",
       "      <td>3.441128</td>\n",
       "      <td>4</td>\n",
       "      <td>Active</td>\n",
       "      <td>New York</td>\n",
       "      <td>682.6</td>\n",
       "      <td>0.603033</td>\n",
       "      <td>Mid</td>\n",
       "      <td>Middle-aged</td>\n",
       "      <td>90.0</td>\n",
       "      <td>2023.0</td>\n",
       "      <td>568.833333</td>\n",
       "      <td>16.819869</td>\n",
       "    </tr>\n",
       "  </tbody>\n",
       "</table>\n",
       "</div>"
      ],
      "text/plain": [
       "    ID                Name  Age  Gender Department  Salary Joining Date  \\\n",
       "0  1.0        Cory Escobar   48  Female         HR    5641   2015-05-03   \n",
       "2  3.0        Chad Nichols   57   Other      Sales    3058   2019-02-12   \n",
       "3  4.0  Christine Williams   58  Female         IT    5895   2017-09-08   \n",
       "4  5.0        Amber Harris   35   Other         IT    4317   2020-02-15   \n",
       "6  7.0         David Olson   39  Female      Sales    6826   2023-05-11   \n",
       "\n",
       "   Performance Score  Experience    Status  Location  Bonus  \\\n",
       "0           2.000000          16    Active    Remote  564.1   \n",
       "2           3.441128           2  Inactive  New York  305.8   \n",
       "3           2.000000          13  Inactive    Remote  589.5   \n",
       "4           5.000000          16  Inactive  New York  431.7   \n",
       "6           3.441128           4    Active  New York  682.6   \n",
       "\n",
       "   Salary Normalized Experience Level    Age Group  Salary Rank  Joining Year  \\\n",
       "0           0.454500           Senior  Middle-aged        114.0        2015.0   \n",
       "2           0.130735           Junior       Senior        191.0        2019.0   \n",
       "3           0.486337           Senior       Senior        109.0        2017.0   \n",
       "4           0.288543           Senior        Young        159.0        2020.0   \n",
       "6           0.603033              Mid  Middle-aged         90.0        2023.0   \n",
       "\n",
       "   Monthly Salary  Salary Increase %  \n",
       "0      470.083333          -5.286399  \n",
       "2      254.833333         -47.665520  \n",
       "3      491.250000          -0.137024  \n",
       "4      359.750000         -26.868793  \n",
       "6      568.833333          16.819869  "
      ]
     },
     "execution_count": 55,
     "metadata": {},
     "output_type": "execute_result"
    }
   ],
   "source": [
    "df['Salary Increase %'] = df['Salary'] / df.groupby('Department')['Salary'].transform('mean') * 100 - 100\n",
    "df.head()"
   ]
  },
  {
   "cell_type": "markdown",
   "id": "974a8ffa",
   "metadata": {
    "papermill": {
     "duration": 0.013165,
     "end_time": "2024-12-14T15:25:29.132222",
     "exception": false,
     "start_time": "2024-12-14T15:25:29.119057",
     "status": "completed"
    },
    "tags": []
   },
   "source": [
    "# 50. Print \"Thanks\"\n"
   ]
  },
  {
   "cell_type": "code",
   "execution_count": 56,
   "id": "7d90de97",
   "metadata": {
    "execution": {
     "iopub.execute_input": "2024-12-14T15:25:29.162754Z",
     "iopub.status.busy": "2024-12-14T15:25:29.162413Z",
     "iopub.status.idle": "2024-12-14T15:25:29.166995Z",
     "shell.execute_reply": "2024-12-14T15:25:29.166103Z"
    },
    "papermill": {
     "duration": 0.021327,
     "end_time": "2024-12-14T15:25:29.168883",
     "exception": false,
     "start_time": "2024-12-14T15:25:29.147556",
     "status": "completed"
    },
    "tags": []
   },
   "outputs": [
    {
     "name": "stdout",
     "output_type": "stream",
     "text": [
      "Thanks\n"
     ]
    }
   ],
   "source": [
    "print(\"Thanks\")\n"
   ]
  }
 ],
 "metadata": {
  "kaggle": {
   "accelerator": "none",
   "dataSources": [
    {
     "datasetId": 6273583,
     "sourceId": 10160144,
     "sourceType": "datasetVersion"
    }
   ],
   "dockerImageVersionId": 30804,
   "isGpuEnabled": false,
   "isInternetEnabled": true,
   "language": "python",
   "sourceType": "notebook"
  },
  "kernelspec": {
   "display_name": "Python 3",
   "language": "python",
   "name": "python3"
  },
  "language_info": {
   "codemirror_mode": {
    "name": "ipython",
    "version": 3
   },
   "file_extension": ".py",
   "mimetype": "text/x-python",
   "name": "python",
   "nbconvert_exporter": "python",
   "pygments_lexer": "ipython3",
   "version": "3.10.14"
  },
  "papermill": {
   "default_parameters": {},
   "duration": 7.45845,
   "end_time": "2024-12-14T15:25:29.601054",
   "environment_variables": {},
   "exception": null,
   "input_path": "__notebook__.ipynb",
   "output_path": "__notebook__.ipynb",
   "parameters": {},
   "start_time": "2024-12-14T15:25:22.142604",
   "version": "2.6.0"
  }
 },
 "nbformat": 4,
 "nbformat_minor": 5
}
